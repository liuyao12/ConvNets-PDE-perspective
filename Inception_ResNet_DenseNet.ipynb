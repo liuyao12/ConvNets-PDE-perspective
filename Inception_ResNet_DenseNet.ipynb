{
  "cells": [
    {
      "cell_type": "markdown",
      "metadata": {
        "id": "view-in-github",
        "colab_type": "text"
      },
      "source": [
        "<a href=\"https://colab.research.google.com/github/liuyao12/ConvNets-PDE-perspective/blob/main/Inception_ResNet_DenseNet.ipynb\" target=\"_parent\"><img src=\"https://colab.research.google.com/assets/colab-badge.svg\" alt=\"Open In Colab\"/></a>"
      ]
    },
    {
      "cell_type": "markdown",
      "metadata": {
        "id": "btN0T3TYNbFo"
      },
      "source": [
        "# Tutorial 5: Inception, ResNet and DenseNet\n",
        "\n",
        "![Status](https://img.shields.io/static/v1.svg?label=Status&message=Finished&color=green)\n",
        "\n",
        "\n",
        "**Filled notebook:** \n",
        "[![View on Github](https://img.shields.io/static/v1.svg?logo=github&label=Repo&message=View%20On%20Github&color=lightgrey)](https://github.com/phlippe/uvadlc_notebooks/blob/master/docs/tutorial_notebooks/tutorial5/Inception_ResNet_DenseNet.ipynb)\n",
        "[![Open In Collab](https://colab.research.google.com/assets/colab-badge.svg)](https://colab.research.google.com/github/phlippe/uvadlc_notebooks/blob/master/docs/tutorial_notebooks/tutorial5/Inception_ResNet_DenseNet.ipynb)   \n",
        "**Pre-trained models:** \n",
        "[![View files on Github](https://img.shields.io/static/v1.svg?logo=github&label=Repo&message=View%20On%20Github&color=lightgrey)](https://github.com/phlippe/saved_models/tree/main/tutorial5)\n",
        "[![GoogleDrive](https://img.shields.io/static/v1.svg?logo=google-drive&logoColor=yellow&label=GDrive&message=Download&color=yellow)](https://drive.google.com/drive/folders/1zOgLKmYJ2V3uHz57nPUMY6tq15RmEtNg?usp=sharing)   \n",
        "**Recordings:** \n",
        "[![YouTube - Part 1](https://img.shields.io/static/v1.svg?logo=youtube&label=YouTube&message=Part%201&color=red)](https://youtu.be/vjSSyGxlczs)\n",
        "[![YouTube - Part 2](https://img.shields.io/static/v1.svg?logo=youtube&label=YouTube&message=Part%202&color=red)](https://youtu.be/9yRXqYJDHr4)\n",
        "[![YouTube - Part 3](https://img.shields.io/static/v1.svg?logo=youtube&label=YouTube&message=Part%203&color=red)](https://youtu.be/ELEqNwv9vkE)   \n",
        "**JAX+Flax version:**\n",
        "[![View on RTD](https://img.shields.io/static/v1.svg?logo=readthedocs&label=RTD&message=View%20On%20RTD&color=8CA1AF)](https://uvadlc-notebooks.readthedocs.io/en/latest/tutorial_notebooks/JAX/tutorial5/Inception_ResNet_DenseNet.html)   \n",
        "**Author:** Phillip Lippe"
      ]
    },
    {
      "cell_type": "markdown",
      "metadata": {
        "id": "3c4xXixgNbFr"
      },
      "source": [
        "<div class=\"alert alert-info\">\n",
        "\n",
        "**Note:** Interested in JAX? Check out our [JAX+Flax version](https://uvadlc-notebooks.readthedocs.io/en/latest/tutorial_notebooks/JAX/tutorial5/Inception_ResNet_DenseNet.html) of this tutorial!\n",
        "</div>"
      ]
    },
    {
      "cell_type": "markdown",
      "metadata": {
        "id": "nw6CIO7rNbFr"
      },
      "source": [
        "In this tutorial, we will implement and discuss variants of modern CNN architectures. There have been many different architectures been proposed over the past few years. Some of the most impactful ones, and still relevant today, are the following: [GoogleNet](https://arxiv.org/abs/1409.4842)/Inception architecture (winner of ILSVRC 2014), [ResNet](https://arxiv.org/abs/1512.03385) (winner of ILSVRC 2015), and [DenseNet](https://arxiv.org/abs/1608.06993) (best paper award CVPR 2017). All of them were state-of-the-art models when being proposed, and the core ideas of these networks are the foundations for most current state-of-the-art architectures. Thus, it is important to understand these architectures in detail and learn how to implement them. \n",
        "\n",
        "Let's start with importing our standard libraries here."
      ]
    },
    {
      "cell_type": "code",
      "execution_count": null,
      "metadata": {
        "id": "djw9e4kiNbFs"
      },
      "outputs": [],
      "source": [
        "## Standard libraries\n",
        "import os\n",
        "import numpy as np \n",
        "import random\n",
        "from PIL import Image\n",
        "from types import SimpleNamespace\n",
        "\n",
        "## Imports for plotting\n",
        "import matplotlib.pyplot as plt\n",
        "%matplotlib inline \n",
        "from IPython.display import set_matplotlib_formats\n",
        "set_matplotlib_formats('svg', 'pdf') # For export\n",
        "import matplotlib\n",
        "matplotlib.rcParams['lines.linewidth'] = 2.0\n",
        "import seaborn as sns\n",
        "sns.reset_orig()\n",
        "\n",
        "## PyTorch\n",
        "import torch\n",
        "import torch.nn as nn\n",
        "import torch.nn.functional as F\n",
        "import torch.utils.data as data\n",
        "import torch.optim as optim\n",
        "# Torchvision\n",
        "import torchvision\n",
        "from torchvision.datasets import CIFAR10\n",
        "from torchvision import transforms"
      ]
    },
    {
      "cell_type": "code",
      "execution_count": null,
      "metadata": {
        "colab": {
          "base_uri": "https://localhost:8080/"
        },
        "id": "ADZMgpD8vOmg",
        "outputId": "225961ba-cfe5-4175-973f-456a6d016975"
      },
      "outputs": [
        {
          "output_type": "execute_result",
          "data": {
            "text/plain": [
              "True"
            ]
          },
          "metadata": {},
          "execution_count": 26
        }
      ],
      "source": [
        "torch.cuda.is_available()"
      ]
    },
    {
      "cell_type": "markdown",
      "metadata": {
        "id": "RXv8_qrBNbFs"
      },
      "source": [
        "We will use the same `set_seed` function as in the previous tutorials, as well as the path variables `DATASET_PATH` and `CHECKPOINT_PATH`. Adjust the paths if necessary."
      ]
    },
    {
      "cell_type": "code",
      "execution_count": null,
      "metadata": {
        "id": "r1VQat0SNbFt"
      },
      "outputs": [],
      "source": [
        "# Path to the folder where the datasets are/should be downloaded (e.g. CIFAR10)\n",
        "DATASET_PATH = \"../data\"\n",
        "# Path to the folder where the pretrained models are saved\n",
        "CHECKPOINT_PATH = \"../saved_models/tutorial5\"\n",
        "\n",
        "# Function for setting the seed\n",
        "def set_seed(seed):\n",
        "    random.seed(seed)\n",
        "    np.random.seed(seed)\n",
        "    torch.manual_seed(seed)\n",
        "    if torch.cuda.is_available():\n",
        "        torch.cuda.manual_seed(seed)\n",
        "        torch.cuda.manual_seed_all(seed)\n",
        "set_seed(42)\n",
        "\n",
        "# Ensure that all operations are deterministic on GPU (if used) for reproducibility\n",
        "torch.backends.cudnn.deterministic = True\n",
        "torch.backends.cudnn.benchmark = False\n",
        "\n",
        "device = torch.device(\"cuda:0\") if torch.cuda.is_available() else torch.device(\"cpu\")"
      ]
    },
    {
      "cell_type": "markdown",
      "metadata": {
        "id": "xNxUR8EMNbFt"
      },
      "source": [
        "We also have pretrained models and Tensorboards (more on this later) for this tutorial, and download them below."
      ]
    },
    {
      "cell_type": "code",
      "execution_count": null,
      "metadata": {
        "id": "S3hHmTs_NbFt"
      },
      "outputs": [],
      "source": [
        "import urllib.request\n",
        "from urllib.error import HTTPError\n",
        "# Github URL where saved models are stored for this tutorial\n",
        "base_url = \"https://raw.githubusercontent.com/phlippe/saved_models/main/tutorial5/\"\n",
        "# Files to download\n",
        "pretrained_files = [\"GoogleNet.ckpt\", \"ResNet.ckpt\", \"ResNetPreAct.ckpt\", \"DenseNet.ckpt\",\n",
        "                    \"tensorboards/GoogleNet/events.out.tfevents.googlenet\",\n",
        "                    \"tensorboards/ResNet/events.out.tfevents.resnet\",\n",
        "                    \"tensorboards/ResNetPreAct/events.out.tfevents.resnetpreact\",\n",
        "                    \"tensorboards/DenseNet/events.out.tfevents.densenet\"]\n",
        "# Create checkpoint path if it doesn't exist yet\n",
        "os.makedirs(CHECKPOINT_PATH, exist_ok=True)\n",
        "\n",
        "# For each file, check whether it already exists. If not, try downloading it.\n",
        "for file_name in pretrained_files:\n",
        "    file_path = os.path.join(CHECKPOINT_PATH, file_name)\n",
        "    if \"/\" in file_name:\n",
        "        os.makedirs(file_path.rsplit(\"/\",1)[0], exist_ok=True)\n",
        "    if not os.path.isfile(file_path):\n",
        "        file_url = base_url + file_name\n",
        "        print(f\"Downloading {file_url}...\")\n",
        "        try:\n",
        "            urllib.request.urlretrieve(file_url, file_path)\n",
        "        except HTTPError as e:\n",
        "            print(\"Something went wrong. Please try to download the file from the GDrive folder, or contact the author with the full output including the following error:\\n\", e)"
      ]
    },
    {
      "cell_type": "markdown",
      "metadata": {
        "id": "LEhWF3i4NbFu"
      },
      "source": [
        "Throughout this tutorial, we will train and evaluate the models on the CIFAR10 dataset. This allows you to compare the results obtained here with the model you have implemented in the first assignment. As we have learned from the previous tutorial about initialization, it is important to have the data preprocessed with a zero mean. Therefore, as a first step, we will calculate the mean and standard deviation of the CIFAR dataset:"
      ]
    },
    {
      "cell_type": "code",
      "execution_count": null,
      "metadata": {
        "colab": {
          "base_uri": "https://localhost:8080/"
        },
        "id": "6wBwhrC3NbFu",
        "outputId": "0b8eb21e-e49b-4002-995d-a54094ac5b15"
      },
      "outputs": [
        {
          "output_type": "stream",
          "name": "stdout",
          "text": [
            "Files already downloaded and verified\n",
            "Data mean [0.49139968 0.48215841 0.44653091]\n",
            "Data std [0.24703223 0.24348513 0.26158784]\n"
          ]
        }
      ],
      "source": [
        "train_dataset = CIFAR10(root=DATASET_PATH, train=True, download=True)\n",
        "DATA_MEANS = (train_dataset.data / 255.0).mean(axis=(0,1,2))\n",
        "DATA_STD = (train_dataset.data / 255.0).std(axis=(0,1,2))\n",
        "print(\"Data mean\", DATA_MEANS)\n",
        "print(\"Data std\", DATA_STD)"
      ]
    },
    {
      "cell_type": "markdown",
      "metadata": {
        "id": "cMoUOZglNbFu"
      },
      "source": [
        "We will use this information to define a `transforms.Normalize` module which will normalize our data accordingly. Additionally, we will use data augmentation during training. This reduces the risk of overfitting and helps CNNs to generalize better. Specifically, we will apply two random augmentations. \n",
        "\n",
        "First, we will flip each image horizontally by a chance of 50% (`transforms.RandomHorizontalFlip`). The object class usually does not change when flipping an image, and we don't expect any image information to be dependent on the horizontal orientation. This would be however different if we would try to detect digits or letters in an image, as those have a certain orientation.\n",
        "\n",
        "The second augmentation we use is called `transforms.RandomResizedCrop`. This transformation scales the image in a small range, while eventually changing the aspect ratio, and crops it afterward in the previous size. Therefore, the actual pixel values change while the content or overall semantics of the image stays the same. \n",
        "\n",
        "We will randomly split the training dataset into a training and a validation set. The validation set will be used for determining early stopping. After finishing the training, we test the models on the CIFAR test set."
      ]
    },
    {
      "cell_type": "code",
      "execution_count": null,
      "metadata": {
        "colab": {
          "base_uri": "https://localhost:8080/"
        },
        "id": "6ESQmDaGNbFv",
        "outputId": "9dfae224-583d-4055-a997-788e95086312"
      },
      "outputs": [
        {
          "output_type": "stream",
          "name": "stdout",
          "text": [
            "Files already downloaded and verified\n",
            "Files already downloaded and verified\n",
            "Files already downloaded and verified\n"
          ]
        },
        {
          "output_type": "stream",
          "name": "stderr",
          "text": [
            "/usr/local/lib/python3.7/dist-packages/torch/utils/data/dataloader.py:566: UserWarning: This DataLoader will create 4 worker processes in total. Our suggested max number of worker in current system is 2, which is smaller than what this DataLoader is going to create. Please be aware that excessive worker creation might get DataLoader running slow or even freeze, lower the worker number to avoid potential slowness/freeze if necessary.\n",
            "  cpuset_checked))\n"
          ]
        }
      ],
      "source": [
        "test_transform = transforms.Compose([transforms.ToTensor(),\n",
        "                                     transforms.Normalize(DATA_MEANS, DATA_STD)\n",
        "                                     ])\n",
        "# For training, we add some augmentation. Networks are too powerful and would overfit.\n",
        "train_transform = transforms.Compose([transforms.RandomHorizontalFlip(),\n",
        "                                      transforms.RandomResizedCrop((32,32),scale=(0.8,1.0),ratio=(0.9,1.1)),\n",
        "                                      transforms.ToTensor(),\n",
        "                                      transforms.Normalize(DATA_MEANS, DATA_STD)\n",
        "                                     ])\n",
        "# Loading the training dataset. We need to split it into a training and validation part\n",
        "# We need to do a little trick because the validation set should not use the augmentation.\n",
        "train_dataset = CIFAR10(root=DATASET_PATH, train=True, transform=train_transform, download=True)\n",
        "val_dataset = CIFAR10(root=DATASET_PATH, train=True, transform=test_transform, download=True)\n",
        "set_seed(42)\n",
        "train_set, _ = torch.utils.data.random_split(train_dataset, [45000, 5000])\n",
        "set_seed(42)\n",
        "_, val_set = torch.utils.data.random_split(val_dataset, [45000, 5000])\n",
        "\n",
        "# Loading the test set\n",
        "test_set = CIFAR10(root=DATASET_PATH, train=False, transform=test_transform, download=True)\n",
        "\n",
        "# We define a set of data loaders that we can use for various purposes later.\n",
        "train_loader = data.DataLoader(train_set, batch_size=128, shuffle=True, drop_last=True, pin_memory=True, num_workers=4)\n",
        "val_loader = data.DataLoader(val_set, batch_size=128, shuffle=False, drop_last=False, num_workers=4)\n",
        "test_loader = data.DataLoader(test_set, batch_size=128, shuffle=False, drop_last=False, num_workers=4)"
      ]
    },
    {
      "cell_type": "markdown",
      "metadata": {
        "id": "oTi7ZnpSNbFv"
      },
      "source": [
        "To verify that our normalization works, we can print out the mean and standard deviation of the single batch. The mean should be close to 0 and the standard deviation close to 1 for each channel:"
      ]
    },
    {
      "cell_type": "code",
      "execution_count": null,
      "metadata": {
        "id": "FxujsZMfNbFv",
        "outputId": "dcc583b8-f8ed-4d7d-dc0c-6411a4808a2e",
        "colab": {
          "base_uri": "https://localhost:8080/"
        }
      },
      "outputs": [
        {
          "output_type": "stream",
          "name": "stdout",
          "text": [
            "Batch mean tensor([0.0231, 0.0006, 0.0005])\n",
            "Batch std tensor([0.9865, 0.9849, 0.9868])\n"
          ]
        }
      ],
      "source": [
        "imgs, _ = next(iter(train_loader))\n",
        "print(\"Batch mean\", imgs.mean(dim=[0,2,3]))\n",
        "print(\"Batch std\", imgs.std(dim=[0,2,3]))"
      ]
    },
    {
      "cell_type": "markdown",
      "metadata": {
        "id": "g36TUdy4NbFv"
      },
      "source": [
        "Finally, let's visualize a few images from the training set, and how they look like after random data augmentation: "
      ]
    },
    {
      "cell_type": "code",
      "execution_count": null,
      "metadata": {
        "colab": {
          "base_uri": "https://localhost:8080/",
          "height": 363
        },
        "id": "IfKsX4W9NbFv",
        "outputId": "6e3f29ee-4702-4945-e764-aaf635fb3f27"
      },
      "outputs": [
        {
          "output_type": "display_data",
          "data": {
            "text/plain": [
              "<Figure size 576x576 with 1 Axes>"
            ],
            "image/svg+xml": "<?xml version=\"1.0\" encoding=\"utf-8\" standalone=\"no\"?>\n<!DOCTYPE svg PUBLIC \"-//W3C//DTD SVG 1.1//EN\"\n  \"http://www.w3.org/Graphics/SVG/1.1/DTD/svg11.dtd\">\n<!-- Created with matplotlib (https://matplotlib.org/) -->\n<svg height=\"255.952908pt\" version=\"1.1\" viewBox=\"0 0 460.8 255.952908\" width=\"460.8pt\" xmlns=\"http://www.w3.org/2000/svg\" xmlns:xlink=\"http://www.w3.org/1999/xlink\">\n <defs>\n  <style type=\"text/css\">\n*{stroke-linecap:butt;stroke-linejoin:round;}\n  </style>\n </defs>\n <g id=\"figure_1\">\n  <g id=\"patch_1\">\n   <path d=\"M 0 255.952908 \nL 460.8 255.952908 \nL 460.8 0 \nL 0 0 \nz\n\" style=\"fill:none;\"/>\n  </g>\n  <g id=\"axes_1\">\n   <g clip-path=\"url(#p33549452cc)\">\n    <image height=\"227\" id=\"image16d01e40c7\" transform=\"scale(1 -1)translate(0 -227)\" width=\"447\" x=\"7.2\" xlink:href=\"data:image/png;base64,\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\" y=\"-21.752908\"/>\n   </g>\n   <g id=\"text_1\">\n    <!-- Augmentation examples on CIFAR10 -->\n    <defs>\n     <path d=\"M 34.1875 63.1875 \nL 20.796875 26.90625 \nL 47.609375 26.90625 \nz\nM 28.609375 72.90625 \nL 39.796875 72.90625 \nL 67.578125 0 \nL 57.328125 0 \nL 50.6875 18.703125 \nL 17.828125 18.703125 \nL 11.1875 0 \nL 0.78125 0 \nz\n\" id=\"DejaVuSans-65\"/>\n     <path d=\"M 8.5 21.578125 \nL 8.5 54.6875 \nL 17.484375 54.6875 \nL 17.484375 21.921875 \nQ 17.484375 14.15625 20.5 10.265625 \nQ 23.53125 6.390625 29.59375 6.390625 \nQ 36.859375 6.390625 41.078125 11.03125 \nQ 45.3125 15.671875 45.3125 23.6875 \nL 45.3125 54.6875 \nL 54.296875 54.6875 \nL 54.296875 0 \nL 45.3125 0 \nL 45.3125 8.40625 \nQ 42.046875 3.421875 37.71875 1 \nQ 33.40625 -1.421875 27.6875 -1.421875 \nQ 18.265625 -1.421875 13.375 4.4375 \nQ 8.5 10.296875 8.5 21.578125 \nz\nM 31.109375 56 \nz\n\" id=\"DejaVuSans-117\"/>\n     <path d=\"M 45.40625 27.984375 \nQ 45.40625 37.75 41.375 43.109375 \nQ 37.359375 48.484375 30.078125 48.484375 \nQ 22.859375 48.484375 18.828125 43.109375 \nQ 14.796875 37.75 14.796875 27.984375 \nQ 14.796875 18.265625 18.828125 12.890625 \nQ 22.859375 7.515625 30.078125 7.515625 \nQ 37.359375 7.515625 41.375 12.890625 \nQ 45.40625 18.265625 45.40625 27.984375 \nz\nM 54.390625 6.78125 \nQ 54.390625 -7.171875 48.1875 -13.984375 \nQ 42 -20.796875 29.203125 -20.796875 \nQ 24.46875 -20.796875 20.265625 -20.09375 \nQ 16.0625 -19.390625 12.109375 -17.921875 \nL 12.109375 -9.1875 \nQ 16.0625 -11.328125 19.921875 -12.34375 \nQ 23.78125 -13.375 27.78125 -13.375 \nQ 36.625 -13.375 41.015625 -8.765625 \nQ 45.40625 -4.15625 45.40625 5.171875 \nL 45.40625 9.625 \nQ 42.625 4.78125 38.28125 2.390625 \nQ 33.9375 0 27.875 0 \nQ 17.828125 0 11.671875 7.65625 \nQ 5.515625 15.328125 5.515625 27.984375 \nQ 5.515625 40.671875 11.671875 48.328125 \nQ 17.828125 56 27.875 56 \nQ 33.9375 56 38.28125 53.609375 \nQ 42.625 51.21875 45.40625 46.390625 \nL 45.40625 54.6875 \nL 54.390625 54.6875 \nz\n\" id=\"DejaVuSans-103\"/>\n     <path d=\"M 52 44.1875 \nQ 55.375 50.25 60.0625 53.125 \nQ 64.75 56 71.09375 56 \nQ 79.640625 56 84.28125 50.015625 \nQ 88.921875 44.046875 88.921875 33.015625 \nL 88.921875 0 \nL 79.890625 0 \nL 79.890625 32.71875 \nQ 79.890625 40.578125 77.09375 44.375 \nQ 74.3125 48.1875 68.609375 48.1875 \nQ 61.625 48.1875 57.5625 43.546875 \nQ 53.515625 38.921875 53.515625 30.90625 \nL 53.515625 0 \nL 44.484375 0 \nL 44.484375 32.71875 \nQ 44.484375 40.625 41.703125 44.40625 \nQ 38.921875 48.1875 33.109375 48.1875 \nQ 26.21875 48.1875 22.15625 43.53125 \nQ 18.109375 38.875 18.109375 30.90625 \nL 18.109375 0 \nL 9.078125 0 \nL 9.078125 54.6875 \nL 18.109375 54.6875 \nL 18.109375 46.1875 \nQ 21.1875 51.21875 25.484375 53.609375 \nQ 29.78125 56 35.6875 56 \nQ 41.65625 56 45.828125 52.96875 \nQ 50 49.953125 52 44.1875 \nz\n\" id=\"DejaVuSans-109\"/>\n     <path d=\"M 56.203125 29.59375 \nL 56.203125 25.203125 \nL 14.890625 25.203125 \nQ 15.484375 15.921875 20.484375 11.0625 \nQ 25.484375 6.203125 34.421875 6.203125 \nQ 39.59375 6.203125 44.453125 7.46875 \nQ 49.3125 8.734375 54.109375 11.28125 \nL 54.109375 2.78125 \nQ 49.265625 0.734375 44.1875 -0.34375 \nQ 39.109375 -1.421875 33.890625 -1.421875 \nQ 20.796875 -1.421875 13.15625 6.1875 \nQ 5.515625 13.8125 5.515625 26.8125 \nQ 5.515625 40.234375 12.765625 48.109375 \nQ 20.015625 56 32.328125 56 \nQ 43.359375 56 49.78125 48.890625 \nQ 56.203125 41.796875 56.203125 29.59375 \nz\nM 47.21875 32.234375 \nQ 47.125 39.59375 43.09375 43.984375 \nQ 39.0625 48.390625 32.421875 48.390625 \nQ 24.90625 48.390625 20.390625 44.140625 \nQ 15.875 39.890625 15.1875 32.171875 \nz\n\" id=\"DejaVuSans-101\"/>\n     <path d=\"M 54.890625 33.015625 \nL 54.890625 0 \nL 45.90625 0 \nL 45.90625 32.71875 \nQ 45.90625 40.484375 42.875 44.328125 \nQ 39.84375 48.1875 33.796875 48.1875 \nQ 26.515625 48.1875 22.3125 43.546875 \nQ 18.109375 38.921875 18.109375 30.90625 \nL 18.109375 0 \nL 9.078125 0 \nL 9.078125 54.6875 \nL 18.109375 54.6875 \nL 18.109375 46.1875 \nQ 21.34375 51.125 25.703125 53.5625 \nQ 30.078125 56 35.796875 56 \nQ 45.21875 56 50.046875 50.171875 \nQ 54.890625 44.34375 54.890625 33.015625 \nz\n\" id=\"DejaVuSans-110\"/>\n     <path d=\"M 18.3125 70.21875 \nL 18.3125 54.6875 \nL 36.8125 54.6875 \nL 36.8125 47.703125 \nL 18.3125 47.703125 \nL 18.3125 18.015625 \nQ 18.3125 11.328125 20.140625 9.421875 \nQ 21.96875 7.515625 27.59375 7.515625 \nL 36.8125 7.515625 \nL 36.8125 0 \nL 27.59375 0 \nQ 17.1875 0 13.234375 3.875 \nQ 9.28125 7.765625 9.28125 18.015625 \nL 9.28125 47.703125 \nL 2.6875 47.703125 \nL 2.6875 54.6875 \nL 9.28125 54.6875 \nL 9.28125 70.21875 \nz\n\" id=\"DejaVuSans-116\"/>\n     <path d=\"M 34.28125 27.484375 \nQ 23.390625 27.484375 19.1875 25 \nQ 14.984375 22.515625 14.984375 16.5 \nQ 14.984375 11.71875 18.140625 8.90625 \nQ 21.296875 6.109375 26.703125 6.109375 \nQ 34.1875 6.109375 38.703125 11.40625 \nQ 43.21875 16.703125 43.21875 25.484375 \nL 43.21875 27.484375 \nz\nM 52.203125 31.203125 \nL 52.203125 0 \nL 43.21875 0 \nL 43.21875 8.296875 \nQ 40.140625 3.328125 35.546875 0.953125 \nQ 30.953125 -1.421875 24.3125 -1.421875 \nQ 15.921875 -1.421875 10.953125 3.296875 \nQ 6 8.015625 6 15.921875 \nQ 6 25.140625 12.171875 29.828125 \nQ 18.359375 34.515625 30.609375 34.515625 \nL 43.21875 34.515625 \nL 43.21875 35.40625 \nQ 43.21875 41.609375 39.140625 45 \nQ 35.0625 48.390625 27.6875 48.390625 \nQ 23 48.390625 18.546875 47.265625 \nQ 14.109375 46.140625 10.015625 43.890625 \nL 10.015625 52.203125 \nQ 14.9375 54.109375 19.578125 55.046875 \nQ 24.21875 56 28.609375 56 \nQ 40.484375 56 46.34375 49.84375 \nQ 52.203125 43.703125 52.203125 31.203125 \nz\n\" id=\"DejaVuSans-97\"/>\n     <path d=\"M 9.421875 54.6875 \nL 18.40625 54.6875 \nL 18.40625 0 \nL 9.421875 0 \nz\nM 9.421875 75.984375 \nL 18.40625 75.984375 \nL 18.40625 64.59375 \nL 9.421875 64.59375 \nz\n\" id=\"DejaVuSans-105\"/>\n     <path d=\"M 30.609375 48.390625 \nQ 23.390625 48.390625 19.1875 42.75 \nQ 14.984375 37.109375 14.984375 27.296875 \nQ 14.984375 17.484375 19.15625 11.84375 \nQ 23.34375 6.203125 30.609375 6.203125 \nQ 37.796875 6.203125 41.984375 11.859375 \nQ 46.1875 17.53125 46.1875 27.296875 \nQ 46.1875 37.015625 41.984375 42.703125 \nQ 37.796875 48.390625 30.609375 48.390625 \nz\nM 30.609375 56 \nQ 42.328125 56 49.015625 48.375 \nQ 55.71875 40.765625 55.71875 27.296875 \nQ 55.71875 13.875 49.015625 6.21875 \nQ 42.328125 -1.421875 30.609375 -1.421875 \nQ 18.84375 -1.421875 12.171875 6.21875 \nQ 5.515625 13.875 5.515625 27.296875 \nQ 5.515625 40.765625 12.171875 48.375 \nQ 18.84375 56 30.609375 56 \nz\n\" id=\"DejaVuSans-111\"/>\n     <path id=\"DejaVuSans-32\"/>\n     <path d=\"M 54.890625 54.6875 \nL 35.109375 28.078125 \nL 55.90625 0 \nL 45.3125 0 \nL 29.390625 21.484375 \nL 13.484375 0 \nL 2.875 0 \nL 24.125 28.609375 \nL 4.6875 54.6875 \nL 15.28125 54.6875 \nL 29.78125 35.203125 \nL 44.28125 54.6875 \nz\n\" id=\"DejaVuSans-120\"/>\n     <path d=\"M 18.109375 8.203125 \nL 18.109375 -20.796875 \nL 9.078125 -20.796875 \nL 9.078125 54.6875 \nL 18.109375 54.6875 \nL 18.109375 46.390625 \nQ 20.953125 51.265625 25.265625 53.625 \nQ 29.59375 56 35.59375 56 \nQ 45.5625 56 51.78125 48.09375 \nQ 58.015625 40.1875 58.015625 27.296875 \nQ 58.015625 14.40625 51.78125 6.484375 \nQ 45.5625 -1.421875 35.59375 -1.421875 \nQ 29.59375 -1.421875 25.265625 0.953125 \nQ 20.953125 3.328125 18.109375 8.203125 \nz\nM 48.6875 27.296875 \nQ 48.6875 37.203125 44.609375 42.84375 \nQ 40.53125 48.484375 33.40625 48.484375 \nQ 26.265625 48.484375 22.1875 42.84375 \nQ 18.109375 37.203125 18.109375 27.296875 \nQ 18.109375 17.390625 22.1875 11.75 \nQ 26.265625 6.109375 33.40625 6.109375 \nQ 40.53125 6.109375 44.609375 11.75 \nQ 48.6875 17.390625 48.6875 27.296875 \nz\n\" id=\"DejaVuSans-112\"/>\n     <path d=\"M 9.421875 75.984375 \nL 18.40625 75.984375 \nL 18.40625 0 \nL 9.421875 0 \nz\n\" id=\"DejaVuSans-108\"/>\n     <path d=\"M 44.28125 53.078125 \nL 44.28125 44.578125 \nQ 40.484375 46.53125 36.375 47.5 \nQ 32.28125 48.484375 27.875 48.484375 \nQ 21.1875 48.484375 17.84375 46.4375 \nQ 14.5 44.390625 14.5 40.28125 \nQ 14.5 37.15625 16.890625 35.375 \nQ 19.28125 33.59375 26.515625 31.984375 \nL 29.59375 31.296875 \nQ 39.15625 29.25 43.1875 25.515625 \nQ 47.21875 21.78125 47.21875 15.09375 \nQ 47.21875 7.46875 41.1875 3.015625 \nQ 35.15625 -1.421875 24.609375 -1.421875 \nQ 20.21875 -1.421875 15.453125 -0.5625 \nQ 10.6875 0.296875 5.421875 2 \nL 5.421875 11.28125 \nQ 10.40625 8.6875 15.234375 7.390625 \nQ 20.0625 6.109375 24.8125 6.109375 \nQ 31.15625 6.109375 34.5625 8.28125 \nQ 37.984375 10.453125 37.984375 14.40625 \nQ 37.984375 18.0625 35.515625 20.015625 \nQ 33.0625 21.96875 24.703125 23.78125 \nL 21.578125 24.515625 \nQ 13.234375 26.265625 9.515625 29.90625 \nQ 5.8125 33.546875 5.8125 39.890625 \nQ 5.8125 47.609375 11.28125 51.796875 \nQ 16.75 56 26.8125 56 \nQ 31.78125 56 36.171875 55.265625 \nQ 40.578125 54.546875 44.28125 53.078125 \nz\n\" id=\"DejaVuSans-115\"/>\n     <path d=\"M 64.40625 67.28125 \nL 64.40625 56.890625 \nQ 59.421875 61.53125 53.78125 63.8125 \nQ 48.140625 66.109375 41.796875 66.109375 \nQ 29.296875 66.109375 22.65625 58.46875 \nQ 16.015625 50.828125 16.015625 36.375 \nQ 16.015625 21.96875 22.65625 14.328125 \nQ 29.296875 6.6875 41.796875 6.6875 \nQ 48.140625 6.6875 53.78125 8.984375 \nQ 59.421875 11.28125 64.40625 15.921875 \nL 64.40625 5.609375 \nQ 59.234375 2.09375 53.4375 0.328125 \nQ 47.65625 -1.421875 41.21875 -1.421875 \nQ 24.65625 -1.421875 15.125 8.703125 \nQ 5.609375 18.84375 5.609375 36.375 \nQ 5.609375 53.953125 15.125 64.078125 \nQ 24.65625 74.21875 41.21875 74.21875 \nQ 47.75 74.21875 53.53125 72.484375 \nQ 59.328125 70.75 64.40625 67.28125 \nz\n\" id=\"DejaVuSans-67\"/>\n     <path d=\"M 9.8125 72.90625 \nL 19.671875 72.90625 \nL 19.671875 0 \nL 9.8125 0 \nz\n\" id=\"DejaVuSans-73\"/>\n     <path d=\"M 9.8125 72.90625 \nL 51.703125 72.90625 \nL 51.703125 64.59375 \nL 19.671875 64.59375 \nL 19.671875 43.109375 \nL 48.578125 43.109375 \nL 48.578125 34.8125 \nL 19.671875 34.8125 \nL 19.671875 0 \nL 9.8125 0 \nz\n\" id=\"DejaVuSans-70\"/>\n     <path d=\"M 44.390625 34.1875 \nQ 47.5625 33.109375 50.5625 29.59375 \nQ 53.5625 26.078125 56.59375 19.921875 \nL 66.609375 0 \nL 56 0 \nL 46.6875 18.703125 \nQ 43.0625 26.03125 39.671875 28.421875 \nQ 36.28125 30.8125 30.421875 30.8125 \nL 19.671875 30.8125 \nL 19.671875 0 \nL 9.8125 0 \nL 9.8125 72.90625 \nL 32.078125 72.90625 \nQ 44.578125 72.90625 50.734375 67.671875 \nQ 56.890625 62.453125 56.890625 51.90625 \nQ 56.890625 45.015625 53.6875 40.46875 \nQ 50.484375 35.9375 44.390625 34.1875 \nz\nM 19.671875 64.796875 \nL 19.671875 38.921875 \nL 32.078125 38.921875 \nQ 39.203125 38.921875 42.84375 42.21875 \nQ 46.484375 45.515625 46.484375 51.90625 \nQ 46.484375 58.296875 42.84375 61.546875 \nQ 39.203125 64.796875 32.078125 64.796875 \nz\n\" id=\"DejaVuSans-82\"/>\n     <path d=\"M 12.40625 8.296875 \nL 28.515625 8.296875 \nL 28.515625 63.921875 \nL 10.984375 60.40625 \nL 10.984375 69.390625 \nL 28.421875 72.90625 \nL 38.28125 72.90625 \nL 38.28125 8.296875 \nL 54.390625 8.296875 \nL 54.390625 0 \nL 12.40625 0 \nz\n\" id=\"DejaVuSans-49\"/>\n     <path d=\"M 31.78125 66.40625 \nQ 24.171875 66.40625 20.328125 58.90625 \nQ 16.5 51.421875 16.5 36.375 \nQ 16.5 21.390625 20.328125 13.890625 \nQ 24.171875 6.390625 31.78125 6.390625 \nQ 39.453125 6.390625 43.28125 13.890625 \nQ 47.125 21.390625 47.125 36.375 \nQ 47.125 51.421875 43.28125 58.90625 \nQ 39.453125 66.40625 31.78125 66.40625 \nz\nM 31.78125 74.21875 \nQ 44.046875 74.21875 50.515625 64.515625 \nQ 56.984375 54.828125 56.984375 36.375 \nQ 56.984375 17.96875 50.515625 8.265625 \nQ 44.046875 -1.421875 31.78125 -1.421875 \nQ 19.53125 -1.421875 13.0625 8.265625 \nQ 6.59375 17.96875 6.59375 36.375 \nQ 6.59375 54.828125 13.0625 64.515625 \nQ 19.53125 74.21875 31.78125 74.21875 \nz\n\" id=\"DejaVuSans-48\"/>\n    </defs>\n    <g transform=\"translate(120.904687 16.318125)scale(0.12 -0.12)\">\n     <use xlink:href=\"#DejaVuSans-65\"/>\n     <use x=\"68.408203\" xlink:href=\"#DejaVuSans-117\"/>\n     <use x=\"131.787109\" xlink:href=\"#DejaVuSans-103\"/>\n     <use x=\"195.263672\" xlink:href=\"#DejaVuSans-109\"/>\n     <use x=\"292.675781\" xlink:href=\"#DejaVuSans-101\"/>\n     <use x=\"354.199219\" xlink:href=\"#DejaVuSans-110\"/>\n     <use x=\"417.578125\" xlink:href=\"#DejaVuSans-116\"/>\n     <use x=\"456.787109\" xlink:href=\"#DejaVuSans-97\"/>\n     <use x=\"518.066406\" xlink:href=\"#DejaVuSans-116\"/>\n     <use x=\"557.275391\" xlink:href=\"#DejaVuSans-105\"/>\n     <use x=\"585.058594\" xlink:href=\"#DejaVuSans-111\"/>\n     <use x=\"646.240234\" xlink:href=\"#DejaVuSans-110\"/>\n     <use x=\"709.619141\" xlink:href=\"#DejaVuSans-32\"/>\n     <use x=\"741.40625\" xlink:href=\"#DejaVuSans-101\"/>\n     <use x=\"801.179688\" xlink:href=\"#DejaVuSans-120\"/>\n     <use x=\"860.359375\" xlink:href=\"#DejaVuSans-97\"/>\n     <use x=\"921.638672\" xlink:href=\"#DejaVuSans-109\"/>\n     <use x=\"1019.050781\" xlink:href=\"#DejaVuSans-112\"/>\n     <use x=\"1082.527344\" xlink:href=\"#DejaVuSans-108\"/>\n     <use x=\"1110.310547\" xlink:href=\"#DejaVuSans-101\"/>\n     <use x=\"1171.833984\" xlink:href=\"#DejaVuSans-115\"/>\n     <use x=\"1223.933594\" xlink:href=\"#DejaVuSans-32\"/>\n     <use x=\"1255.720703\" xlink:href=\"#DejaVuSans-111\"/>\n     <use x=\"1316.902344\" xlink:href=\"#DejaVuSans-110\"/>\n     <use x=\"1380.28125\" xlink:href=\"#DejaVuSans-32\"/>\n     <use x=\"1412.068359\" xlink:href=\"#DejaVuSans-67\"/>\n     <use x=\"1481.892578\" xlink:href=\"#DejaVuSans-73\"/>\n     <use x=\"1511.384766\" xlink:href=\"#DejaVuSans-70\"/>\n     <use x=\"1559.779297\" xlink:href=\"#DejaVuSans-65\"/>\n     <use x=\"1628.1875\" xlink:href=\"#DejaVuSans-82\"/>\n     <use x=\"1697.669922\" xlink:href=\"#DejaVuSans-49\"/>\n     <use x=\"1761.292969\" xlink:href=\"#DejaVuSans-48\"/>\n    </g>\n   </g>\n  </g>\n </g>\n <defs>\n  <clipPath id=\"p33549452cc\">\n   <rect height=\"226.434783\" width=\"446.4\" x=\"7.2\" y=\"22.318125\"/>\n  </clipPath>\n </defs>\n</svg>\n",
            "application/pdf": "[encoded data removed]"
          },
          "metadata": {
            "needs_background": "light"
          }
        }
      ],
      "source": [
        "NUM_IMAGES = 4\n",
        "images = [train_dataset[idx][0] for idx in range(NUM_IMAGES)]\n",
        "orig_images = [Image.fromarray(train_dataset.data[idx]) for idx in range(NUM_IMAGES)]\n",
        "orig_images = [test_transform(img) for img in orig_images]\n",
        "\n",
        "img_grid = torchvision.utils.make_grid(torch.stack(images + orig_images, dim=0), nrow=4, normalize=True, pad_value=0.5)\n",
        "img_grid = img_grid.permute(1, 2, 0)\n",
        "\n",
        "plt.figure(figsize=(8,8))\n",
        "plt.title(\"Augmentation examples on CIFAR10\")\n",
        "plt.imshow(img_grid)\n",
        "plt.axis('off')\n",
        "plt.show()\n",
        "plt.close()"
      ]
    },
    {
      "cell_type": "markdown",
      "metadata": {
        "id": "lTA1I3ywNbFw"
      },
      "source": [
        "## PyTorch Lightning\n",
        "\n",
        "In this notebook and in many following ones, we will make use of the library [PyTorch Lightning](https://www.pytorchlightning.ai/). PyTorch Lightning is a framework that simplifies your code needed to train, evaluate, and test a model in PyTorch. It also handles logging into [TensorBoard](https://pytorch.org/tutorials/intermediate/tensorboard_tutorial.html), a visualization toolkit for ML experiments, and saving model checkpoints automatically with minimal code overhead from our side. This is extremely helpful for us as we want to focus on implementing different model architectures and spend little time on other code overhead. Note that at the time of writing/teaching, the framework has been released in version 1.6. Future versions might have a slightly changed interface and thus might not work perfectly with the code (we will try to keep it up-to-date as much as possible). \n",
        "\n",
        "Now, we will take the first step in PyTorch Lightning, and continue to explore the framework in our other tutorials. First, we import the library:"
      ]
    },
    {
      "cell_type": "code",
      "execution_count": null,
      "metadata": {
        "id": "hsm9jAo-NbFw"
      },
      "outputs": [],
      "source": [
        "# PyTorch Lightning\n",
        "try:\n",
        "    import pytorch_lightning as pl\n",
        "except ModuleNotFoundError: # Google Colab does not have PyTorch Lightning installed by default. Hence, we do it here if necessary\n",
        "    !pip install --quiet pytorch-lightning>=1.5\n",
        "    import pytorch_lightning as pl"
      ]
    },
    {
      "cell_type": "markdown",
      "metadata": {
        "id": "DHobvq4DNbFw"
      },
      "source": [
        "PyTorch Lightning comes with a lot of useful functions, such as one for setting the seed:"
      ]
    },
    {
      "cell_type": "code",
      "execution_count": null,
      "metadata": {
        "colab": {
          "base_uri": "https://localhost:8080/"
        },
        "id": "aA9n21WyNbFx",
        "outputId": "2a36f5e4-27f3-4f27-e8c4-139609636f57"
      },
      "outputs": [
        {
          "output_type": "stream",
          "name": "stderr",
          "text": [
            "INFO:lightning_lite.utilities.seed:Global seed set to 42\n"
          ]
        },
        {
          "output_type": "execute_result",
          "data": {
            "text/plain": [
              "42"
            ]
          },
          "metadata": {},
          "execution_count": 10
        }
      ],
      "source": [
        "# Setting the seed\n",
        "pl.seed_everything(42)"
      ]
    },
    {
      "cell_type": "markdown",
      "metadata": {
        "id": "mzMUvZBSNbFx"
      },
      "source": [
        "Thus, in the future, we don't have to define our own `set_seed` function anymore. \n",
        "\n",
        "In PyTorch Lightning, we define `pl.LightningModule`'s (inheriting from `torch.nn.Module`) that organize our code into 5 main sections: \n",
        "\n",
        "1. Initialization (`__init__`), where we create all necessary parameters/models\n",
        "2. Optimizers (`configure_optimizers`) where we create the optimizers, learning rate scheduler, etc. \n",
        "3. Training loop (`training_step`) where we only have to define the loss calculation for a single batch (the loop of optimizer.zero_grad(), loss.backward() and optimizer.step(), as well as any logging/saving operation, is done in the background)\n",
        "4. Validation loop (`validation_step`) where similarly to the training, we only have to define what should happen per step\n",
        "5. Test loop (`test_step`) which is the same as validation, only on a test set.\n",
        "\n",
        "Therefore, we don't abstract the PyTorch code, but rather organize it and define some default operations that are commonly used. If you need to change something else in your training/validation/test loop, there are many possible functions you can overwrite (see the [docs](https://pytorch-lightning.readthedocs.io/en/stable/lightning_module.html) for details).\n",
        "\n",
        "Now we can look at an example of how a Lightning Module for training a CNN looks like:"
      ]
    },
    {
      "cell_type": "code",
      "execution_count": null,
      "metadata": {
        "id": "yHlUvdKLNbFx"
      },
      "outputs": [],
      "source": [
        "class CIFARModule(pl.LightningModule):\n",
        "\n",
        "    def __init__(self, model_name, model_hparams, optimizer_name, optimizer_hparams):\n",
        "        \"\"\"\n",
        "        Inputs:\n",
        "            model_name - Name of the model/CNN to run. Used for creating the model (see function below)\n",
        "            model_hparams - Hyperparameters for the model, as dictionary.\n",
        "            optimizer_name - Name of the optimizer to use. Currently supported: Adam, SGD\n",
        "            optimizer_hparams - Hyperparameters for the optimizer, as dictionary. This includes learning rate, weight decay, etc.\n",
        "        \"\"\"\n",
        "        super().__init__()\n",
        "        # Exports the hyperparameters to a YAML file, and create \"self.hparams\" namespace\n",
        "        self.save_hyperparameters()\n",
        "        # Create model\n",
        "        self.model = create_model(model_name, model_hparams)\n",
        "        # Create loss module\n",
        "        self.loss_module = nn.CrossEntropyLoss()\n",
        "        # Example input for visualizing the graph in Tensorboard\n",
        "        self.example_input_array = torch.zeros((1, 3, 32, 32), dtype=torch.float32)\n",
        "\n",
        "    def forward(self, imgs):\n",
        "        # Forward function that is run when visualizing the graph\n",
        "        return self.model(imgs)\n",
        "\n",
        "    def configure_optimizers(self):\n",
        "        # We will support Adam or SGD as optimizers.\n",
        "        if self.hparams.optimizer_name == \"Adam\":\n",
        "            # AdamW is Adam with a correct implementation of weight decay (see here for details: https://arxiv.org/pdf/1711.05101.pdf)\n",
        "            optimizer = optim.AdamW(\n",
        "                self.parameters(), **self.hparams.optimizer_hparams)\n",
        "        elif self.hparams.optimizer_name == \"SGD\":\n",
        "            optimizer = optim.SGD(self.parameters(), **self.hparams.optimizer_hparams)\n",
        "        else:\n",
        "            assert False, f\"Unknown optimizer: \\\"{self.hparams.optimizer_name}\\\"\"\n",
        "\n",
        "        # We will reduce the learning rate by 0.1 after 100 and 150 epochs\n",
        "        scheduler = optim.lr_scheduler.MultiStepLR(\n",
        "            optimizer, milestones=[100, 150], gamma=0.1)\n",
        "        return [optimizer], [scheduler]\n",
        "\n",
        "    def training_step(self, batch, batch_idx):\n",
        "        # \"batch\" is the output of the training data loader.\n",
        "        imgs, labels = batch\n",
        "        preds = self.model(imgs)\n",
        "        loss = self.loss_module(preds, labels)\n",
        "        acc = (preds.argmax(dim=-1) == labels).float().mean()\n",
        "\n",
        "        # Logs the accuracy per epoch to tensorboard (weighted average over batches)\n",
        "        self.log('train_acc', acc, on_step=False, on_epoch=True)\n",
        "        self.log('train_loss', loss)\n",
        "        return loss  # Return tensor to call \".backward\" on\n",
        "\n",
        "    def validation_step(self, batch, batch_idx):\n",
        "        imgs, labels = batch\n",
        "        preds = self.model(imgs).argmax(dim=-1)\n",
        "        acc = (labels == preds).float().mean()\n",
        "        # By default logs it per epoch (weighted average over batches)\n",
        "        self.log('val_acc', acc)\n",
        "\n",
        "    def test_step(self, batch, batch_idx):\n",
        "        imgs, labels = batch\n",
        "        preds = self.model(imgs).argmax(dim=-1)\n",
        "        acc = (labels == preds).float().mean()\n",
        "        # By default logs it per epoch (weighted average over batches), and returns it afterwards\n",
        "        self.log('test_acc', acc)"
      ]
    },
    {
      "cell_type": "markdown",
      "metadata": {
        "id": "mSf2BRqvNbFx"
      },
      "source": [
        "We see that the code is organized and clear, which helps if someone else tries to understand your code. \n",
        "\n",
        "Another important part of PyTorch Lightning is the concept of callbacks. Callbacks are self-contained functions that contain the non-essential logic of your Lightning Module. They are usually called after finishing a training epoch, but can also influence other parts of your training loop. For instance, we will use the following two pre-defined callbacks: `LearningRateMonitor` and `ModelCheckpoint`. The learning rate monitor adds the current learning rate to our TensorBoard, which helps to verify that our learning rate scheduler works correctly. The model checkpoint callback allows you to customize the saving routine of your checkpoints. For instance, how many checkpoints to keep, when to save, which metric to look out for, etc. We import them below:"
      ]
    },
    {
      "cell_type": "code",
      "execution_count": null,
      "metadata": {
        "id": "RuNm4rQwNbFx"
      },
      "outputs": [],
      "source": [
        "# Callbacks \n",
        "from pytorch_lightning.callbacks import LearningRateMonitor, ModelCheckpoint"
      ]
    },
    {
      "cell_type": "markdown",
      "metadata": {
        "id": "W09hgiEJNbFy"
      },
      "source": [
        "To allow running multiple different models with the same Lightning module, we define a function below that maps a model name to the model class. At this stage, the dictionary `model_dict` is empty, but we will fill it throughout the notebook with our new models."
      ]
    },
    {
      "cell_type": "code",
      "execution_count": null,
      "metadata": {
        "id": "sjquPMM5NbFy"
      },
      "outputs": [],
      "source": [
        "model_dict = {}\n",
        "\n",
        "def create_model(model_name, model_hparams):\n",
        "    if model_name in model_dict:\n",
        "        return model_dict[model_name](**model_hparams)\n",
        "    else:\n",
        "        assert False, f\"Unknown model name \\\"{model_name}\\\". Available models are: {str(model_dict.keys())}\""
      ]
    },
    {
      "cell_type": "markdown",
      "metadata": {
        "id": "HDQuaQZcNbFy"
      },
      "source": [
        "Similarly, to use the activation function as another hyperparameter in our model, we define a \"name to function\" dict below:"
      ]
    },
    {
      "cell_type": "code",
      "execution_count": null,
      "metadata": {
        "id": "UhthHk9hNbFy"
      },
      "outputs": [],
      "source": [
        "act_fn_by_name = {\n",
        "    \"tanh\": nn.Tanh,\n",
        "    \"relu\": nn.ReLU,\n",
        "    \"leakyrelu\": nn.LeakyReLU,\n",
        "    \"gelu\": nn.GELU\n",
        "}"
      ]
    },
    {
      "cell_type": "markdown",
      "metadata": {
        "id": "92JHSS4xNbFy"
      },
      "source": [
        "If we pass the classes or objects directly as an argument to the Lightning module, we couldn't take advantage of PyTorch Lightning's automatically hyperparameter saving and loading.\n",
        "\n",
        "Besides the Lightning module, the second most important module in PyTorch Lightning is the `Trainer`. The trainer is responsible to execute the training steps defined in the Lightning module and completes the framework. Similar to the Lightning module, you can override any key part that you don't want to be automated, but the default settings are often the best practice to do. For a full overview, see the [documentation](https://pytorch-lightning.readthedocs.io/en/stable/trainer.html). The most important functions we use below are:\n",
        "\n",
        "* `trainer.fit`: Takes as input a lightning module, a training dataset, and an (optional) validation dataset. This function trains the given module on the training dataset with occasional validation (default once per epoch, can be changed)\n",
        "* `trainer.test`: Takes as input a model and a dataset on which we want to test. It returns the test metric on the dataset.\n",
        "\n",
        "For training and testing, we don't have to worry about things like setting the model to eval mode (`model.eval()`) as this is all done automatically. See below how we define a training function for our models:"
      ]
    },
    {
      "cell_type": "code",
      "execution_count": null,
      "metadata": {
        "id": "h-ICtAdXNbFy"
      },
      "outputs": [],
      "source": [
        "def train_model(model_name, save_name=None, **kwargs):\n",
        "    \"\"\"\n",
        "    Inputs:\n",
        "        model_name - Name of the model you want to run. Is used to look up the class in \"model_dict\"\n",
        "        save_name (optional) - If specified, this name will be used for creating the checkpoint and logging directory.\n",
        "    \"\"\"\n",
        "    if save_name is None:\n",
        "        save_name = model_name\n",
        "        \n",
        "    # Create a PyTorch Lightning trainer with the generation callback\n",
        "    trainer = pl.Trainer(default_root_dir=os.path.join(CHECKPOINT_PATH, save_name),                          # Where to save models\n",
        "                         gpus=1 if str(device)==\"cuda:0\" else 0,                                             # We run on a single GPU (if possible)\n",
        "                         max_epochs=180,                                                                     # How many epochs to train for if no patience is set\n",
        "                         callbacks=[ModelCheckpoint(save_weights_only=True, mode=\"max\", monitor=\"val_acc\"),  # Save the best checkpoint based on the maximum val_acc recorded. Saves only weights and not optimizer\n",
        "                                    LearningRateMonitor(\"epoch\")],                                           # Log learning rate every epoch\n",
        "                         enable_progress_bar=True)                                                           # Set to False if you do not want a progress bar\n",
        "    trainer.logger._log_graph = False         # If True, we plot the computation graph in tensorboard\n",
        "    trainer.logger._default_hp_metric = None # Optional logging argument that we don't need\n",
        "    \n",
        "    # Check whether pretrained model exists. If yes, load it and skip training\n",
        "    pretrained_filename = os.path.join(CHECKPOINT_PATH, save_name + \".ckpt\")\n",
        "    if False: # os.path.isfile(pretrained_filename):\n",
        "        print(f\"Found pretrained model at {pretrained_filename}, loading...\")\n",
        "        model = CIFARModule.load_from_checkpoint(pretrained_filename) # Automatically loads the model with the saved hyperparameters\n",
        "    else:\n",
        "        pl.seed_everything(42) # To be reproducable\n",
        "        model = CIFARModule(model_name=model_name, **kwargs)\n",
        "        trainer.fit(model, train_loader, val_loader)\n",
        "        model = CIFARModule.load_from_checkpoint(trainer.checkpoint_callback.best_model_path) # Load best checkpoint after training\n",
        "        \n",
        "    # Test best model on validation and test set\n",
        "    val_result = trainer.test(model, val_loader, verbose=False)\n",
        "    test_result = trainer.test(model, test_loader, verbose=False)\n",
        "    result = {\"test\": test_result[0][\"test_acc\"], \"val\": val_result[0][\"test_acc\"]}\n",
        "    \n",
        "    return model, result"
      ]
    },
    {
      "cell_type": "markdown",
      "metadata": {
        "id": "SJ_46NEiNbFy"
      },
      "source": [
        "Finally, we can focus on the Convolutional Neural Networks we want to implement today: GoogleNet, ResNet, and DenseNet."
      ]
    },
    {
      "cell_type": "markdown",
      "metadata": {
        "id": "aPJ-c6QZNbFy"
      },
      "source": [
        "## Inception\n",
        "\n",
        "The [GoogleNet](https://arxiv.org/abs/1409.4842), proposed in 2014, won the ImageNet Challenge because of its usage of the Inception modules. In general, we will mainly focus on the concept of Inception in this tutorial instead of the specifics of the GoogleNet, as based on Inception, there have been many follow-up works ([Inception-v2](https://arxiv.org/abs/1512.00567), [Inception-v3](https://arxiv.org/abs/1512.00567), [Inception-v4](https://arxiv.org/abs/1602.07261), [Inception-ResNet](https://arxiv.org/abs/1602.07261),...). The follow-up works mainly focus on increasing efficiency and enabling very deep Inception networks. However, for a fundamental understanding, it is sufficient to look at the original Inception block. \n",
        "\n",
        "An Inception block applies four convolution blocks separately on the same feature map: a 1x1, 3x3, and 5x5 convolution, and a max pool operation. This allows the network to look at the same data with different receptive fields. Of course, learning only 5x5 convolution would be theoretically more powerful. However, this is not only more computation and memory heavy but also tends to overfit much easier. The overall inception block looks like below (figure credit - [Szegedy et al.](https://arxiv.org/abs/1409.4842)):\n",
        "\n",
        "<center width=\"100%\"><img src=\"https://github.com/phlippe/uvadlc_notebooks/blob/master/docs/tutorial_notebooks/tutorial5/inception_block.svg?raw=1\" style=\"display: block; margin-left: auto; margin-right: auto;\" width=\"500px\"/></center>\n",
        "\n",
        "The additional 1x1 convolutions before the 3x3 and 5x5 convolutions are used for dimensionality reduction. This is especially crucial as the feature maps of all branches are merged afterward, and we don't want any explosion of feature size. As 5x5 convolutions are 25 times more expensive than 1x1 convolutions, we can save a lot of computation and parameters by reducing the dimensionality before the large convolutions.\n",
        "\n",
        "We can now try to implement the Inception Block ourselves:"
      ]
    },
    {
      "cell_type": "code",
      "execution_count": null,
      "metadata": {
        "id": "iyjSp26yNbFy"
      },
      "outputs": [],
      "source": [
        "class InceptionBlock(nn.Module):\n",
        "    \n",
        "    def __init__(self, c_in, c_red : dict, c_out : dict, act_fn):\n",
        "        \"\"\"\n",
        "        Inputs:\n",
        "            c_in - Number of input feature maps from the previous layers\n",
        "            c_red - Dictionary with keys \"3x3\" and \"5x5\" specifying the output of the dimensionality reducing 1x1 convolutions\n",
        "            c_out - Dictionary with keys \"1x1\", \"3x3\", \"5x5\", and \"max\"\n",
        "            act_fn - Activation class constructor (e.g. nn.ReLU)\n",
        "        \"\"\"\n",
        "        super().__init__()\n",
        "        \n",
        "        # 1x1 convolution branch\n",
        "        self.conv_1x1 = nn.Sequential(\n",
        "            nn.Conv2d(c_in, c_out[\"1x1\"], kernel_size=1),\n",
        "            nn.BatchNorm2d(c_out[\"1x1\"]),\n",
        "            act_fn()\n",
        "        )\n",
        "        \n",
        "        # 3x3 convolution branch\n",
        "        self.conv_3x3 = nn.Sequential(\n",
        "            nn.Conv2d(c_in, c_red[\"3x3\"], kernel_size=1),\n",
        "            nn.BatchNorm2d(c_red[\"3x3\"]),\n",
        "            act_fn(),\n",
        "            nn.Conv2d(c_red[\"3x3\"], c_out[\"3x3\"], kernel_size=3, padding=1),\n",
        "            nn.BatchNorm2d(c_out[\"3x3\"]),\n",
        "            act_fn()\n",
        "        )\n",
        "        \n",
        "        # 5x5 convolution branch\n",
        "        self.conv_5x5 = nn.Sequential(\n",
        "            nn.Conv2d(c_in, c_red[\"5x5\"], kernel_size=1),\n",
        "            nn.BatchNorm2d(c_red[\"5x5\"]),\n",
        "            act_fn(),\n",
        "            nn.Conv2d(c_red[\"5x5\"], c_out[\"5x5\"], kernel_size=5, padding=2),\n",
        "            nn.BatchNorm2d(c_out[\"5x5\"]),\n",
        "            act_fn()\n",
        "        )\n",
        "        \n",
        "        # Max-pool branch\n",
        "        self.max_pool = nn.Sequential(\n",
        "            nn.MaxPool2d(kernel_size=3, padding=1, stride=1),\n",
        "            nn.Conv2d(c_in, c_out[\"max\"], kernel_size=1),\n",
        "            nn.BatchNorm2d(c_out[\"max\"]),\n",
        "            act_fn()\n",
        "        )\n",
        "\n",
        "    def forward(self, x):\n",
        "        x_1x1 = self.conv_1x1(x)\n",
        "        x_3x3 = self.conv_3x3(x)\n",
        "        x_5x5 = self.conv_5x5(x)\n",
        "        x_max = self.max_pool(x)\n",
        "        x_out = torch.cat([x_1x1, x_3x3, x_5x5, x_max], dim=1)\n",
        "        return x_out"
      ]
    },
    {
      "cell_type": "markdown",
      "metadata": {
        "id": "8-yCfBdONbFy"
      },
      "source": [
        "The GoogleNet architecture consists of stacking multiple Inception blocks with occasional max pooling to reduce the height and width of the feature maps. The original GoogleNet was designed for image sizes of ImageNet (224x224 pixels) and had almost 7 million parameters. As we train on CIFAR10 with image sizes of 32x32, we don't require such a heavy architecture, and instead, apply a reduced version. The number of channels for dimensionality reduction and output per filter (1x1, 3x3, 5x5, and max pooling) need to be manually specified and can be changed if interested. The general intuition is to have the most filters for the 3x3 convolutions, as they are powerful enough to take the context into account while requiring almost a third of the parameters of the 5x5 convolution. "
      ]
    },
    {
      "cell_type": "code",
      "execution_count": null,
      "metadata": {
        "id": "yCY7tMdDNbFz"
      },
      "outputs": [],
      "source": [
        "class GoogleNet(nn.Module):\n",
        "\n",
        "    def __init__(self, num_classes=10, act_fn_name=\"relu\", **kwargs):\n",
        "        super().__init__()\n",
        "        self.hparams = SimpleNamespace(num_classes=num_classes,\n",
        "                                       act_fn_name=act_fn_name,\n",
        "                                       act_fn=act_fn_by_name[act_fn_name])\n",
        "        self._create_network()\n",
        "        self._init_params()\n",
        "\n",
        "    def _create_network(self):\n",
        "        # A first convolution on the original image to scale up the channel size\n",
        "        self.input_net = nn.Sequential(\n",
        "            nn.Conv2d(3, 64, kernel_size=3, padding=1),\n",
        "            nn.BatchNorm2d(64),\n",
        "            self.hparams.act_fn()\n",
        "        )\n",
        "        # Stacking inception blocks\n",
        "        self.inception_blocks = nn.Sequential(\n",
        "            InceptionBlock(64, c_red={\"3x3\": 32, \"5x5\": 16}, c_out={\"1x1\": 16, \"3x3\": 32, \"5x5\": 8, \"max\": 8}, act_fn=self.hparams.act_fn),\n",
        "            InceptionBlock(64, c_red={\"3x3\": 32, \"5x5\": 16}, c_out={\"1x1\": 24, \"3x3\": 48, \"5x5\": 12, \"max\": 12}, act_fn=self.hparams.act_fn),\n",
        "            nn.MaxPool2d(3, stride=2, padding=1),  # 32x32 => 16x16\n",
        "            InceptionBlock(96, c_red={\"3x3\": 32, \"5x5\": 16}, c_out={\"1x1\": 24, \"3x3\": 48, \"5x5\": 12, \"max\": 12}, act_fn=self.hparams.act_fn),\n",
        "            InceptionBlock(96, c_red={\"3x3\": 32, \"5x5\": 16}, c_out={\"1x1\": 16, \"3x3\": 48, \"5x5\": 16, \"max\": 16}, act_fn=self.hparams.act_fn),\n",
        "            InceptionBlock(96, c_red={\"3x3\": 32, \"5x5\": 16}, c_out={\"1x1\": 16, \"3x3\": 48, \"5x5\": 16, \"max\": 16}, act_fn=self.hparams.act_fn),\n",
        "            InceptionBlock(96, c_red={\"3x3\": 32, \"5x5\": 16}, c_out={\"1x1\": 32, \"3x3\": 48, \"5x5\": 24, \"max\": 24}, act_fn=self.hparams.act_fn),\n",
        "            nn.MaxPool2d(3, stride=2, padding=1),  # 16x16 => 8x8\n",
        "            InceptionBlock(128, c_red={\"3x3\": 48, \"5x5\": 16}, c_out={\"1x1\": 32, \"3x3\": 64, \"5x5\": 16, \"max\": 16}, act_fn=self.hparams.act_fn),\n",
        "            InceptionBlock(128, c_red={\"3x3\": 48, \"5x5\": 16}, c_out={\"1x1\": 32, \"3x3\": 64, \"5x5\": 16, \"max\": 16}, act_fn=self.hparams.act_fn)\n",
        "        )\n",
        "        # Mapping to classification output\n",
        "        self.output_net = nn.Sequential(\n",
        "            nn.AdaptiveAvgPool2d((1, 1)),\n",
        "            nn.Flatten(),\n",
        "            nn.Linear(128, self.hparams.num_classes)\n",
        "        )\n",
        "\n",
        "    def _init_params(self):\n",
        "        # Based on our discussion in Tutorial 4, we should initialize the convolutions according to the activation function\n",
        "        for m in self.modules():\n",
        "            if isinstance(m, nn.Conv2d):\n",
        "                nn.init.kaiming_normal_(\n",
        "                    m.weight, nonlinearity=self.hparams.act_fn_name)\n",
        "            elif isinstance(m, nn.BatchNorm2d):\n",
        "                nn.init.constant_(m.weight, 1)\n",
        "                nn.init.constant_(m.bias, 0)\n",
        "\n",
        "    def forward(self, x):\n",
        "        x = self.input_net(x)\n",
        "        x = self.inception_blocks(x)\n",
        "        x = self.output_net(x)\n",
        "        return x"
      ]
    },
    {
      "cell_type": "markdown",
      "metadata": {
        "id": "EHn7lVOaNbFz"
      },
      "source": [
        "Now, we can integrate our model to the model dictionary we defined above:"
      ]
    },
    {
      "cell_type": "code",
      "execution_count": null,
      "metadata": {
        "id": "XvIsUYMpNbFz"
      },
      "outputs": [],
      "source": [
        "model_dict[\"GoogleNet\"] = GoogleNet"
      ]
    },
    {
      "cell_type": "markdown",
      "metadata": {
        "id": "P3AJaCy6NbFz"
      },
      "source": [
        "The training of the model is handled by PyTorch Lightning, and we just have to define the command to start. Note that we train for almost 200 epochs, which takes about an hour on Lisa's default GPUs (GTX1080Ti). We would recommend using the saved models and train your own model if you are interested. "
      ]
    },
    {
      "cell_type": "code",
      "execution_count": null,
      "metadata": {
        "id": "lm2gS9ceNbFz",
        "outputId": "68bf8818-cc11-420d-ea44-8605f8ee0ace",
        "colab": {
          "referenced_widgets": [
            "183cfd92f6ff455994c43aa7d8e5ddca",
            "80d26e9062754986ba44e2d5abd077c4"
          ]
        }
      },
      "outputs": [
        {
          "name": "stderr",
          "output_type": "stream",
          "text": [
            "GPU available: True, used: True\n",
            "TPU available: False, using: 0 TPU cores\n",
            "LOCAL_RANK: 0 - CUDA_VISIBLE_DEVICES: [0]\n"
          ]
        },
        {
          "name": "stdout",
          "output_type": "stream",
          "text": [
            "Found pretrained model at ../saved_models/tutorial5/GoogleNet.ckpt, loading...\n"
          ]
        },
        {
          "data": {
            "application/vnd.jupyter.widget-view+json": {
              "model_id": "183cfd92f6ff455994c43aa7d8e5ddca",
              "version_major": 2,
              "version_minor": 0
            },
            "text/plain": [
              "HBox(children=(FloatProgress(value=1.0, bar_style='info', description='Testing', layout=Layout(flex='2'), max=…"
            ]
          },
          "metadata": {},
          "output_type": "display_data"
        },
        {
          "name": "stdout",
          "output_type": "stream",
          "text": [
            "\n"
          ]
        },
        {
          "data": {
            "application/vnd.jupyter.widget-view+json": {
              "model_id": "80d26e9062754986ba44e2d5abd077c4",
              "version_major": 2,
              "version_minor": 0
            },
            "text/plain": [
              "HBox(children=(FloatProgress(value=1.0, bar_style='info', description='Testing', layout=Layout(flex='2'), max=…"
            ]
          },
          "metadata": {},
          "output_type": "display_data"
        },
        {
          "name": "stdout",
          "output_type": "stream",
          "text": [
            "\n"
          ]
        }
      ],
      "source": [
        "googlenet_model, googlenet_results = train_model(model_name=\"GoogleNet\", \n",
        "                                                 model_hparams={\"num_classes\": 10, \n",
        "                                                                \"act_fn_name\": \"relu\"}, \n",
        "                                                 optimizer_name=\"Adam\",\n",
        "                                                 optimizer_hparams={\"lr\": 1e-3,\n",
        "                                                                    \"weight_decay\": 1e-4})"
      ]
    },
    {
      "cell_type": "markdown",
      "metadata": {
        "id": "_DYplprjNbFz"
      },
      "source": [
        "We will compare the results later in the notebooks, but we can already print them here for a first glance:"
      ]
    },
    {
      "cell_type": "code",
      "execution_count": null,
      "metadata": {
        "id": "JJRaPv28NbFz",
        "outputId": "159a73d0-4acd-4599-859a-d410f4b33b10"
      },
      "outputs": [
        {
          "name": "stdout",
          "output_type": "stream",
          "text": [
            "GoogleNet Results {'test': 0.8970000147819519, 'val': 0.9039999842643738}\n"
          ]
        }
      ],
      "source": [
        "print(\"GoogleNet Results\", googlenet_results)"
      ]
    },
    {
      "cell_type": "markdown",
      "metadata": {
        "id": "1p0JuGhMNbFz"
      },
      "source": [
        "### Tensorboard log\n",
        "\n",
        "A nice extra of PyTorch Lightning is the automatic logging into TensorBoard. To give you a better intuition of what TensorBoard can be used, we can look at the board that PyTorch Lightning has been generated when training the GoogleNet. TensorBoard provides an inline functionality for Jupyter notebooks, and we use it here:"
      ]
    },
    {
      "cell_type": "code",
      "execution_count": null,
      "metadata": {
        "id": "Y6kz1raRNbF0"
      },
      "outputs": [],
      "source": [
        "# Load tensorboard extension\n",
        "%load_ext tensorboard"
      ]
    },
    {
      "cell_type": "code",
      "execution_count": null,
      "metadata": {
        "id": "-WIk63wlNbF0"
      },
      "outputs": [],
      "source": [
        "# Opens tensorboard in notebook. Adjust the path to your CHECKPOINT_PATH!\n",
        "%tensorboard --logdir ../saved_models/tutorial5/tensorboards/GoogleNet/"
      ]
    },
    {
      "cell_type": "markdown",
      "metadata": {
        "id": "zWvFbPvDNbF0"
      },
      "source": [
        "<center width=\"100%\"><img src=\"https://github.com/phlippe/uvadlc_notebooks/blob/master/docs/tutorial_notebooks/tutorial5/tensorboard_screenshot_GoogleNet.png?raw=1\" width=\"1000px\"></center>\n",
        "\n",
        "TensorBoard is organized in multiple tabs. The main tab is the scalar tab where we can log the development of single numbers. For example, we have plotted the training loss, accuracy, learning rate, etc. If we look at the training or validation accuracy, we can really see the impact of using a learning rate scheduler. Reducing the learning rate gives our model a nice increase in training performance. Similarly, when looking at the training loss, we see a sudden decrease at this point. However, the high numbers on the training set compared to validation indicate that our model was overfitting which is inevitable for such large networks.\n",
        "\n",
        "Another interesting tab in TensorBoard is the graph tab. It shows us the network architecture organized by building blocks from the input to the output. It basically shows the operations taken in the forward step of `CIFARModule`. Double-click on a module to open it. Feel free to explore the architecture from a different perspective. The graph visualization can often help you to validate that your model is actually doing what it is supposed to do, and you don't miss any layers in the computation graph."
      ]
    },
    {
      "cell_type": "markdown",
      "metadata": {
        "id": "hx-W1HU4NbF1"
      },
      "source": [
        "## ResNet\n",
        "\n",
        "The [ResNet](https://arxiv.org/abs/1512.03385) paper is one of the  [most cited AI papers](https://www.natureindex.com/news-blog/google-scholar-reveals-most-influential-papers-research-citations-twenty-twenty), and has been the foundation for neural networks with more than 1,000 layers. Despite its simplicity, the idea of residual connections is highly effective as it supports stable gradient propagation through the network. Instead of modeling $x_{l+1}=F(x_{l})$, we model $x_{l+1}=x_{l}+F(x_{l})$ where $F$ is a non-linear mapping (usually a sequence of NN modules likes convolutions, activation functions, and normalizations). If we do backpropagation on such residual connections, we obtain:\n",
        "\n",
        "$$\\frac{\\partial x_{l+1}}{\\partial x_{l}} = \\mathbf{I} + \\frac{\\partial F(x_{l})}{\\partial x_{l}}$$\n",
        "\n",
        "The bias towards the identity matrix guarantees a stable gradient propagation being less effected by $F$ itself. There have been many variants of ResNet proposed, which mostly concern the function $F$, or operations applied on the sum. In this tutorial, we look at two of them: the original ResNet block, and the [Pre-Activation ResNet block](https://arxiv.org/abs/1603.05027). We visually compare the blocks below (figure credit - [He et al.](https://arxiv.org/abs/1603.05027)):\n",
        "\n",
        "<center width=\"100%\"><img src=\"https://github.com/phlippe/uvadlc_notebooks/blob/master/docs/tutorial_notebooks/tutorial5/resnet_block.svg?raw=1\" style=\"display: block; margin-left: auto; margin-right: auto;\" width=\"300px\"/></center>\n",
        "\n",
        "The original ResNet block applies a non-linear activation function, usually ReLU, after the skip connection. In contrast, the pre-activation ResNet block applies the non-linearity at the beginning of $F$. Both have their advantages and disadvantages. For very deep network, however, the pre-activation ResNet has shown to perform better as the gradient flow is guaranteed to have the identity matrix as calculated above, and is not harmed by any non-linear activation applied to it. For comparison, in this notebook, we implement both ResNet types as shallow networks.\n",
        "\n",
        "Let's start with the original ResNet block. The visualization above already shows what layers are included in $F$. One special case we have to handle is when we want to reduce the image dimensions in terms of width and height. The basic ResNet block requires $F(x_{l})$ to be of the same shape as $x_{l}$. Thus, we need to change the dimensionality of $x_{l}$ as well before adding to $F(x_{l})$. The original implementation used an identity mapping with stride 2 and padded additional feature dimensions with 0. However, the more common implementation is to use a 1x1 convolution with stride 2 as it allows us to change the feature dimensionality while being efficient in parameter and computation cost. The code for the ResNet block is relatively simple, and shown below:"
      ]
    },
    {
      "cell_type": "code",
      "source": [
        "class ResNetBlock(nn.Module):\n",
        "\n",
        "    def __init__(self, c_in, act_fn, subsample=False, c_out=-1):\n",
        "        \"\"\"\n",
        "        Inputs:\n",
        "            c_in - Number of input features\n",
        "            act_fn - Activation class constructor (e.g. nn.ReLU)\n",
        "            subsample - If True, we want to apply a stride inside the block and reduce the output shape by 2 in height and width\n",
        "            c_out - Number of output features. Note that this is only relevant if subsample is True, as otherwise, c_out = c_in\n",
        "        \"\"\"\n",
        "        super().__init__()\n",
        "        if not subsample:\n",
        "            c_out = c_in\n",
        "\n",
        "        # Network representing F\n",
        "        self.net = nn.Sequential(\n",
        "            nn.Conv2d(c_in, c_out, kernel_size=3, padding=1, stride=1 if not subsample else 2, bias=False),  # No bias needed as the Batch Norm handles it\n",
        "            nn.BatchNorm2d(c_out),\n",
        "            act_fn(),\n",
        "            nn.Conv2d(c_out, c_out, kernel_size=3, padding=1, bias=False),\n",
        "            nn.BatchNorm2d(c_out)\n",
        "        )\n",
        "\n",
        "        # 1x1 convolution with stride 2 means we take the upper left value, and transform it to new output size\n",
        "        self.downsample = nn.Conv2d(c_in, c_out, kernel_size=1, stride=2) if subsample else None\n",
        "        self.act_fn = act_fn()\n",
        "\n",
        "    def forward(self, x):\n",
        "        z = self.net(x)\n",
        "        if self.downsample is not None:\n",
        "            x = self.downsample(x)\n",
        "        out = z + x\n",
        "        out = self.act_fn(out)\n",
        "        return out"
      ],
      "metadata": {
        "id": "cAKrGDNAYbFA"
      },
      "execution_count": null,
      "outputs": []
    },
    {
      "cell_type": "markdown",
      "metadata": {
        "id": "Jvv4YohwNbF1"
      },
      "source": [
        "The second block we implement is the pre-activation ResNet block. For this, we have to change the order of layer in `self.net`, and do not apply an activation function on the output. Additionally, the downsampling operation has to apply a non-linearity as well as the input, $x_l$, has not been processed by a non-linearity yet. Hence, the block looks as follows:"
      ]
    },
    {
      "cell_type": "code",
      "execution_count": null,
      "metadata": {
        "id": "wuItmghENbF1"
      },
      "outputs": [],
      "source": [
        "class PreActResNetBlock(nn.Module):\n",
        "\n",
        "    def __init__(self, c_in, act_fn, subsample=False, c_out=-1):\n",
        "        \"\"\"\n",
        "        Inputs:\n",
        "            c_in - Number of input features\n",
        "            act_fn - Activation class constructor (e.g. nn.ReLU)\n",
        "            subsample - If True, we want to apply a stride inside the block and reduce the output shape by 2 in height and width\n",
        "            c_out - Number of output features. Note that this is only relevant if subsample is True, as otherwise, c_out = c_in\n",
        "        \"\"\"\n",
        "        super().__init__()\n",
        "        if not subsample:\n",
        "            c_out = c_in\n",
        "            \n",
        "        # Network representing F\n",
        "        self.net = nn.Sequential(\n",
        "            nn.BatchNorm2d(c_in),\n",
        "            act_fn(),\n",
        "            nn.Conv2d(c_in, c_out, kernel_size=3, padding=1, stride=1 if not subsample else 2, bias=False),\n",
        "            nn.BatchNorm2d(c_out),\n",
        "            act_fn(),\n",
        "            nn.Conv2d(c_out, c_out, kernel_size=3, padding=1, bias=False)\n",
        "        )\n",
        "        \n",
        "        # 1x1 convolution needs to apply non-linearity as well as not done on skip connection\n",
        "        self.downsample = nn.Sequential(\n",
        "            nn.BatchNorm2d(c_in),\n",
        "            act_fn(),\n",
        "            nn.Conv2d(c_in, c_out, kernel_size=1, stride=2, bias=False)\n",
        "        ) if subsample else None\n",
        "\n",
        "    def forward(self, x):\n",
        "        z = self.net(x)\n",
        "        if self.downsample is not None:\n",
        "            x = self.downsample(x)\n",
        "        out = z + x\n",
        "        return out"
      ]
    },
    {
      "cell_type": "code",
      "execution_count": null,
      "metadata": {
        "id": "l0rm0uuYNbF1"
      },
      "outputs": [],
      "source": [
        "class NewBlock(nn.Module):\n",
        "\n",
        "    def __init__(self, c_in, act_fn, subsample=False, c_out=-1):\n",
        "        \"\"\"\n",
        "        Inputs:\n",
        "            c_in - Number of input features\n",
        "            act_fn - Activation class constructor (e.g. nn.ReLU)\n",
        "            subsample - If True, we want to apply a stride inside the block and reduce the output shape by 2 in height and width\n",
        "            c_out - Number of output features. Note that this is only relevant if subsample is True, as otherwise, c_out = c_in\n",
        "        \"\"\"\n",
        "        super().__init__()\n",
        "        self.c_in = c_in\n",
        "        if not subsample:\n",
        "            c_out = c_in\n",
        "        self.c_out = c_out\n",
        "\n",
        "        D = 4 # if c_in<=16 else 4\n",
        "\n",
        "        self.conv = nn.Conv2d(1, D, kernel_size=3, padding=1, groups=1, stride=1 if not subsample else 2, bias=False)\n",
        "        # self.conv = nn.Conv2d(c_in, c_in*D, kernel_size=3, padding=1, groups=c_in, stride=1 if not subsample else 2, bias=False)\n",
        "\n",
        "        # self.net0 = nn.Sequential(\n",
        "        #     nn.BatchNorm2d(c_in*4),\n",
        "        #     act_fn()\n",
        "        # )\n",
        "\n",
        "        self.XY = None\n",
        "        self.mix = nn.Conv2d(5, c_in*D, kernel_size=1, bias=True)\n",
        "        self.net = nn.Sequential(\n",
        "            nn.Conv2d(c_in*D, c_in*D*4, kernel_size=1, groups=1, bias=False),\n",
        "            nn.BatchNorm2d(c_in*D*4),\n",
        "            act_fn(),\n",
        "            nn.Conv2d(c_in*D*4, c_out, kernel_size=1, \n",
        "                      # groups=2 if not subsample else 1, \n",
        "                      bias=False),\n",
        "            nn.BatchNorm2d(c_out)\n",
        "        )\n",
        "        \n",
        "        # 1x1 convolution with stride 2 means we take the upper left value, and transform it to new output size\n",
        "        self.downsample = nn.Conv2d(c_in, c_out, kernel_size=1, stride=2) if subsample else None\n",
        "        # self.padding1 = nn.ZeroPad2d(1)\n",
        "        # self.padding2 = nn.ReplicationPad2d(1)\n",
        "        self.act_fn = act_fn()\n",
        "\n",
        "    def conv_forward(self, x, c):\n",
        "        kernel = self.conv.weight.repeat(c,1,1,1)\n",
        "        # kernel = torch.repeat_interleave(self.conv.weight, repeats=2*c, dim=0)\n",
        "        # wt = self.conv.weight\n",
        "        # kernel = torch.stack([wt, wt.transpose(2,3).flip(3)], dim=1).reshape(c*8,-1,3,3)\n",
        "        return F.conv2d(x, kernel, self.conv.bias, self.conv.stride, self.conv.padding, self.conv.dilation, c)\n",
        "\n",
        "    def forward(self, x):\n",
        "        z = self.conv_forward(x, self.c_in)\n",
        "        # z = self.conv(x)\n",
        "        # z = self.net0(z)\n",
        "        N, C, H, W = z.size()\n",
        "        if self.XY is None: # or self.XY.size()[2] != z.size()[2]:\n",
        "            # _, _, H, W = z.size()\n",
        "            XX = torch.Tensor(np.indices((1,1,H,W))[3]*2/(W-1)-1)\n",
        "            YY = torch.Tensor(np.indices((1,1,H,W))[2]*2/(H-1)-1)\n",
        "            # ones = torch.ones((1,1,H,W))\n",
        "            self.XY = torch.cat([XX, YY, XX*XX, XX*YY, YY*YY],\n",
        "                                dim=1).type(z.dtype).to(z.device)\n",
        "            print(\"initialize self.XY:\", self.XY.size())\n",
        "        # if self.downsample:\n",
        "        #     XY = torch.cat([self.XY.repeat(N,1,1,1), x[:,:2,::2,::2]], dim=1)\n",
        "        # else:\n",
        "        #     XY = torch.cat([self.XY.repeat(N,1,1,1), x[:,:2,:,:]], dim=1)\n",
        "        z = self.mix(self.XY) * z\n",
        "        # z = z.view(N, -1, 2, H, W).sum(dim=2) / 2\n",
        "        # z = z + torch.roll(z, 1, 2)\n",
        "        z = self.net(z)\n",
        "        # print(z.size(), x.size())\n",
        "        if self.downsample is not None:\n",
        "            x = self.downsample(x)\n",
        "        out = (z + x) # [:,:,1:-1,1:-1]\n",
        "        # out1 = self.padding1(out[:,:self.c_out//2,:,:])\n",
        "        # out2 = self.padding2(out[:,self.c_out//2:,:,:])\n",
        "        # out = torch.cat((out1, out2), 1)\n",
        "        out = self.act_fn(out)\n",
        "        return out"
      ]
    },
    {
      "cell_type": "markdown",
      "metadata": {
        "id": "KP0AMamSNbF1"
      },
      "source": [
        "Similarly to the model selection, we define a dictionary to create a mapping from string to block class. We will use the string name as hyperparameter value in our model to choose between the ResNet blocks. Feel free to implement any other ResNet block type and add it here as well."
      ]
    },
    {
      "cell_type": "code",
      "execution_count": null,
      "metadata": {
        "id": "DOCadqJANbF1"
      },
      "outputs": [],
      "source": [
        "resnet_blocks_by_name = {\n",
        "    \"ResNetBlock\": ResNetBlock,\n",
        "    \"PreActResNetBlock\": PreActResNetBlock,\n",
        "    \"NewBlock\": NewBlock\n",
        "}"
      ]
    },
    {
      "cell_type": "markdown",
      "metadata": {
        "id": "4s87Yd57NbF1"
      },
      "source": [
        "The overall ResNet architecture consists of stacking multiple ResNet blocks, of which some are downsampling the input. When talking about ResNet blocks in the whole network, we usually group them by the same output shape. Hence, if we say the ResNet has `[3,3,3]` blocks, it means that we have 3 times a group of 3 ResNet blocks, where a subsampling is taking place in the fourth and seventh block. The ResNet with `[3,3,3]` blocks on CIFAR10 is visualized below.\n",
        "\n",
        "<center width=\"100%\"><img src=\"https://github.com/phlippe/uvadlc_notebooks/blob/master/docs/tutorial_notebooks/tutorial5/resnet_notation.svg?raw=1\" width=\"500px\"></center>\n",
        "\n",
        "The three groups operate on the resolutions $32\\times32$, $16\\times16$ and $8\\times8$ respectively. The blocks in orange denote ResNet blocks with downsampling. The same notation is used by many other implementations such as in the [torchvision library](https://pytorch.org/docs/stable/_modules/torchvision/models/resnet.html#resnet18) from PyTorch. Thus, our code looks as follows:"
      ]
    },
    {
      "cell_type": "code",
      "execution_count": null,
      "metadata": {
        "id": "OKQiDSMMNbF1"
      },
      "outputs": [],
      "source": [
        "class ResNet(nn.Module):\n",
        "\n",
        "    def __init__(self, num_classes=10, num_blocks=[3,3,3], c_hidden=[16,32,64], act_fn_name=\"relu\", block_name=\"ResNetBlock\", **kwargs):\n",
        "        \"\"\"\n",
        "        Inputs: \n",
        "            num_classes - Number of classification outputs (10 for CIFAR10)\n",
        "            num_blocks - List with the number of ResNet blocks to use. The first block of each group uses downsampling, except the first.\n",
        "            c_hidden - List with the hidden dimensionalities in the different blocks. Usually multiplied by 2 the deeper we go.\n",
        "            act_fn_name - Name of the activation function to use, looked up in \"act_fn_by_name\"\n",
        "            block_name - Name of the ResNet block, looked up in \"resnet_blocks_by_name\"\n",
        "        \"\"\"\n",
        "        super().__init__()\n",
        "        assert block_name in resnet_blocks_by_name\n",
        "        self.hparams = SimpleNamespace(num_classes=num_classes, \n",
        "                                       c_hidden=c_hidden, \n",
        "                                       num_blocks=num_blocks, \n",
        "                                       act_fn_name=act_fn_name,\n",
        "                                       act_fn=act_fn_by_name[act_fn_name],\n",
        "                                       block_class=resnet_blocks_by_name[block_name])\n",
        "        self._create_network()\n",
        "        self._init_params()\n",
        "\n",
        "    def _create_network(self):\n",
        "        c_hidden = self.hparams.c_hidden\n",
        "        \n",
        "        # A first convolution on the original image to scale up the channel size\n",
        "        if self.hparams.block_class == PreActResNetBlock: # => Don't apply non-linearity on output\n",
        "            self.input_net = nn.Sequential(\n",
        "                nn.Conv2d(3, c_hidden[0], kernel_size=3, padding=1, bias=False)\n",
        "            )\n",
        "        else:\n",
        "            self.input_net = nn.Sequential(\n",
        "                nn.Conv2d(3, c_hidden[0], kernel_size=3, padding=1, bias=False),\n",
        "                nn.BatchNorm2d(c_hidden[0]),\n",
        "                self.hparams.act_fn()\n",
        "            )\n",
        "        \n",
        "        # Creating the ResNet blocks\n",
        "        blocks = []\n",
        "        for block_idx, block_count in enumerate(self.hparams.num_blocks):\n",
        "            for bc in range(block_count):\n",
        "                subsample = (bc == 0 and block_idx > 0) # Subsample the first block of each group, except the very first one.\n",
        "                blocks.append(\n",
        "                    self.hparams.block_class(c_in=c_hidden[block_idx if not subsample else (block_idx-1)],\n",
        "                                             act_fn=self.hparams.act_fn,\n",
        "                                             subsample=subsample,\n",
        "                                             c_out=c_hidden[block_idx])\n",
        "                )\n",
        "        self.blocks = nn.Sequential(*blocks)\n",
        "        \n",
        "        # Mapping to classification output\n",
        "        self.output_net = nn.Sequential(\n",
        "            nn.AdaptiveAvgPool2d((1,1)),\n",
        "            nn.Flatten(),\n",
        "            nn.Linear(c_hidden[-1], self.hparams.num_classes)\n",
        "        )\n",
        "\n",
        "    def _init_params(self):\n",
        "        # Based on our discussion in Tutorial 4, we should initialize the convolutions according to the activation function\n",
        "        # Fan-out focuses on the gradient distribution, and is commonly used in ResNets\n",
        "        for m in self.modules():\n",
        "            if isinstance(m, nn.Conv2d):\n",
        "                nn.init.kaiming_normal_(m.weight, mode='fan_out', nonlinearity=self.hparams.act_fn_name)\n",
        "            elif isinstance(m, nn.BatchNorm2d):\n",
        "                nn.init.constant_(m.weight, 1)\n",
        "                nn.init.constant_(m.bias, 0)\n",
        "\n",
        "    def forward(self, x):\n",
        "        x = self.input_net(x)\n",
        "        x = self.blocks(x)\n",
        "        x = self.output_net(x)\n",
        "        return x"
      ]
    },
    {
      "cell_type": "markdown",
      "metadata": {
        "id": "vQfuQ8tINbF1"
      },
      "source": [
        "We also need to add the new ResNet class to our model dictionary:"
      ]
    },
    {
      "cell_type": "code",
      "execution_count": null,
      "metadata": {
        "id": "Svu52dZ4NbF1"
      },
      "outputs": [],
      "source": [
        "model_dict[\"ResNet\"] = ResNet"
      ]
    },
    {
      "cell_type": "markdown",
      "metadata": {
        "id": "NSjc2QJaNbF2"
      },
      "source": [
        "Finally, we can train our ResNet models. One difference to the GoogleNet training is that we explicitly use SGD with Momentum as optimizer instead of Adam. Adam often leads to a slightly worse accuracy on plain, shallow ResNets. It is not 100% clear why Adam performs worse in this context, but one possible explanation is related to ResNet's loss surface. ResNet has been shown to produce smoother loss surfaces than networks without skip connection (see [Li et al., 2018](https://arxiv.org/pdf/1712.09913.pdf) for details). A possible visualization of the loss surface with/out skip connections is below (figure credit - [Li et al.](https://arxiv.org/pdf/1712.09913.pdf)):\n",
        "\n",
        "<center width=\"100%\"><img src=\"https://github.com/phlippe/uvadlc_notebooks/blob/master/docs/tutorial_notebooks/tutorial5/resnet_loss_surface.svg?raw=1\" style=\"display: block; margin-left: auto; margin-right: auto;\" width=\"600px\"/></center>\n",
        "\n",
        "The $x$ and $y$ axis shows a projection of the parameter space, and the $z$ axis shows the loss values achieved by different parameter values. On smooth surfaces like the one on the right, we might not require an adaptive learning rate as Adam provides. Instead, Adam can get stuck in local optima while SGD finds the wider minima that tend to generalize better.\n",
        "However, to answer this question in detail, we would need an extra tutorial because it is not easy to answer. For now, we conclude: for ResNet architectures, consider the optimizer to be an important hyperparameter, and try training with both Adam and SGD. Let's train the model below with SGD:"
      ]
    },
    {
      "cell_type": "code",
      "execution_count": null,
      "metadata": {
        "id": "h07z46hYNbF2"
      },
      "outputs": [],
      "source": [
        "resnet_model, resnet_results = train_model(model_name=\"ResNet\", \n",
        "                                           model_hparams={\"num_classes\": 10,\n",
        "                                                          \"c_hidden\": [16,32,64],\n",
        "                                                          \"num_blocks\": [6,6,6],\n",
        "                                                          \"act_fn_name\": \"relu\",\n",
        "                                                          \"block_name\": \"NewBlock\"}, \n",
        "                                           optimizer_name=\"SGD\",\n",
        "                                           optimizer_hparams={\"lr\": 0.1,\n",
        "                                                              \"momentum\": 0.9,\n",
        "                                                              \"weight_decay\": 1e-4})"
      ]
    },
    {
      "cell_type": "code",
      "source": [
        "resnet_results # 1x4x3x3 5 c4xc8 g=1 1.2M"
      ],
      "metadata": {
        "colab": {
          "base_uri": "https://localhost:8080/"
        },
        "id": "kCBzDBX2tj81",
        "outputId": "7401d4c3-7944-4f23-b8f1-a66c537549f3"
      },
      "execution_count": 29,
      "outputs": [
        {
          "output_type": "execute_result",
          "data": {
            "text/plain": [
              "{'test': 0.9351000189781189, 'val': 0.9366000294685364}"
            ]
          },
          "metadata": {},
          "execution_count": 29
        }
      ]
    },
    {
      "cell_type": "code",
      "source": [
        "print(resnet_model) # 1x4x3x3 5 c4xc8 g=1 1.2M"
      ],
      "metadata": {
        "id": "e18rx4CqAetC",
        "outputId": "50b0ebc7-e7cc-489b-8dd3-a7c3420ece24",
        "colab": {
          "base_uri": "https://localhost:8080/"
        }
      },
      "execution_count": 30,
      "outputs": [
        {
          "output_type": "stream",
          "name": "stdout",
          "text": [
            "CIFARModule(\n",
            "  (model): ResNet(\n",
            "    (input_net): Sequential(\n",
            "      (0): Conv2d(3, 16, kernel_size=(3, 3), stride=(1, 1), padding=(1, 1), bias=False)\n",
            "      (1): BatchNorm2d(16, eps=1e-05, momentum=0.1, affine=True, track_running_stats=True)\n",
            "      (2): ReLU()\n",
            "    )\n",
            "    (blocks): Sequential(\n",
            "      (0): NewBlock(\n",
            "        (conv): Conv2d(1, 4, kernel_size=(3, 3), stride=(1, 1), padding=(1, 1), bias=False)\n",
            "        (mix): Conv2d(5, 64, kernel_size=(1, 1), stride=(1, 1))\n",
            "        (net): Sequential(\n",
            "          (0): Conv2d(64, 256, kernel_size=(1, 1), stride=(1, 1), bias=False)\n",
            "          (1): BatchNorm2d(256, eps=1e-05, momentum=0.1, affine=True, track_running_stats=True)\n",
            "          (2): ReLU()\n",
            "          (3): Conv2d(256, 16, kernel_size=(1, 1), stride=(1, 1), bias=False)\n",
            "          (4): BatchNorm2d(16, eps=1e-05, momentum=0.1, affine=True, track_running_stats=True)\n",
            "        )\n",
            "        (act_fn): ReLU()\n",
            "      )\n",
            "      (1): NewBlock(\n",
            "        (conv): Conv2d(1, 4, kernel_size=(3, 3), stride=(1, 1), padding=(1, 1), bias=False)\n",
            "        (mix): Conv2d(5, 64, kernel_size=(1, 1), stride=(1, 1))\n",
            "        (net): Sequential(\n",
            "          (0): Conv2d(64, 256, kernel_size=(1, 1), stride=(1, 1), bias=False)\n",
            "          (1): BatchNorm2d(256, eps=1e-05, momentum=0.1, affine=True, track_running_stats=True)\n",
            "          (2): ReLU()\n",
            "          (3): Conv2d(256, 16, kernel_size=(1, 1), stride=(1, 1), bias=False)\n",
            "          (4): BatchNorm2d(16, eps=1e-05, momentum=0.1, affine=True, track_running_stats=True)\n",
            "        )\n",
            "        (act_fn): ReLU()\n",
            "      )\n",
            "      (2): NewBlock(\n",
            "        (conv): Conv2d(1, 4, kernel_size=(3, 3), stride=(1, 1), padding=(1, 1), bias=False)\n",
            "        (mix): Conv2d(5, 64, kernel_size=(1, 1), stride=(1, 1))\n",
            "        (net): Sequential(\n",
            "          (0): Conv2d(64, 256, kernel_size=(1, 1), stride=(1, 1), bias=False)\n",
            "          (1): BatchNorm2d(256, eps=1e-05, momentum=0.1, affine=True, track_running_stats=True)\n",
            "          (2): ReLU()\n",
            "          (3): Conv2d(256, 16, kernel_size=(1, 1), stride=(1, 1), bias=False)\n",
            "          (4): BatchNorm2d(16, eps=1e-05, momentum=0.1, affine=True, track_running_stats=True)\n",
            "        )\n",
            "        (act_fn): ReLU()\n",
            "      )\n",
            "      (3): NewBlock(\n",
            "        (conv): Conv2d(1, 4, kernel_size=(3, 3), stride=(1, 1), padding=(1, 1), bias=False)\n",
            "        (mix): Conv2d(5, 64, kernel_size=(1, 1), stride=(1, 1))\n",
            "        (net): Sequential(\n",
            "          (0): Conv2d(64, 256, kernel_size=(1, 1), stride=(1, 1), bias=False)\n",
            "          (1): BatchNorm2d(256, eps=1e-05, momentum=0.1, affine=True, track_running_stats=True)\n",
            "          (2): ReLU()\n",
            "          (3): Conv2d(256, 16, kernel_size=(1, 1), stride=(1, 1), bias=False)\n",
            "          (4): BatchNorm2d(16, eps=1e-05, momentum=0.1, affine=True, track_running_stats=True)\n",
            "        )\n",
            "        (act_fn): ReLU()\n",
            "      )\n",
            "      (4): NewBlock(\n",
            "        (conv): Conv2d(1, 4, kernel_size=(3, 3), stride=(1, 1), padding=(1, 1), bias=False)\n",
            "        (mix): Conv2d(5, 64, kernel_size=(1, 1), stride=(1, 1))\n",
            "        (net): Sequential(\n",
            "          (0): Conv2d(64, 256, kernel_size=(1, 1), stride=(1, 1), bias=False)\n",
            "          (1): BatchNorm2d(256, eps=1e-05, momentum=0.1, affine=True, track_running_stats=True)\n",
            "          (2): ReLU()\n",
            "          (3): Conv2d(256, 16, kernel_size=(1, 1), stride=(1, 1), bias=False)\n",
            "          (4): BatchNorm2d(16, eps=1e-05, momentum=0.1, affine=True, track_running_stats=True)\n",
            "        )\n",
            "        (act_fn): ReLU()\n",
            "      )\n",
            "      (5): NewBlock(\n",
            "        (conv): Conv2d(1, 4, kernel_size=(3, 3), stride=(1, 1), padding=(1, 1), bias=False)\n",
            "        (mix): Conv2d(5, 64, kernel_size=(1, 1), stride=(1, 1))\n",
            "        (net): Sequential(\n",
            "          (0): Conv2d(64, 256, kernel_size=(1, 1), stride=(1, 1), bias=False)\n",
            "          (1): BatchNorm2d(256, eps=1e-05, momentum=0.1, affine=True, track_running_stats=True)\n",
            "          (2): ReLU()\n",
            "          (3): Conv2d(256, 16, kernel_size=(1, 1), stride=(1, 1), bias=False)\n",
            "          (4): BatchNorm2d(16, eps=1e-05, momentum=0.1, affine=True, track_running_stats=True)\n",
            "        )\n",
            "        (act_fn): ReLU()\n",
            "      )\n",
            "      (6): NewBlock(\n",
            "        (conv): Conv2d(1, 4, kernel_size=(3, 3), stride=(2, 2), padding=(1, 1), bias=False)\n",
            "        (mix): Conv2d(5, 64, kernel_size=(1, 1), stride=(1, 1))\n",
            "        (net): Sequential(\n",
            "          (0): Conv2d(64, 256, kernel_size=(1, 1), stride=(1, 1), bias=False)\n",
            "          (1): BatchNorm2d(256, eps=1e-05, momentum=0.1, affine=True, track_running_stats=True)\n",
            "          (2): ReLU()\n",
            "          (3): Conv2d(256, 32, kernel_size=(1, 1), stride=(1, 1), bias=False)\n",
            "          (4): BatchNorm2d(32, eps=1e-05, momentum=0.1, affine=True, track_running_stats=True)\n",
            "        )\n",
            "        (downsample): Conv2d(16, 32, kernel_size=(1, 1), stride=(2, 2))\n",
            "        (act_fn): ReLU()\n",
            "      )\n",
            "      (7): NewBlock(\n",
            "        (conv): Conv2d(1, 4, kernel_size=(3, 3), stride=(1, 1), padding=(1, 1), bias=False)\n",
            "        (mix): Conv2d(5, 128, kernel_size=(1, 1), stride=(1, 1))\n",
            "        (net): Sequential(\n",
            "          (0): Conv2d(128, 512, kernel_size=(1, 1), stride=(1, 1), bias=False)\n",
            "          (1): BatchNorm2d(512, eps=1e-05, momentum=0.1, affine=True, track_running_stats=True)\n",
            "          (2): ReLU()\n",
            "          (3): Conv2d(512, 32, kernel_size=(1, 1), stride=(1, 1), bias=False)\n",
            "          (4): BatchNorm2d(32, eps=1e-05, momentum=0.1, affine=True, track_running_stats=True)\n",
            "        )\n",
            "        (act_fn): ReLU()\n",
            "      )\n",
            "      (8): NewBlock(\n",
            "        (conv): Conv2d(1, 4, kernel_size=(3, 3), stride=(1, 1), padding=(1, 1), bias=False)\n",
            "        (mix): Conv2d(5, 128, kernel_size=(1, 1), stride=(1, 1))\n",
            "        (net): Sequential(\n",
            "          (0): Conv2d(128, 512, kernel_size=(1, 1), stride=(1, 1), bias=False)\n",
            "          (1): BatchNorm2d(512, eps=1e-05, momentum=0.1, affine=True, track_running_stats=True)\n",
            "          (2): ReLU()\n",
            "          (3): Conv2d(512, 32, kernel_size=(1, 1), stride=(1, 1), bias=False)\n",
            "          (4): BatchNorm2d(32, eps=1e-05, momentum=0.1, affine=True, track_running_stats=True)\n",
            "        )\n",
            "        (act_fn): ReLU()\n",
            "      )\n",
            "      (9): NewBlock(\n",
            "        (conv): Conv2d(1, 4, kernel_size=(3, 3), stride=(1, 1), padding=(1, 1), bias=False)\n",
            "        (mix): Conv2d(5, 128, kernel_size=(1, 1), stride=(1, 1))\n",
            "        (net): Sequential(\n",
            "          (0): Conv2d(128, 512, kernel_size=(1, 1), stride=(1, 1), bias=False)\n",
            "          (1): BatchNorm2d(512, eps=1e-05, momentum=0.1, affine=True, track_running_stats=True)\n",
            "          (2): ReLU()\n",
            "          (3): Conv2d(512, 32, kernel_size=(1, 1), stride=(1, 1), bias=False)\n",
            "          (4): BatchNorm2d(32, eps=1e-05, momentum=0.1, affine=True, track_running_stats=True)\n",
            "        )\n",
            "        (act_fn): ReLU()\n",
            "      )\n",
            "      (10): NewBlock(\n",
            "        (conv): Conv2d(1, 4, kernel_size=(3, 3), stride=(1, 1), padding=(1, 1), bias=False)\n",
            "        (mix): Conv2d(5, 128, kernel_size=(1, 1), stride=(1, 1))\n",
            "        (net): Sequential(\n",
            "          (0): Conv2d(128, 512, kernel_size=(1, 1), stride=(1, 1), bias=False)\n",
            "          (1): BatchNorm2d(512, eps=1e-05, momentum=0.1, affine=True, track_running_stats=True)\n",
            "          (2): ReLU()\n",
            "          (3): Conv2d(512, 32, kernel_size=(1, 1), stride=(1, 1), bias=False)\n",
            "          (4): BatchNorm2d(32, eps=1e-05, momentum=0.1, affine=True, track_running_stats=True)\n",
            "        )\n",
            "        (act_fn): ReLU()\n",
            "      )\n",
            "      (11): NewBlock(\n",
            "        (conv): Conv2d(1, 4, kernel_size=(3, 3), stride=(1, 1), padding=(1, 1), bias=False)\n",
            "        (mix): Conv2d(5, 128, kernel_size=(1, 1), stride=(1, 1))\n",
            "        (net): Sequential(\n",
            "          (0): Conv2d(128, 512, kernel_size=(1, 1), stride=(1, 1), bias=False)\n",
            "          (1): BatchNorm2d(512, eps=1e-05, momentum=0.1, affine=True, track_running_stats=True)\n",
            "          (2): ReLU()\n",
            "          (3): Conv2d(512, 32, kernel_size=(1, 1), stride=(1, 1), bias=False)\n",
            "          (4): BatchNorm2d(32, eps=1e-05, momentum=0.1, affine=True, track_running_stats=True)\n",
            "        )\n",
            "        (act_fn): ReLU()\n",
            "      )\n",
            "      (12): NewBlock(\n",
            "        (conv): Conv2d(1, 4, kernel_size=(3, 3), stride=(2, 2), padding=(1, 1), bias=False)\n",
            "        (mix): Conv2d(5, 128, kernel_size=(1, 1), stride=(1, 1))\n",
            "        (net): Sequential(\n",
            "          (0): Conv2d(128, 512, kernel_size=(1, 1), stride=(1, 1), bias=False)\n",
            "          (1): BatchNorm2d(512, eps=1e-05, momentum=0.1, affine=True, track_running_stats=True)\n",
            "          (2): ReLU()\n",
            "          (3): Conv2d(512, 64, kernel_size=(1, 1), stride=(1, 1), bias=False)\n",
            "          (4): BatchNorm2d(64, eps=1e-05, momentum=0.1, affine=True, track_running_stats=True)\n",
            "        )\n",
            "        (downsample): Conv2d(32, 64, kernel_size=(1, 1), stride=(2, 2))\n",
            "        (act_fn): ReLU()\n",
            "      )\n",
            "      (13): NewBlock(\n",
            "        (conv): Conv2d(1, 4, kernel_size=(3, 3), stride=(1, 1), padding=(1, 1), bias=False)\n",
            "        (mix): Conv2d(5, 256, kernel_size=(1, 1), stride=(1, 1))\n",
            "        (net): Sequential(\n",
            "          (0): Conv2d(256, 1024, kernel_size=(1, 1), stride=(1, 1), bias=False)\n",
            "          (1): BatchNorm2d(1024, eps=1e-05, momentum=0.1, affine=True, track_running_stats=True)\n",
            "          (2): ReLU()\n",
            "          (3): Conv2d(1024, 64, kernel_size=(1, 1), stride=(1, 1), bias=False)\n",
            "          (4): BatchNorm2d(64, eps=1e-05, momentum=0.1, affine=True, track_running_stats=True)\n",
            "        )\n",
            "        (act_fn): ReLU()\n",
            "      )\n",
            "      (14): NewBlock(\n",
            "        (conv): Conv2d(1, 4, kernel_size=(3, 3), stride=(1, 1), padding=(1, 1), bias=False)\n",
            "        (mix): Conv2d(5, 256, kernel_size=(1, 1), stride=(1, 1))\n",
            "        (net): Sequential(\n",
            "          (0): Conv2d(256, 1024, kernel_size=(1, 1), stride=(1, 1), bias=False)\n",
            "          (1): BatchNorm2d(1024, eps=1e-05, momentum=0.1, affine=True, track_running_stats=True)\n",
            "          (2): ReLU()\n",
            "          (3): Conv2d(1024, 64, kernel_size=(1, 1), stride=(1, 1), bias=False)\n",
            "          (4): BatchNorm2d(64, eps=1e-05, momentum=0.1, affine=True, track_running_stats=True)\n",
            "        )\n",
            "        (act_fn): ReLU()\n",
            "      )\n",
            "      (15): NewBlock(\n",
            "        (conv): Conv2d(1, 4, kernel_size=(3, 3), stride=(1, 1), padding=(1, 1), bias=False)\n",
            "        (mix): Conv2d(5, 256, kernel_size=(1, 1), stride=(1, 1))\n",
            "        (net): Sequential(\n",
            "          (0): Conv2d(256, 1024, kernel_size=(1, 1), stride=(1, 1), bias=False)\n",
            "          (1): BatchNorm2d(1024, eps=1e-05, momentum=0.1, affine=True, track_running_stats=True)\n",
            "          (2): ReLU()\n",
            "          (3): Conv2d(1024, 64, kernel_size=(1, 1), stride=(1, 1), bias=False)\n",
            "          (4): BatchNorm2d(64, eps=1e-05, momentum=0.1, affine=True, track_running_stats=True)\n",
            "        )\n",
            "        (act_fn): ReLU()\n",
            "      )\n",
            "      (16): NewBlock(\n",
            "        (conv): Conv2d(1, 4, kernel_size=(3, 3), stride=(1, 1), padding=(1, 1), bias=False)\n",
            "        (mix): Conv2d(5, 256, kernel_size=(1, 1), stride=(1, 1))\n",
            "        (net): Sequential(\n",
            "          (0): Conv2d(256, 1024, kernel_size=(1, 1), stride=(1, 1), bias=False)\n",
            "          (1): BatchNorm2d(1024, eps=1e-05, momentum=0.1, affine=True, track_running_stats=True)\n",
            "          (2): ReLU()\n",
            "          (3): Conv2d(1024, 64, kernel_size=(1, 1), stride=(1, 1), bias=False)\n",
            "          (4): BatchNorm2d(64, eps=1e-05, momentum=0.1, affine=True, track_running_stats=True)\n",
            "        )\n",
            "        (act_fn): ReLU()\n",
            "      )\n",
            "      (17): NewBlock(\n",
            "        (conv): Conv2d(1, 4, kernel_size=(3, 3), stride=(1, 1), padding=(1, 1), bias=False)\n",
            "        (mix): Conv2d(5, 256, kernel_size=(1, 1), stride=(1, 1))\n",
            "        (net): Sequential(\n",
            "          (0): Conv2d(256, 1024, kernel_size=(1, 1), stride=(1, 1), bias=False)\n",
            "          (1): BatchNorm2d(1024, eps=1e-05, momentum=0.1, affine=True, track_running_stats=True)\n",
            "          (2): ReLU()\n",
            "          (3): Conv2d(1024, 64, kernel_size=(1, 1), stride=(1, 1), bias=False)\n",
            "          (4): BatchNorm2d(64, eps=1e-05, momentum=0.1, affine=True, track_running_stats=True)\n",
            "        )\n",
            "        (act_fn): ReLU()\n",
            "      )\n",
            "    )\n",
            "    (output_net): Sequential(\n",
            "      (0): AdaptiveAvgPool2d(output_size=(1, 1))\n",
            "      (1): Flatten(start_dim=1, end_dim=-1)\n",
            "      (2): Linear(in_features=64, out_features=10, bias=True)\n",
            "    )\n",
            "  )\n",
            "  (loss_module): CrossEntropyLoss()\n",
            ")\n"
          ]
        }
      ]
    },
    {
      "cell_type": "code",
      "source": [
        "resnet_results # cxc4x3x3 5 c4xc16 g=1 2.4M"
      ],
      "metadata": {
        "id": "DAmhm0_LwZc-",
        "colab": {
          "base_uri": "https://localhost:8080/"
        },
        "outputId": "c07e0746-ba0f-45af-90ea-adfd806b211f"
      },
      "execution_count": null,
      "outputs": [
        {
          "output_type": "execute_result",
          "data": {
            "text/plain": [
              "{'test': 0.9277999997138977, 'val': 0.9297999739646912}"
            ]
          },
          "metadata": {},
          "execution_count": 30
        }
      ]
    },
    {
      "cell_type": "code",
      "source": [
        "resnet_results # cxcx3x3 5 cxc4 g=1 251k"
      ],
      "metadata": {
        "id": "raI-z4-UPMbl",
        "outputId": "c04b5dfa-3204-48fb-bfc0-c597f941a0a9",
        "colab": {
          "base_uri": "https://localhost:8080/"
        }
      },
      "execution_count": null,
      "outputs": [
        {
          "output_type": "execute_result",
          "data": {
            "text/plain": [
              "{'test': 0.8919000029563904, 'val': 0.9046000242233276}"
            ]
          },
          "metadata": {},
          "execution_count": 23
        }
      ]
    },
    {
      "cell_type": "code",
      "source": [
        "resnet_results # 1x4x3x3 5 c4xc16 g=1 2.3M"
      ],
      "metadata": {
        "colab": {
          "base_uri": "https://localhost:8080/"
        },
        "id": "IVqmuTG7aqkI",
        "outputId": "bffd2bec-17d4-4971-da58-ed3afc0e86e4"
      },
      "execution_count": null,
      "outputs": [
        {
          "output_type": "execute_result",
          "data": {
            "text/plain": [
              "{'test': 0.9351000189781189, 'val': 0.9366000294685364}"
            ]
          },
          "metadata": {},
          "execution_count": 29
        }
      ]
    },
    {
      "cell_type": "code",
      "source": [
        "resnet_results # 1x2x3x3 5 c2xc8 g=1 715k"
      ],
      "metadata": {
        "colab": {
          "base_uri": "https://localhost:8080/"
        },
        "id": "FwVoXjaUzjfQ",
        "outputId": "1c7a54b1-8d00-42e5-bc87-19fd39583440"
      },
      "execution_count": null,
      "outputs": [
        {
          "output_type": "execute_result",
          "data": {
            "text/plain": [
              "{'test': 0.9211999773979187, 'val': 0.926800012588501}"
            ]
          },
          "metadata": {},
          "execution_count": 25
        }
      ]
    },
    {
      "cell_type": "code",
      "source": [
        "resnet_results # c=8.., D=8,8,4, 1xDx3x3 5 cDxc2D g=1 517k"
      ],
      "metadata": {
        "id": "SBqUcZN6gcXX",
        "outputId": "6f164c18-a6c7-4d3e-ac4e-6ec3a054cb24",
        "colab": {
          "base_uri": "https://localhost:8080/"
        }
      },
      "execution_count": null,
      "outputs": [
        {
          "output_type": "execute_result",
          "data": {
            "text/plain": [
              "{'test': 0.9144999980926514, 'val': 0.921999990940094}"
            ]
          },
          "metadata": {},
          "execution_count": 31
        }
      ]
    },
    {
      "cell_type": "code",
      "source": [
        "resnet_results # 1x4x3x3 5 c4xc8 g=1 1.2M"
      ],
      "metadata": {
        "id": "3K46EXGUHyK5",
        "outputId": "91574f23-a774-4786-ae62-94e0f27c6c16",
        "colab": {
          "base_uri": "https://localhost:8080/"
        }
      },
      "execution_count": null,
      "outputs": [
        {
          "output_type": "execute_result",
          "data": {
            "text/plain": [
              "{'test': 0.9280999898910522, 'val': 0.9348000288009644}"
            ]
          },
          "metadata": {},
          "execution_count": 25
        }
      ]
    },
    {
      "cell_type": "code",
      "source": [
        "resnet_results # D=4,4,8 1xDx3x3 5 cDxcD/2 g=1 851M"
      ],
      "metadata": {
        "id": "2Fg_fPFhvwKm",
        "outputId": "2f936a9e-818f-4cf6-ba2e-ea2a660bead8",
        "colab": {
          "base_uri": "https://localhost:8080/"
        }
      },
      "execution_count": null,
      "outputs": [
        {
          "output_type": "execute_result",
          "data": {
            "text/plain": [
              "{'test': 0.9151999950408936, 'val': 0.9269999861717224}"
            ]
          },
          "metadata": {},
          "execution_count": 24
        }
      ]
    },
    {
      "cell_type": "code",
      "source": [
        "resnet_results # D=8,8,4 1xDx3x3 5 cDxcD/2 g=1 527M"
      ],
      "metadata": {
        "colab": {
          "base_uri": "https://localhost:8080/"
        },
        "id": "3T9k2QCRfSuW",
        "outputId": "087f49e3-fd05-42c8-e47e-dc2763bcffa1"
      },
      "execution_count": null,
      "outputs": [
        {
          "output_type": "execute_result",
          "data": {
            "text/plain": [
              "{'test': 0.9193000197410583, 'val': 0.921999990940094}"
            ]
          },
          "metadata": {},
          "execution_count": 26
        }
      ]
    },
    {
      "cell_type": "code",
      "source": [
        "resnet_results # D=8,8,4 1xDx3x3 5 cDxcD g=1 1.0M"
      ],
      "metadata": {
        "colab": {
          "base_uri": "https://localhost:8080/"
        },
        "id": "iCmBmck-4BMg",
        "outputId": "9d5a0071-6b91-445c-c18a-2a700de672a4"
      },
      "execution_count": null,
      "outputs": [
        {
          "output_type": "execute_result",
          "data": {
            "text/plain": [
              "{'test': 0.927299976348877, 'val': 0.9348000288009644}"
            ]
          },
          "metadata": {},
          "execution_count": 27
        }
      ]
    },
    {
      "cell_type": "code",
      "source": [
        "resnet_results # c=8.. 1x8x3x3 5 c8xc8 g=1 537k"
      ],
      "metadata": {
        "id": "dAWCbhLYbHzp",
        "outputId": "fe03b0f5-1667-40ad-a80e-55a015ee139d",
        "colab": {
          "base_uri": "https://localhost:8080/"
        }
      },
      "execution_count": null,
      "outputs": [
        {
          "output_type": "execute_result",
          "data": {
            "text/plain": [
              "{'test': 0.9121000170707703, 'val': 0.9211999773979187}"
            ]
          },
          "metadata": {},
          "execution_count": 24
        }
      ]
    },
    {
      "cell_type": "code",
      "source": [
        "resnet_results # 1x8x3x3 5 c8xc4 g=1 1.1M"
      ],
      "metadata": {
        "id": "iJOZS1uu1RJi",
        "outputId": "b3f6edf3-cbca-4574-ea89-2338cb55215e",
        "colab": {
          "base_uri": "https://localhost:8080/"
        }
      },
      "execution_count": null,
      "outputs": [
        {
          "output_type": "execute_result",
          "data": {
            "text/plain": [
              "{'test': 0.9280999898910522, 'val': 0.9340000152587891}"
            ]
          },
          "metadata": {},
          "execution_count": 34
        }
      ]
    },
    {
      "cell_type": "code",
      "source": [
        "resnet_results # 1x6x3x3 5 c6xc4 g=1 834k"
      ],
      "metadata": {
        "id": "y0PaLialNzau",
        "outputId": "7c2625dc-23d5-4c5f-d876-334d669b6ae0",
        "colab": {
          "base_uri": "https://localhost:8080/"
        }
      },
      "execution_count": null,
      "outputs": [
        {
          "output_type": "execute_result",
          "data": {
            "text/plain": [
              "{'test': 0.9233999848365784, 'val': 0.9291999936103821}"
            ]
          },
          "metadata": {},
          "execution_count": 30
        }
      ]
    },
    {
      "cell_type": "code",
      "source": [
        "resnet_results # cxc4x3x3 2+2 c4xc4 g=1 618k"
      ],
      "metadata": {
        "id": "ORukGPwGQs_z",
        "outputId": "60b16d40-e6a0-4f07-ec7c-a9c3195e1508",
        "colab": {
          "base_uri": "https://localhost:8080/"
        }
      },
      "execution_count": null,
      "outputs": [
        {
          "output_type": "execute_result",
          "data": {
            "text/plain": [
              "{'test': 0.10000000149011612, 'val': 0.10279999673366547}"
            ]
          },
          "metadata": {},
          "execution_count": 24
        }
      ]
    },
    {
      "cell_type": "code",
      "source": [
        "resnet_results # cxc4x3x3 5+3 c4xc4 g=1 628k"
      ],
      "metadata": {
        "colab": {
          "base_uri": "https://localhost:8080/"
        },
        "id": "c13yUt7WD58H",
        "outputId": "d7519c22-2396-4473-e999-57bc1217e853"
      },
      "execution_count": null,
      "outputs": [
        {
          "output_type": "execute_result",
          "data": {
            "text/plain": [
              "{'test': 0.8429999947547913, 'val': 0.8575999736785889}"
            ]
          },
          "metadata": {},
          "execution_count": 31
        }
      ]
    },
    {
      "cell_type": "code",
      "source": [
        "resnet_results # cxc4x3x3 5 c4xc g=1 187k"
      ],
      "metadata": {
        "id": "igGzM6iuDXHo",
        "outputId": "8060374d-0708-4f8b-cb18-d44e21b42126",
        "colab": {
          "base_uri": "https://localhost:8080/"
        }
      },
      "execution_count": null,
      "outputs": [
        {
          "output_type": "execute_result",
          "data": {
            "text/plain": [
              "{'test': 0.9128999710083008, 'val': 0.9172000288963318}"
            ]
          },
          "metadata": {},
          "execution_count": 29
        }
      ]
    },
    {
      "cell_type": "code",
      "source": [
        "resnet_results # c=8.. cxc4x3x3 5 c4xc4 g=1 166k"
      ],
      "metadata": {
        "id": "PbvkjoxyoSzj",
        "outputId": "a77faf5b-270e-4cc6-c771-06c6c3f77151",
        "colab": {
          "base_uri": "https://localhost:8080/"
        }
      },
      "execution_count": null,
      "outputs": [
        {
          "output_type": "execute_result",
          "data": {
            "text/plain": [
              "{'test': 0.9020000100135803, 'val': 0.9147999882698059}"
            ]
          },
          "metadata": {},
          "execution_count": 26
        }
      ]
    },
    {
      "cell_type": "code",
      "source": [
        "resnet_results # cxc4x3x3 5 c4xc4 g=1 620k"
      ],
      "metadata": {
        "id": "1X0bQW4un826",
        "outputId": "743a75ca-ae44-4e28-f4c7-4bc5b11a0e8e",
        "colab": {
          "base_uri": "https://localhost:8080/"
        }
      },
      "execution_count": null,
      "outputs": [
        {
          "output_type": "execute_result",
          "data": {
            "text/plain": [
              "{'test': 0.925000011920929, 'val': 0.9246000051498413}"
            ]
          },
          "metadata": {},
          "execution_count": 24
        }
      ]
    },
    {
      "cell_type": "code",
      "source": [
        "resnet_results # baseline [6,6,6] 564k"
      ],
      "metadata": {
        "colab": {
          "base_uri": "https://localhost:8080/"
        },
        "id": "_LeDaRJ202Ld",
        "outputId": "58dec599-7a74-4343-e5b6-7a8e111f1f60"
      },
      "execution_count": null,
      "outputs": [
        {
          "output_type": "execute_result",
          "data": {
            "text/plain": [
              "{'test': 0.9138000011444092, 'val': 0.920199990272522}"
            ]
          },
          "metadata": {},
          "execution_count": 25
        }
      ]
    },
    {
      "cell_type": "code",
      "source": [
        "resnet_results # c=8.. 1x4x3x3 5 c4xc4 g=1 155k"
      ],
      "metadata": {
        "colab": {
          "base_uri": "https://localhost:8080/"
        },
        "id": "RnA2DQcavgW_",
        "outputId": "0a46e151-b235-470b-b1ed-37b790abfd7a"
      },
      "execution_count": null,
      "outputs": [
        {
          "output_type": "execute_result",
          "data": {
            "text/plain": [
              "{'test': 0.9090999960899353, 'val': 0.9133999943733215}"
            ]
          },
          "metadata": {},
          "execution_count": 24
        }
      ]
    },
    {
      "cell_type": "code",
      "source": [
        "resnet_results # 1x4x3x3 5 c4xc4 g=1 599k"
      ],
      "metadata": {
        "colab": {
          "base_uri": "https://localhost:8080/"
        },
        "id": "jOws_EHk2yCB",
        "outputId": "76d982c6-a45b-4496-9383-72a324defc1c"
      },
      "execution_count": null,
      "outputs": [
        {
          "output_type": "execute_result",
          "data": {
            "text/plain": [
              "{'test': 0.9211999773979187, 'val': 0.9330000281333923}"
            ]
          },
          "metadata": {},
          "execution_count": 29
        }
      ]
    },
    {
      "cell_type": "code",
      "source": [
        "resnet_results # 1x4x3x3 5 c4xc2 g=1 309k"
      ],
      "metadata": {
        "id": "YhWb2P01OmhF",
        "colab": {
          "base_uri": "https://localhost:8080/"
        },
        "outputId": "60ace5a6-13af-450e-b9e5-9189eb2a2e2d"
      },
      "execution_count": null,
      "outputs": [
        {
          "output_type": "execute_result",
          "data": {
            "text/plain": [
              "{'test': 0.9182000160217285, 'val': 0.9261999726295471}"
            ]
          },
          "metadata": {},
          "execution_count": 23
        }
      ]
    },
    {
      "cell_type": "code",
      "source": [
        "resnet_results # 1x4x3x3 bn 2 c4xc2 g=1 307k"
      ],
      "metadata": {
        "id": "y9DeH0dTrBrH",
        "outputId": "bcd773ec-b926-4f9d-c94e-a34ea1a704aa",
        "colab": {
          "base_uri": "https://localhost:8080/"
        }
      },
      "execution_count": null,
      "outputs": [
        {
          "output_type": "execute_result",
          "data": {
            "text/plain": [
              "{'test': 0.9034000039100647, 'val': 0.9111999869346619}"
            ]
          },
          "metadata": {},
          "execution_count": 32
        }
      ]
    },
    {
      "cell_type": "code",
      "source": [
        "resnet_results # 1x4x3x3 2 c4xc2 g=1 302k"
      ],
      "metadata": {
        "id": "cnuR5OOPPMbX",
        "outputId": "b928afde-01cc-4e01-eb11-1d7d6e0b5259",
        "colab": {
          "base_uri": "https://localhost:8080/"
        }
      },
      "execution_count": null,
      "outputs": [
        {
          "output_type": "execute_result",
          "data": {
            "text/plain": [
              "{'test': 0.9172999858856201, 'val': 0.9223999977111816}"
            ]
          },
          "metadata": {},
          "execution_count": 41
        }
      ]
    },
    {
      "cell_type": "code",
      "source": [
        "resnet_results # 1x4x3x3 2 c4xc g=1 157k"
      ],
      "metadata": {
        "id": "TuS4bJdUxwmW",
        "outputId": "3428a198-ce2d-4bda-ee68-c8227c7b76b8",
        "colab": {
          "base_uri": "https://localhost:8080/"
        }
      },
      "execution_count": null,
      "outputs": [
        {
          "output_type": "execute_result",
          "data": {
            "text/plain": [
              "{'test': 0.8988000154495239, 'val': 0.9052000045776367}"
            ]
          },
          "metadata": {},
          "execution_count": 37
        }
      ]
    },
    {
      "cell_type": "code",
      "source": [
        "resnet_results # cxc4x3x3 2 c4xc2 g=1 324k"
      ],
      "metadata": {
        "id": "iPEYgMvsZiyg",
        "outputId": "492cc65c-d339-4639-98d6-13bc0469530e",
        "colab": {
          "base_uri": "https://localhost:8080/"
        }
      },
      "execution_count": null,
      "outputs": [
        {
          "output_type": "execute_result",
          "data": {
            "text/plain": [
              "{'test': 0.9168999791145325, 'val': 0.9156000018119812}"
            ]
          },
          "metadata": {},
          "execution_count": 33
        }
      ]
    },
    {
      "cell_type": "code",
      "source": [
        "resnet_results # 1x4x3x3 2 c4xc4 g=1 591k"
      ],
      "metadata": {
        "id": "RwUdEkxAnqnI",
        "outputId": "15834d55-42f9-4b02-d155-cc013be0fafe",
        "colab": {
          "base_uri": "https://localhost:8080/"
        }
      },
      "execution_count": null,
      "outputs": [
        {
          "output_type": "execute_result",
          "data": {
            "text/plain": [
              "{'test': 0.9162999987602234, 'val': 0.9196000099182129}"
            ]
          },
          "metadata": {},
          "execution_count": 26
        }
      ]
    },
    {
      "cell_type": "code",
      "source": [
        "resnet_results # 1x4x3x3 2 c4xc2 g=1 302k"
      ],
      "metadata": {
        "id": "N_tY8fJgLrqY",
        "outputId": "12f1ec70-a913-4b55-e8ce-00e9e6ac4966",
        "colab": {
          "base_uri": "https://localhost:8080/"
        }
      },
      "execution_count": null,
      "outputs": [
        {
          "output_type": "execute_result",
          "data": {
            "text/plain": [
              "{'test': 0.9172999858856201, 'val': 0.9223999977111816}"
            ]
          },
          "metadata": {},
          "execution_count": 31
        }
      ]
    },
    {
      "cell_type": "code",
      "source": [
        "resnet_results # 1x8x3x3 2 c8xc2 g=1 537k"
      ],
      "metadata": {
        "id": "JbwJq0ANv9RU",
        "outputId": "9533f96a-15e4-4eaa-b430-975bbd3ddf90",
        "colab": {
          "base_uri": "https://localhost:8080/"
        }
      },
      "execution_count": null,
      "outputs": [
        {
          "output_type": "execute_result",
          "data": {
            "text/plain": [
              "{'test': 0.9154000282287598, 'val': 0.9210000038146973}"
            ]
          },
          "metadata": {},
          "execution_count": 27
        }
      ]
    },
    {
      "cell_type": "code",
      "source": [
        "resnet_results # 1x8x3x3 bn 2 /2 155k"
      ],
      "metadata": {
        "id": "DHFO4LnY8O59",
        "outputId": "84190383-9cc2-4917-cd84-dea019867536",
        "colab": {
          "base_uri": "https://localhost:8080/"
        }
      },
      "execution_count": null,
      "outputs": [
        {
          "output_type": "execute_result",
          "data": {
            "text/plain": [
              "{'test': 0.8754000067710876, 'val': 0.8866000175476074}"
            ]
          },
          "metadata": {},
          "execution_count": 35
        }
      ]
    },
    {
      "cell_type": "code",
      "source": [
        "resnet_results # cxc8x3x3 bn 2 /2 198k"
      ],
      "metadata": {
        "id": "CDmfXAu2Td5v",
        "outputId": "2db0945b-752e-4234-883b-c68cfb6f3360",
        "colab": {
          "base_uri": "https://localhost:8080/"
        }
      },
      "execution_count": null,
      "outputs": [
        {
          "output_type": "execute_result",
          "data": {
            "text/plain": [
              "{'test': 0.90420001745224, 'val': 0.9114000201225281}"
            ]
          },
          "metadata": {},
          "execution_count": 31
        }
      ]
    },
    {
      "cell_type": "code",
      "source": [
        "resnet_results # 1x4x3x3 x2 2 /2 144k"
      ],
      "metadata": {
        "id": "sSdTTqu9m0pd",
        "outputId": "20f11733-00cf-4566-8430-6f1c908c195a",
        "colab": {
          "base_uri": "https://localhost:8080/"
        }
      },
      "execution_count": null,
      "outputs": [
        {
          "output_type": "execute_result",
          "data": {
            "text/plain": [
              "{'test': 0.909600019454956, 'val': 0.9128000140190125}"
            ]
          },
          "metadata": {},
          "execution_count": 25
        }
      ]
    },
    {
      "cell_type": "code",
      "source": [
        "resnet_results # 1x4x3x3 2 c4xc2 g=c/2 85.1k"
      ],
      "metadata": {
        "id": "l0chOuCfD8ZM",
        "outputId": "257f5453-c2e1-4d0f-a933-f9394c116ab4",
        "colab": {
          "base_uri": "https://localhost:8080/"
        }
      },
      "execution_count": null,
      "outputs": [
        {
          "output_type": "execute_result",
          "data": {
            "text/plain": [
              "{'test': 0.8921999931335449, 'val': 0.8988000154495239}"
            ]
          },
          "metadata": {},
          "execution_count": 24
        }
      ]
    },
    {
      "cell_type": "code",
      "source": [
        "resnet_results # cxc4x3x3 g=c/2 2 c4xc2 g=c 124k"
      ],
      "metadata": {
        "id": "XSm5xNAlttVP",
        "outputId": "a778c0b4-387b-4a37-cb5c-121961746a73",
        "colab": {
          "base_uri": "https://localhost:8080/"
        }
      },
      "execution_count": null,
      "outputs": [
        {
          "output_type": "execute_result",
          "data": {
            "text/plain": [
              "{'test': 0.9013000130653381, 'val': 0.9034000039100647}"
            ]
          },
          "metadata": {},
          "execution_count": 24
        }
      ]
    },
    {
      "cell_type": "code",
      "source": [
        "resnet_results # cxc4x3x3 2 c4xc2 g=c 101k"
      ],
      "metadata": {
        "id": "PGOzFoe-4vLG",
        "outputId": "8c451528-4ee0-4daa-b88d-e16e663a020f",
        "colab": {
          "base_uri": "https://localhost:8080/"
        }
      },
      "execution_count": null,
      "outputs": [
        {
          "output_type": "execute_result",
          "data": {
            "text/plain": [
              "{'test': 0.8945000171661377, 'val': 0.8989999890327454}"
            ]
          },
          "metadata": {},
          "execution_count": 34
        }
      ]
    },
    {
      "cell_type": "code",
      "source": [
        "resnet_results # cxc4x3x3 bn 2 c4xc2 g=c 106k"
      ],
      "metadata": {
        "id": "Vvo0idVhebW2",
        "outputId": "cf847947-5a67-45cd-ad54-216b84a6d502",
        "colab": {
          "base_uri": "https://localhost:8080/"
        }
      },
      "execution_count": null,
      "outputs": [
        {
          "output_type": "execute_result",
          "data": {
            "text/plain": [
              "{'test': 0.8912000060081482, 'val': 0.8902000188827515}"
            ]
          },
          "metadata": {},
          "execution_count": 30
        }
      ]
    },
    {
      "cell_type": "code",
      "source": [
        "resnet_results # cxc4x3x3 bn 2 c4xc4 g=c/2 183k"
      ],
      "metadata": {
        "id": "bEdIuZ4g-Spi",
        "outputId": "c3786249-212d-4774-e35e-a94d74b72d02",
        "colab": {
          "base_uri": "https://localhost:8080/"
        }
      },
      "execution_count": null,
      "outputs": [
        {
          "output_type": "execute_result",
          "data": {
            "text/plain": [
              "{'test': 0.8982999920845032, 'val': 0.909600019454956}"
            ]
          },
          "metadata": {},
          "execution_count": 26
        }
      ]
    },
    {
      "cell_type": "code",
      "source": [
        "resnet_results # cxc4x3x3 bn 2 c4xc 184k"
      ],
      "metadata": {
        "id": "TnC_1qBaZRZj",
        "outputId": "9042b25e-293a-4b2b-ab64-7c46b9f5d423",
        "colab": {
          "base_uri": "https://localhost:8080/"
        }
      },
      "execution_count": null,
      "outputs": [
        {
          "output_type": "execute_result",
          "data": {
            "text/plain": [
              "{'test': 0.9142000079154968, 'val': 0.9169999957084656}"
            ]
          },
          "metadata": {},
          "execution_count": 37
        }
      ]
    },
    {
      "cell_type": "code",
      "source": [
        "resnet_results # cxc4x3x3 bn 2 c4xc4 173k"
      ],
      "metadata": {
        "id": "Mdn2FjDkftpC",
        "outputId": "bd625173-113b-4f2b-833d-7c7c1bcb3ba5",
        "colab": {
          "base_uri": "https://localhost:8080/"
        }
      },
      "execution_count": null,
      "outputs": [
        {
          "output_type": "execute_result",
          "data": {
            "text/plain": [
              "{'test': 0.9063000082969666, 'val': 0.907800018787384}"
            ]
          },
          "metadata": {},
          "execution_count": 33
        }
      ]
    },
    {
      "cell_type": "code",
      "source": [
        "resnet_results # 1x4x3x3 2 c4xc4 152k"
      ],
      "metadata": {
        "id": "ZDsv-K8TEj3J",
        "outputId": "188162f0-8aeb-44ae-e3d8-0e34570039c2",
        "colab": {
          "base_uri": "https://localhost:8080/"
        }
      },
      "execution_count": null,
      "outputs": [
        {
          "output_type": "execute_result",
          "data": {
            "text/plain": [
              "{'test': 0.9063000082969666, 'val': 0.9133999943733215}"
            ]
          },
          "metadata": {},
          "execution_count": 28
        }
      ]
    },
    {
      "cell_type": "code",
      "source": [
        "resnet_results # cxc4x3x3 g=4 2 c4xc4 407k"
      ],
      "metadata": {
        "colab": {
          "base_uri": "https://localhost:8080/"
        },
        "id": "wV6UnOkwu4fy",
        "outputId": "2b84aca5-0e75-4462-f0da-38455d86171c"
      },
      "execution_count": null,
      "outputs": [
        {
          "output_type": "execute_result",
          "data": {
            "text/plain": [
              "{'test': 0.9162999987602234, 'val': 0.9205999970436096}"
            ]
          },
          "metadata": {},
          "execution_count": 24
        }
      ]
    },
    {
      "cell_type": "code",
      "source": [
        "resnet_results # cxc4x3x3 2 c4xc4 178k"
      ],
      "metadata": {
        "colab": {
          "base_uri": "https://localhost:8080/"
        },
        "id": "P1-uj5OkulH3",
        "outputId": "72df60fd-b14b-48ad-f01c-a70685e25558"
      },
      "execution_count": null,
      "outputs": [
        {
          "output_type": "execute_result",
          "data": {
            "text/plain": [
              "{'test': 0.9035999774932861, 'val': 0.9139999747276306}"
            ]
          },
          "metadata": {},
          "execution_count": 38
        }
      ]
    },
    {
      "cell_type": "code",
      "source": [
        "resnet_results # 1x4x3x3 2 c4xc4 156k"
      ],
      "metadata": {
        "colab": {
          "base_uri": "https://localhost:8080/"
        },
        "id": "7M3u-2ShQLPr",
        "outputId": "a4fbb18a-d9c9-410e-853d-0c766b7804b0"
      },
      "execution_count": null,
      "outputs": [
        {
          "output_type": "execute_result",
          "data": {
            "text/plain": [
              "{'test': 0.8666999936103821, 'val': 0.8741999864578247}"
            ]
          },
          "metadata": {},
          "execution_count": 32
        }
      ]
    },
    {
      "cell_type": "code",
      "source": [
        "resnet_results # cxc4x3x3 2 c4xc4 178k"
      ],
      "metadata": {
        "colab": {
          "base_uri": "https://localhost:8080/"
        },
        "id": "qRo-h_ZXPuoa",
        "outputId": "f02c49b2-3604-48a4-8adf-25bfc0b6d299"
      },
      "execution_count": null,
      "outputs": [
        {
          "output_type": "execute_result",
          "data": {
            "text/plain": [
              "{'test': 0.8837000131607056, 'val': 0.8844000101089478}"
            ]
          },
          "metadata": {},
          "execution_count": 25
        }
      ]
    },
    {
      "cell_type": "code",
      "source": [
        "resnet_results # 1x4x3x3 2 c4xc4 "
      ],
      "metadata": {
        "colab": {
          "base_uri": "https://localhost:8080/"
        },
        "id": "MuICccd0PA12",
        "outputId": "a3f83274-4cc8-4105-c99d-96f9e4deaea1"
      },
      "execution_count": null,
      "outputs": [
        {
          "output_type": "execute_result",
          "data": {
            "text/plain": [
              "{'test': 0.9006999731063843, 'val': 0.9061999917030334}"
            ]
          },
          "metadata": {},
          "execution_count": 32
        }
      ]
    },
    {
      "cell_type": "code",
      "source": [
        "resnet_results # 1x4x3x3 2 c4xc4 152k"
      ],
      "metadata": {
        "id": "PiaEBIJZSH35"
      },
      "execution_count": null,
      "outputs": []
    },
    {
      "cell_type": "code",
      "source": [
        "resnet_results # 1x4x3x3 5 c4xc4 154k"
      ],
      "metadata": {
        "id": "hruOHWCKfNyz",
        "outputId": "d5649639-a0ff-45e9-a729-397873b2d7b2",
        "colab": {
          "base_uri": "https://localhost:8080/"
        }
      },
      "execution_count": null,
      "outputs": [
        {
          "output_type": "execute_result",
          "data": {
            "text/plain": [
              "{'test': 0.9035000205039978, 'val': 0.9150000214576721}"
            ]
          },
          "metadata": {},
          "execution_count": 24
        }
      ]
    },
    {
      "cell_type": "code",
      "source": [
        "resnet_results # 1x8x3x3 c8xc8 308k"
      ],
      "metadata": {
        "id": "ClRK6XH4vvKW",
        "colab": {
          "base_uri": "https://localhost:8080/"
        },
        "outputId": "51061450-2de7-4a6d-c25f-3dbead6b4d93"
      },
      "execution_count": null,
      "outputs": [
        {
          "output_type": "execute_result",
          "data": {
            "text/plain": [
              "{'test': 0.9107999801635742, 'val': 0.920199990272522}"
            ]
          },
          "metadata": {},
          "execution_count": 37
        }
      ]
    },
    {
      "cell_type": "code",
      "source": [
        "resnet_results # 1x8x3x3 c8xc4 165k"
      ],
      "metadata": {
        "id": "WAyCGUvXsrke",
        "outputId": "811e7843-8b3c-4835-db7a-86cc7c2d3c9e",
        "colab": {
          "base_uri": "https://localhost:8080/"
        }
      },
      "execution_count": null,
      "outputs": [
        {
          "output_type": "execute_result",
          "data": {
            "text/plain": [
              "{'test': 0.9054999947547913, 'val': 0.9175999760627747}"
            ]
          },
          "metadata": {},
          "execution_count": 33
        }
      ]
    },
    {
      "cell_type": "code",
      "source": [
        "resnet_results"
      ],
      "metadata": {
        "id": "MSaKc2k_ACgr",
        "outputId": "6fd1a826-c390-41d7-9029-e765dc7bcbf8",
        "colab": {
          "base_uri": "https://localhost:8080/"
        }
      },
      "execution_count": null,
      "outputs": [
        {
          "output_type": "execute_result",
          "data": {
            "text/plain": [
              "{'test': 0.8973000049591064, 'val': 0.9067999720573425}"
            ]
          },
          "metadata": {},
          "execution_count": 31
        }
      ]
    },
    {
      "cell_type": "code",
      "source": [
        "resnet_results"
      ],
      "metadata": {
        "id": "ZyMd4h_slIc3",
        "outputId": "33bf54a7-20f4-48a4-8547-8622a3d91ee8",
        "colab": {
          "base_uri": "https://localhost:8080/"
        }
      },
      "execution_count": null,
      "outputs": [
        {
          "output_type": "execute_result",
          "data": {
            "text/plain": [
              "{'test': 0.8981999754905701, 'val': 0.9043999910354614}"
            ]
          },
          "metadata": {},
          "execution_count": 27
        }
      ]
    },
    {
      "cell_type": "code",
      "source": [
        "resnet_results"
      ],
      "metadata": {
        "id": "TTfx6ci7RyYH",
        "outputId": "5ddafcd7-6557-4d06-c33e-4a5fa0ed44cd",
        "colab": {
          "base_uri": "https://localhost:8080/"
        }
      },
      "execution_count": null,
      "outputs": [
        {
          "output_type": "execute_result",
          "data": {
            "text/plain": [
              "{'test': 0.906499981880188, 'val': 0.9114000201225281}"
            ]
          },
          "metadata": {},
          "execution_count": 33
        }
      ]
    },
    {
      "cell_type": "code",
      "source": [
        "resnet_results # 1x8x3x3 x1 /2 (145k)"
      ],
      "metadata": {
        "id": "SxamKzRusa21",
        "outputId": "56db52de-d24f-48d5-ff5d-2a4a9e70a5dd",
        "colab": {
          "base_uri": "https://localhost:8080/"
        }
      },
      "execution_count": null,
      "outputs": [
        {
          "output_type": "execute_result",
          "data": {
            "text/plain": [
              "{'test': 0.9057999849319458, 'val': 0.9115999937057495}"
            ]
          },
          "metadata": {},
          "execution_count": 33
        }
      ]
    },
    {
      "cell_type": "code",
      "source": [
        "resnet_results # 1x2x3x3 x4 /2 (144k)"
      ],
      "metadata": {
        "id": "0doZslULBBJt",
        "outputId": "44a0a351-555c-4c88-e278-8f5b9aa05f97",
        "colab": {
          "base_uri": "https://localhost:8080/"
        }
      },
      "execution_count": null,
      "outputs": [
        {
          "output_type": "execute_result",
          "data": {
            "text/plain": [
              "{'test': 0.9047999978065491, 'val': 0.9097999930381775}"
            ]
          },
          "metadata": {},
          "execution_count": 31
        }
      ]
    },
    {
      "cell_type": "code",
      "source": [
        "resnet_results # x8 full /2 (188k)"
      ],
      "metadata": {
        "id": "U3uWb7CKAaRp",
        "outputId": "8cc13f29-38df-4476-be00-f39c8b6b5de0",
        "colab": {
          "base_uri": "https://localhost:8080/"
        }
      },
      "execution_count": null,
      "outputs": [
        {
          "output_type": "execute_result",
          "data": {
            "text/plain": [
              "{'test': 0.9075000286102295, 'val': 0.9143999814987183}"
            ]
          },
          "metadata": {},
          "execution_count": 25
        }
      ]
    },
    {
      "cell_type": "code",
      "source": [
        "resnet_results # x8 2c /2 [30] (85K) (1x4x3x3)"
      ],
      "metadata": {
        "id": "6mQJskzjkwmc",
        "outputId": "655e58b3-6508-4c75-8f58-79f760ce94f0",
        "colab": {
          "base_uri": "https://localhost:8080/"
        }
      },
      "execution_count": null,
      "outputs": [
        {
          "output_type": "execute_result",
          "data": {
            "text/plain": [
              "{'test': 0.8949999809265137, 'val': 0.8981999754905701}"
            ]
          },
          "metadata": {},
          "execution_count": 24
        }
      ]
    },
    {
      "cell_type": "code",
      "source": [
        "resnet_results # x8 2c /2 [18] (29.5K) (1x4x3x3)"
      ],
      "metadata": {
        "id": "iGjbyEktv2yy",
        "outputId": "789c231e-a632-43f7-bb9b-f74fb33c31c0",
        "colab": {
          "base_uri": "https://localhost:8080/"
        }
      },
      "execution_count": null,
      "outputs": [
        {
          "output_type": "execute_result",
          "data": {
            "text/plain": [
              "{'test': 0.8615999817848206, 'val': 0.859000027179718}"
            ]
          },
          "metadata": {},
          "execution_count": 36
        }
      ]
    },
    {
      "cell_type": "code",
      "source": [
        "resnet_results # x8 2c /2 [6,6,6] (144K) (1x4x3x3)"
      ],
      "metadata": {
        "id": "-udA6tH6HYCn",
        "outputId": "bcf99108-8f3b-4927-c24f-883f311ed514",
        "colab": {
          "base_uri": "https://localhost:8080/"
        }
      },
      "execution_count": null,
      "outputs": [
        {
          "output_type": "execute_result",
          "data": {
            "text/plain": [
              "{'test': 0.9120000004768372, 'val': 0.9133999943733215}"
            ]
          },
          "metadata": {},
          "execution_count": 27
        }
      ]
    },
    {
      "cell_type": "code",
      "source": [
        "resnet_results # x8 2c /2 [6,6,6] (145K) (1x8x3x3)"
      ],
      "metadata": {
        "id": "gGeVByNwq8Km",
        "outputId": "994c7c1c-9f01-4f8d-d4b0-fcb178a239e9",
        "colab": {
          "base_uri": "https://localhost:8080/"
        }
      },
      "execution_count": null,
      "outputs": [
        {
          "output_type": "execute_result",
          "data": {
            "text/plain": [
              "{'test': 0.9018999934196472, 'val': 0.9169999957084656}"
            ]
          },
          "metadata": {},
          "execution_count": 48
        }
      ]
    },
    {
      "cell_type": "code",
      "source": [
        "resnet_results # x8 2c /2 [6,6,6] (188K)"
      ],
      "metadata": {
        "colab": {
          "base_uri": "https://localhost:8080/"
        },
        "id": "u_dK4nIPkKy0",
        "outputId": "71aeba46-d5c4-4cc0-c1c8-1ee3beee3365"
      },
      "execution_count": null,
      "outputs": [
        {
          "data": {
            "text/plain": [
              "{'test': 0.9079999923706055, 'val': 0.9156000018119812}"
            ]
          },
          "execution_count": 44,
          "metadata": {},
          "output_type": "execute_result"
        }
      ]
    },
    {
      "cell_type": "code",
      "source": [
        "resnet_results # x8 2c /4 [6,6,6] (126K)"
      ],
      "metadata": {
        "colab": {
          "base_uri": "https://localhost:8080/"
        },
        "id": "zgjbmhC60H5S",
        "outputId": "7c2540e9-0a65-4c07-b488-2d5fb45143cb"
      },
      "execution_count": null,
      "outputs": [
        {
          "output_type": "execute_result",
          "data": {
            "text/plain": [
              "{'test': 0.8967000246047974, 'val': 0.9052000045776367}"
            ]
          },
          "metadata": {},
          "execution_count": 40
        }
      ]
    },
    {
      "cell_type": "code",
      "source": [
        "resnet_results # x8 2c /4 [6,6,6] (2.1M) groups=1"
      ],
      "metadata": {
        "colab": {
          "base_uri": "https://localhost:8080/"
        },
        "id": "1wOlxxq1WXVa",
        "outputId": "5f97479d-f9ad-45dd-e97c-7fb994508344"
      },
      "execution_count": null,
      "outputs": [
        {
          "output_type": "execute_result",
          "data": {
            "text/plain": [
              "{'test': 0.917900025844574, 'val': 0.9258000254631042}"
            ]
          },
          "metadata": {},
          "execution_count": 36
        }
      ]
    },
    {
      "cell_type": "code",
      "source": [
        "resnet_results # x1 2c /2 [6,6,6] (278k)"
      ],
      "metadata": {
        "id": "7GaHzjjzjA6D",
        "outputId": "f898b1a1-8652-4dec-d770-611ed0ccc72e",
        "colab": {
          "base_uri": "https://localhost:8080/"
        }
      },
      "execution_count": null,
      "outputs": [
        {
          "output_type": "execute_result",
          "data": {
            "text/plain": [
              "{'test': 0.8981999754905701, 'val': 0.90420001745224}"
            ]
          },
          "metadata": {},
          "execution_count": 34
        }
      ]
    },
    {
      "cell_type": "code",
      "source": [
        "resnet_results # /4 2c /2 [6,6,6] (73.4k)"
      ],
      "metadata": {
        "id": "yyJ-Y8YHFNXA",
        "outputId": "a477d82a-e742-48fd-d0c1-f4fc4a5ca552",
        "colab": {
          "base_uri": "https://localhost:8080/"
        }
      },
      "execution_count": null,
      "outputs": [
        {
          "output_type": "execute_result",
          "data": {
            "text/plain": [
              "{'test': 0.8586999773979187, 'val': 0.8644000291824341}"
            ]
          },
          "metadata": {},
          "execution_count": 30
        }
      ]
    },
    {
      "cell_type": "code",
      "source": [
        "resnet_results # x8(g=1) 2c /2 [6,6,6] (188k)"
      ],
      "metadata": {
        "id": "_fUGag8SZSVE",
        "outputId": "7626bd39-da61-4848-d4e0-934413cf96d1",
        "colab": {
          "base_uri": "https://localhost:8080/"
        }
      },
      "execution_count": null,
      "outputs": [
        {
          "output_type": "execute_result",
          "data": {
            "text/plain": [
              "{'test': 0.9079999923706055, 'val': 0.9156000018119812}"
            ]
          },
          "metadata": {},
          "execution_count": 27
        }
      ]
    },
    {
      "cell_type": "code",
      "source": [
        "resnet_results # x8 [6,6,6] 2c /4 no bn"
      ],
      "metadata": {
        "id": "dtScJq6qsTWS",
        "outputId": "c928885e-60d7-4117-a87c-b192aa023764",
        "colab": {
          "base_uri": "https://localhost:8080/"
        }
      },
      "execution_count": null,
      "outputs": [
        {
          "output_type": "execute_result",
          "data": {
            "text/plain": [
              "{'test': 0.878000020980835, 'val': 0.8858000040054321}"
            ]
          },
          "metadata": {},
          "execution_count": 28
        }
      ]
    },
    {
      "cell_type": "code",
      "source": [
        "resnet_results # x8 [6,6,6] 2c /2 no bn"
      ],
      "metadata": {
        "id": "hMrVZjp_r6Rq",
        "outputId": "d1741b9c-a3c1-4f86-a78a-2bf05f5356e1",
        "colab": {
          "base_uri": "https://localhost:8080/"
        }
      },
      "execution_count": null,
      "outputs": [
        {
          "output_type": "execute_result",
          "data": {
            "text/plain": [
              "{'test': 0.892799973487854, 'val': 0.8985999822616577}"
            ]
          },
          "metadata": {},
          "execution_count": 24
        }
      ]
    },
    {
      "cell_type": "code",
      "source": [
        "print(\"9/16 day run\")\n",
        "print(resnet_results)"
      ],
      "metadata": {
        "id": "yI4Fg3hKh7LY",
        "outputId": "cd585fff-e20a-48a5-97b1-81c97f58a1d3",
        "colab": {
          "base_uri": "https://localhost:8080/"
        }
      },
      "execution_count": null,
      "outputs": [
        {
          "output_type": "stream",
          "name": "stdout",
          "text": [
            "9/16 day run\n",
            "{'test': 0.9092000126838684, 'val': 0.9124000072479248}\n"
          ]
        }
      ]
    },
    {
      "cell_type": "code",
      "source": [
        "print(\"9/16 day run\")\n",
        "print(resnet_results)"
      ],
      "metadata": {
        "id": "uMiBtv1XF-rH",
        "outputId": "b56ea7ef-978a-42ac-d5fc-64aee2aadc32",
        "colab": {
          "base_uri": "https://localhost:8080/"
        }
      },
      "execution_count": null,
      "outputs": [
        {
          "output_type": "stream",
          "name": "stdout",
          "text": [
            "9/16 day run\n",
            "{'test': 0.9164999723434448, 'val': 0.9174000024795532}\n"
          ]
        }
      ]
    },
    {
      "cell_type": "code",
      "source": [
        "print(\"9/16 early run\")\n",
        "print(resnet_results)"
      ],
      "metadata": {
        "id": "ij82_aXZPltC",
        "outputId": "258a97ac-ae5b-4c7a-bc47-4d1dd86c810c",
        "colab": {
          "base_uri": "https://localhost:8080/"
        }
      },
      "execution_count": null,
      "outputs": [
        {
          "output_type": "stream",
          "name": "stdout",
          "text": [
            "9/16 early run\n",
            "{'test': 0.8884999752044678, 'val': 0.8980000019073486}\n"
          ]
        }
      ]
    },
    {
      "cell_type": "code",
      "source": [
        "print(\"9/15 late run\")\n",
        "print(resnet_results)"
      ],
      "metadata": {
        "id": "SFNhRLdG2i_R",
        "outputId": "13889623-f996-46d3-998d-ed2ba2399dd5",
        "colab": {
          "base_uri": "https://localhost:8080/"
        }
      },
      "execution_count": null,
      "outputs": [
        {
          "output_type": "stream",
          "name": "stdout",
          "text": [
            "9/15 late run\n",
            "{'test': 0.9126999974250793, 'val': 0.9164000153541565}\n"
          ]
        }
      ]
    },
    {
      "cell_type": "code",
      "source": [
        "print(\"9/15 run\")\n",
        "print(resnet_results)"
      ],
      "metadata": {
        "id": "FGQQ_SGPys7Y",
        "outputId": "1c41f535-095b-460d-f4a0-a91ffc38b4fe",
        "colab": {
          "base_uri": "https://localhost:8080/"
        }
      },
      "execution_count": null,
      "outputs": [
        {
          "output_type": "stream",
          "name": "stdout",
          "text": [
            "9/15 run\n",
            "{'test': 0.9164999723434448, 'val': 0.9174000024795532}\n"
          ]
        }
      ]
    },
    {
      "cell_type": "code",
      "source": [
        "print(\"9/14 run\")\n",
        "print(resnet_results)"
      ],
      "metadata": {
        "id": "Ls-uTWbgpXNJ",
        "outputId": "9bb51c4a-7937-42a3-b81f-c020c1ff8f5f",
        "colab": {
          "base_uri": "https://localhost:8080/"
        }
      },
      "execution_count": null,
      "outputs": [
        {
          "output_type": "stream",
          "name": "stdout",
          "text": [
            "9/14 run\n",
            "{'test': 0.8633000254631042, 'val': 0.8708000183105469}\n"
          ]
        }
      ]
    },
    {
      "cell_type": "code",
      "source": [
        "print(\"9/13 run\")\n",
        "print(resnet_results)"
      ],
      "metadata": {
        "id": "mOvT9UKU_qBb",
        "outputId": "6ff66ee1-c17c-47da-ce14-4e6fbcdebce8",
        "colab": {
          "base_uri": "https://localhost:8080/"
        }
      },
      "execution_count": null,
      "outputs": [
        {
          "output_type": "stream",
          "name": "stdout",
          "text": [
            "9/13 run\n",
            "{'test': 0.8988000154495239, 'val': 0.9075999855995178}\n"
          ]
        }
      ]
    },
    {
      "cell_type": "code",
      "source": [
        "print(\"9/13 run\")\n",
        "print(resnet_results)"
      ],
      "metadata": {
        "id": "fD4MMREV8YtK",
        "outputId": "d1d22838-20e5-4234-b81f-ca4f0d22e136",
        "colab": {
          "base_uri": "https://localhost:8080/"
        }
      },
      "execution_count": null,
      "outputs": [
        {
          "output_type": "stream",
          "name": "stdout",
          "text": [
            "9/13 run\n",
            "{'test': 0.8978000283241272, 'val': 0.9010000228881836}\n"
          ]
        }
      ]
    },
    {
      "cell_type": "code",
      "source": [
        "print(\"9/11 run\")\n",
        "print(resnet_results)"
      ],
      "metadata": {
        "id": "KoO7KxNK5IIe",
        "outputId": "c2ab8e1f-65e3-4096-c5b0-9262cca4174b",
        "colab": {
          "base_uri": "https://localhost:8080/"
        }
      },
      "execution_count": null,
      "outputs": [
        {
          "output_type": "stream",
          "name": "stdout",
          "text": [
            "9/11 run\n",
            "{'test': 0.8939999938011169, 'val': 0.901199996471405}\n"
          ]
        }
      ]
    },
    {
      "cell_type": "code",
      "source": [
        "print(\"9/11 run\")\n",
        "print(resnet_results)"
      ],
      "metadata": {
        "id": "g6PNKZdMx4lG",
        "outputId": "73410653-67fd-4c27-e03c-89012a566a1a",
        "colab": {
          "base_uri": "https://localhost:8080/"
        }
      },
      "execution_count": null,
      "outputs": [
        {
          "output_type": "stream",
          "name": "stdout",
          "text": [
            "9/11 run\n",
            "{'test': 0.9185000061988831, 'val': 0.9254000186920166}\n"
          ]
        }
      ]
    },
    {
      "cell_type": "code",
      "source": [
        " device"
      ],
      "metadata": {
        "id": "N5kMEsf-u7L7",
        "outputId": "b7e23517-34ed-4d59-ab56-aa3ddbca0e11",
        "colab": {
          "base_uri": "https://localhost:8080/"
        }
      },
      "execution_count": null,
      "outputs": [
        {
          "output_type": "execute_result",
          "data": {
            "text/plain": [
              "device(type='cuda', index=0)"
            ]
          },
          "metadata": {},
          "execution_count": 24
        }
      ]
    },
    {
      "cell_type": "code",
      "source": [
        "resnet_results"
      ],
      "metadata": {
        "id": "JrTP_46BwwdN",
        "outputId": "be083288-18be-47ef-dc9b-1754a80600ee",
        "colab": {
          "base_uri": "https://localhost:8080/"
        }
      },
      "execution_count": null,
      "outputs": [
        {
          "output_type": "execute_result",
          "data": {
            "text/plain": [
              "{'test': 0.9222999811172485, 'val': 0.9272000193595886}"
            ]
          },
          "metadata": {},
          "execution_count": 29
        }
      ]
    },
    {
      "cell_type": "code",
      "source": [
        "resnet_results"
      ],
      "metadata": {
        "colab": {
          "base_uri": "https://localhost:8080/"
        },
        "id": "LVlmGrDmtXCb",
        "outputId": "361487df-cc9a-41cd-fe50-139319679888"
      },
      "execution_count": null,
      "outputs": [
        {
          "output_type": "execute_result",
          "data": {
            "text/plain": [
              "{'test': 0.9061999917030334, 'val': 0.9093999862670898}"
            ]
          },
          "metadata": {},
          "execution_count": 25
        }
      ]
    },
    {
      "cell_type": "markdown",
      "metadata": {
        "id": "XAvQoOaUNbF2"
      },
      "source": [
        "Let's also train the pre-activation ResNet as comparison:"
      ]
    },
    {
      "cell_type": "code",
      "execution_count": null,
      "metadata": {
        "colab": {
          "base_uri": "https://localhost:8080/",
          "height": 188,
          "referenced_widgets": [
            "8efea1ac83f34b5a83c69c0f050139b9",
            "0072322a9485421394ba3566fdeb841d",
            "7d9ff2e8a9f94a92aeb73e6b78d37ea1",
            "d1575ab1d84a46e5922ff15000d5951f",
            "b1ee6814791e4628960699d7fc198986",
            "1f358ae4dcbf45e4b1013245f5d953f4",
            "b05ee9209c2145a88ed73e87436a3750",
            "c39df9f7946447098962f220d8189289",
            "d90c742ac0424c76ae40482a7f6efa62",
            "94854a70485748fba7af5bd76e5efb8c",
            "30a96991930d43049d87315bd44a006a",
            "6af26a79678743dbade4e734678ed99a",
            "d9aa4471e39b4110bf2ada1c35ad9b83",
            "a49770b3cc104818a5d59014cb34dda5",
            "95d01f7db11e4fe7bbee93ac62b3edee",
            "6606a4cd58c1444a8a2d055bd8371d51",
            "f9d70ca0b81045b6a1ddac4b3051b8fe",
            "ec5ae1ac5ff9497fabdd711758022f5e",
            "ca6ab497cc684b6389122bc17a7df902",
            "d8a4c720f1114ae3aff389f2e6d8c9ca",
            "5a5be4e471a44b24b7adbcc930f696bf",
            "278534174bf54680adf955206da0a888"
          ]
        },
        "id": "aKzhVd3rNbF2",
        "outputId": "8e9b77c3-1b88-4052-9694-706471e82211"
      },
      "outputs": [
        {
          "name": "stderr",
          "output_type": "stream",
          "text": [
            "INFO:pytorch_lightning.utilities.rank_zero:GPU available: False, used: False\n",
            "INFO:pytorch_lightning.utilities.rank_zero:TPU available: False, using: 0 TPU cores\n",
            "INFO:pytorch_lightning.utilities.rank_zero:IPU available: False, using: 0 IPUs\n",
            "INFO:pytorch_lightning.utilities.rank_zero:HPU available: False, using: 0 HPUs\n",
            "WARNING:pytorch_lightning.loggers.tensorboard:Missing logger folder: ../saved_models/tutorial5/ResNetPreAct/lightning_logs\n"
          ]
        },
        {
          "name": "stdout",
          "output_type": "stream",
          "text": [
            "Found pretrained model at ../saved_models/tutorial5/ResNetPreAct.ckpt, loading...\n"
          ]
        },
        {
          "data": {
            "application/vnd.jupyter.widget-view+json": {
              "model_id": "8efea1ac83f34b5a83c69c0f050139b9",
              "version_major": 2,
              "version_minor": 0
            },
            "text/plain": [
              "Testing: 0it [00:00, ?it/s]"
            ]
          },
          "metadata": {},
          "output_type": "display_data"
        },
        {
          "data": {
            "application/vnd.jupyter.widget-view+json": {
              "model_id": "6af26a79678743dbade4e734678ed99a",
              "version_major": 2,
              "version_minor": 0
            },
            "text/plain": [
              "Testing: 0it [00:00, ?it/s]"
            ]
          },
          "metadata": {},
          "output_type": "display_data"
        }
      ],
      "source": [
        "resnetpreact_model, resnetpreact_results = train_model(model_name=\"ResNet\", \n",
        "                                                       model_hparams={\"num_classes\": 10,\n",
        "                                                                      \"c_hidden\": [16,32,64],\n",
        "                                                                      \"num_blocks\": [3,3,3],\n",
        "                                                                      \"act_fn_name\": \"relu\",\n",
        "                                                                      \"block_name\": \"PreActResNetBlock\"}, \n",
        "                                                       optimizer_name=\"SGD\",\n",
        "                                                       optimizer_hparams={\"lr\": 0.1,\n",
        "                                                                          \"momentum\": 0.9,\n",
        "                                                                          \"weight_decay\": 1e-4},\n",
        "                                                       save_name=\"ResNetPreAct\")"
      ]
    },
    {
      "cell_type": "markdown",
      "metadata": {
        "id": "-ayNeAvMNbF2"
      },
      "source": [
        "### Tensorboard log\n",
        "\n",
        "Similarly to our GoogleNet model, we also have a TensorBoard log for the ResNet model. We can open it below."
      ]
    },
    {
      "cell_type": "code",
      "execution_count": null,
      "metadata": {
        "colab": {
          "base_uri": "https://localhost:8080/"
        },
        "id": "olf_6m-KNbF2",
        "outputId": "14287925-4f8a-4735-8814-78a5a077e01d"
      },
      "outputs": [
        {
          "name": "stderr",
          "output_type": "stream",
          "text": [
            "UsageError: Line magic function `%tensorboard` not found.\n"
          ]
        }
      ],
      "source": [
        "# Opens tensorboard in notebook. Adjust the path to your CHECKPOINT_PATH! Feel free to change \"ResNet\" to \"ResNetPreAct\"\n",
        "%tensorboard --logdir ../saved_models/tutorial5/tensorboards/ResNet/"
      ]
    },
    {
      "cell_type": "markdown",
      "metadata": {
        "id": "YQ3RyxgvNbF2"
      },
      "source": [
        "<center width=\"100%\"><img src=\"https://github.com/phlippe/uvadlc_notebooks/blob/master/docs/tutorial_notebooks/tutorial5/tensorboard_screenshot_ResNet.png?raw=1\" width=\"1000px\"></center>\n",
        "\n",
        "Feel free to explore the TensorBoard yourself, including the computation graph. In general, we can see that with SGD, the ResNet has a higher training loss than the GoogleNet in the first stage of the training. After reducing the learning rate however, the model achieves even higher validation accuracies. We compare the precise scores at the end of the notebook."
      ]
    },
    {
      "cell_type": "markdown",
      "metadata": {
        "id": "8N-ySmUBNbF2"
      },
      "source": [
        "## DenseNet\n",
        "\n",
        "[DenseNet](https://arxiv.org/abs/1608.06993) is another architecture for enabling very deep neural networks and takes a slightly different perspective on residual connections. Instead of modeling the difference between layers, DenseNet considers residual connections as a possible way to reuse features across layers, removing any necessity to learn redundant feature maps. If we go deeper into the network, the model learns abstract features to recognize patterns. However, some complex patterns consist of a combination of abstract features (e.g. hand, face, etc.), and low-level features (e.g. edges, basic color, etc.). To find these low-level features in the deep layers, standard CNNs have to learn copy such feature maps, which wastes a lot of parameter complexity. DenseNet provides an efficient way of reusing features by having each convolution depends on all previous input features, but add only a small amount of filters to it. See the figure below for an illustration (figure credit - [Hu et al.](https://arxiv.org/abs/1608.06993)):\n",
        "\n",
        "<center width=\"100%\"><img src=\"https://github.com/phlippe/uvadlc_notebooks/blob/master/docs/tutorial_notebooks/tutorial5/densenet_block.svg?raw=1\" style=\"display: block; margin-left: auto; margin-right: auto;\" width=\"500px\"/></center>\n",
        "\n",
        "The last layer, called the transition layer, is responsible for reducing the dimensionality of the feature maps in height, width, and channel size. Although those technically break the identity backpropagation, there are only a few in a network so that it doesn't affect the gradient flow much. \n",
        "\n",
        "We split the implementation of the layers in DenseNet into three parts: a `DenseLayer`, and a `DenseBlock`, and a `TransitionLayer`. The module `DenseLayer` implements a single layer inside a dense block. It applies a 1x1 convolution for dimensionality reduction with a subsequential 3x3 convolution. The output channels are concatenated to the originals and returned. Note that we apply the Batch Normalization as the first layer of each block. This allows slightly different activations for the same features to different layers, depending on what is needed. Overall, we can implement it as follows:"
      ]
    },
    {
      "cell_type": "code",
      "execution_count": null,
      "metadata": {
        "id": "vozL6rDoNbF2"
      },
      "outputs": [],
      "source": [
        "class DenseLayer(nn.Module):\n",
        "    \n",
        "    def __init__(self, c_in, bn_size, growth_rate, act_fn):\n",
        "        \"\"\"\n",
        "        Inputs:\n",
        "            c_in - Number of input channels\n",
        "            bn_size - Bottleneck size (factor of growth rate) for the output of the 1x1 convolution. Typically between 2 and 4.\n",
        "            growth_rate - Number of output channels of the 3x3 convolution\n",
        "            act_fn - Activation class constructor (e.g. nn.ReLU)\n",
        "        \"\"\"\n",
        "        super().__init__()\n",
        "        self.net = nn.Sequential(\n",
        "            nn.BatchNorm2d(c_in),\n",
        "            act_fn(),\n",
        "            nn.Conv2d(c_in, bn_size * growth_rate, kernel_size=1, bias=False),\n",
        "            nn.BatchNorm2d(bn_size * growth_rate),\n",
        "            act_fn(),\n",
        "            nn.Conv2d(bn_size * growth_rate, growth_rate, kernel_size=3, padding=1, bias=False)\n",
        "        )\n",
        "        \n",
        "    def forward(self, x):\n",
        "        out = self.net(x)\n",
        "        out = torch.cat([out, x], dim=1)\n",
        "        return out"
      ]
    },
    {
      "cell_type": "markdown",
      "metadata": {
        "id": "TM8Yl5CNNbF2"
      },
      "source": [
        "The module `DenseBlock` summarizes multiple dense layers applied in sequence. Each dense layer takes as input the original input concatenated with all previous layers' feature maps:"
      ]
    },
    {
      "cell_type": "code",
      "execution_count": null,
      "metadata": {
        "id": "WhV32nCfNbF2"
      },
      "outputs": [],
      "source": [
        "class DenseBlock(nn.Module):\n",
        "    \n",
        "    def __init__(self, c_in, num_layers, bn_size, growth_rate, act_fn):\n",
        "        \"\"\"\n",
        "        Inputs:\n",
        "            c_in - Number of input channels\n",
        "            num_layers - Number of dense layers to apply in the block\n",
        "            bn_size - Bottleneck size to use in the dense layers\n",
        "            growth_rate - Growth rate to use in the dense layers\n",
        "            act_fn - Activation function to use in the dense layers\n",
        "        \"\"\"\n",
        "        super().__init__()\n",
        "        layers = []\n",
        "        for layer_idx in range(num_layers):\n",
        "            layers.append(\n",
        "                DenseLayer(c_in=c_in + layer_idx * growth_rate, # Input channels are original plus the feature maps from previous layers\n",
        "                           bn_size=bn_size,\n",
        "                           growth_rate=growth_rate,\n",
        "                           act_fn=act_fn)\n",
        "            )\n",
        "        self.block = nn.Sequential(*layers)\n",
        "        \n",
        "    def forward(self, x):\n",
        "        out = self.block(x)\n",
        "        return out"
      ]
    },
    {
      "cell_type": "markdown",
      "metadata": {
        "id": "qv7jSwLoNbF3"
      },
      "source": [
        "Finally, the `TransitionLayer` takes as input the final output of a dense block and reduces its channel dimensionality using a 1x1 convolution. To reduce the height and width dimension, we take a slightly different approach than in ResNet and apply an average pooling with kernel size 2 and stride 2. This is because we don't have an additional connection to the output that would consider the full 2x2 patch instead of a single value. Besides, it is more parameter efficient than using a 3x3 convolution with stride 2. Thus, the layer is implemented as follows:"
      ]
    },
    {
      "cell_type": "code",
      "execution_count": null,
      "metadata": {
        "id": "tIexBiFPNbF3"
      },
      "outputs": [],
      "source": [
        "class TransitionLayer(nn.Module):\n",
        "    \n",
        "    def __init__(self, c_in, c_out, act_fn):\n",
        "        super().__init__()\n",
        "        self.transition = nn.Sequential(\n",
        "            nn.BatchNorm2d(c_in),\n",
        "            act_fn(),\n",
        "            nn.Conv2d(c_in, c_out, kernel_size=1, bias=False),\n",
        "            nn.AvgPool2d(kernel_size=2, stride=2) # Average the output for each 2x2 pixel group\n",
        "        )\n",
        "        \n",
        "    def forward(self, x):\n",
        "        return self.transition(x)"
      ]
    },
    {
      "cell_type": "markdown",
      "metadata": {
        "id": "ppuMrEizNbF3"
      },
      "source": [
        "Now we can put everything together and create our DenseNet. To specify the number of layers, we use a similar notation as in ResNets and pass on a list of ints representing the number of layers per block. After each dense block except the last one, we apply a transition layer to reduce the dimensionality by 2. "
      ]
    },
    {
      "cell_type": "code",
      "execution_count": null,
      "metadata": {
        "id": "4QvsAD6qNbF3"
      },
      "outputs": [],
      "source": [
        "class DenseNet(nn.Module):\n",
        "    \n",
        "    def __init__(self, num_classes=10, num_layers=[6,6,6,6], bn_size=2, growth_rate=16, act_fn_name=\"relu\", **kwargs):\n",
        "        super().__init__()\n",
        "        self.hparams = SimpleNamespace(num_classes=num_classes,\n",
        "                                       num_layers=num_layers,\n",
        "                                       bn_size=bn_size,\n",
        "                                       growth_rate=growth_rate,\n",
        "                                       act_fn_name=act_fn_name,\n",
        "                                       act_fn=act_fn_by_name[act_fn_name])\n",
        "        self._create_network()\n",
        "        self._init_params()\n",
        "        \n",
        "    def _create_network(self):\n",
        "        c_hidden = self.hparams.growth_rate * self.hparams.bn_size # The start number of hidden channels\n",
        "        \n",
        "        # A first convolution on the original image to scale up the channel size\n",
        "        self.input_net = nn.Sequential(\n",
        "            nn.Conv2d(3, c_hidden, kernel_size=3, padding=1) # No batch norm or activation function as done inside the Dense layers\n",
        "        )\n",
        "        \n",
        "        # Creating the dense blocks, eventually including transition layers\n",
        "        blocks = []\n",
        "        for block_idx, num_layers in enumerate(self.hparams.num_layers):\n",
        "            blocks.append( \n",
        "                DenseBlock(c_in=c_hidden, \n",
        "                           num_layers=num_layers, \n",
        "                           bn_size=self.hparams.bn_size,\n",
        "                           growth_rate=self.hparams.growth_rate,\n",
        "                           act_fn=self.hparams.act_fn)\n",
        "            )\n",
        "            c_hidden = c_hidden + num_layers * self.hparams.growth_rate # Overall output of the dense block\n",
        "            if block_idx < len(self.hparams.num_layers)-1: # Don't apply transition layer on last block\n",
        "                blocks.append(\n",
        "                    TransitionLayer(c_in=c_hidden,\n",
        "                                    c_out=c_hidden // 2,\n",
        "                                    act_fn=self.hparams.act_fn))\n",
        "                c_hidden = c_hidden // 2\n",
        "                \n",
        "        self.blocks = nn.Sequential(*blocks)\n",
        "        \n",
        "        # Mapping to classification output\n",
        "        self.output_net = nn.Sequential(\n",
        "            nn.BatchNorm2d(c_hidden), # The features have not passed a non-linearity until here.\n",
        "            self.hparams.act_fn(),\n",
        "            nn.AdaptiveAvgPool2d((1,1)),\n",
        "            nn.Flatten(),\n",
        "            nn.Linear(c_hidden, self.hparams.num_classes)\n",
        "        )\n",
        "\n",
        "    def _init_params(self):\n",
        "        # Based on our discussion in Tutorial 4, we should initialize the convolutions according to the activation function\n",
        "        for m in self.modules():\n",
        "            if isinstance(m, nn.Conv2d):\n",
        "                nn.init.kaiming_normal_(m.weight, nonlinearity=self.hparams.act_fn_name)\n",
        "            elif isinstance(m, nn.BatchNorm2d):\n",
        "                nn.init.constant_(m.weight, 1)\n",
        "                nn.init.constant_(m.bias, 0)\n",
        "\n",
        "    def forward(self, x):\n",
        "        x = self.input_net(x)\n",
        "        x = self.blocks(x)\n",
        "        x = self.output_net(x)\n",
        "        return x"
      ]
    },
    {
      "cell_type": "markdown",
      "metadata": {
        "id": "_JnS4ogDNbF3"
      },
      "source": [
        "Let's also add the DenseNet to our model dictionary:"
      ]
    },
    {
      "cell_type": "code",
      "execution_count": null,
      "metadata": {
        "id": "8syH8JgyNbF3"
      },
      "outputs": [],
      "source": [
        "model_dict[\"DenseNet\"] = DenseNet"
      ]
    },
    {
      "cell_type": "markdown",
      "metadata": {
        "id": "K5Gx2WCjNbF3"
      },
      "source": [
        "Lastly, we train our network. In contrast to ResNet, DenseNet does not show any issues with Adam, and hence we train it with this optimizer. The other hyperparameters are chosen to result in a network with a similar parameter size as the ResNet and GoogleNet. Commonly, when designing very deep networks, DenseNet is more parameter efficient than ResNet while achieving a similar or even better performance."
      ]
    },
    {
      "cell_type": "code",
      "execution_count": null,
      "metadata": {
        "id": "xMwi8p0vNbF3",
        "outputId": "7f875a0b-c370-4dfe-ff09-2e945b5cf109",
        "colab": {
          "referenced_widgets": [
            "c3344ac0dc95442090091a0c35b12e44",
            "c2be2ba348dc407a8bbfaa33b030cabf"
          ]
        }
      },
      "outputs": [
        {
          "name": "stderr",
          "output_type": "stream",
          "text": [
            "GPU available: True, used: True\n",
            "I1109 15:33:10.534986 139927971620672 distributed.py:49] GPU available: True, used: True\n",
            "TPU available: False, using: 0 TPU cores\n",
            "I1109 15:33:10.536422 139927971620672 distributed.py:49] TPU available: False, using: 0 TPU cores\n",
            "LOCAL_RANK: 0 - CUDA_VISIBLE_DEVICES: [0]\n",
            "I1109 15:33:10.538130 139927971620672 accelerator_connector.py:385] LOCAL_RANK: 0 - CUDA_VISIBLE_DEVICES: [0]\n"
          ]
        },
        {
          "name": "stdout",
          "output_type": "stream",
          "text": [
            "Found pretrained model at ../saved_models/tutorial5/DenseNet.ckpt, loading...\n"
          ]
        },
        {
          "data": {
            "application/vnd.jupyter.widget-view+json": {
              "model_id": "c3344ac0dc95442090091a0c35b12e44",
              "version_major": 2,
              "version_minor": 0
            },
            "text/plain": [
              "HBox(children=(FloatProgress(value=1.0, bar_style='info', description='Testing', layout=Layout(flex='2'), max=…"
            ]
          },
          "metadata": {},
          "output_type": "display_data"
        },
        {
          "name": "stdout",
          "output_type": "stream",
          "text": [
            "\n"
          ]
        },
        {
          "data": {
            "application/vnd.jupyter.widget-view+json": {
              "model_id": "c2be2ba348dc407a8bbfaa33b030cabf",
              "version_major": 2,
              "version_minor": 0
            },
            "text/plain": [
              "HBox(children=(FloatProgress(value=1.0, bar_style='info', description='Testing', layout=Layout(flex='2'), max=…"
            ]
          },
          "metadata": {},
          "output_type": "display_data"
        },
        {
          "name": "stdout",
          "output_type": "stream",
          "text": [
            "\n"
          ]
        }
      ],
      "source": [
        "densenet_model, densenet_results = train_model(model_name=\"DenseNet\", \n",
        "                                               model_hparams={\"num_classes\": 10,\n",
        "                                                              \"num_layers\": [6,6,6,6],\n",
        "                                                              \"bn_size\": 2,\n",
        "                                                              \"growth_rate\": 16,\n",
        "                                                              \"act_fn_name\": \"relu\"}, \n",
        "                                               optimizer_name=\"Adam\",\n",
        "                                               optimizer_hparams={\"lr\": 1e-3,\n",
        "                                                                  \"weight_decay\": 1e-4})"
      ]
    },
    {
      "cell_type": "markdown",
      "metadata": {
        "id": "Am7YxGUYNbF3"
      },
      "source": [
        "### Tensorboard log\n",
        "\n",
        "Finally, we also have another TensorBoard for the DenseNet training. We take a look at it below:"
      ]
    },
    {
      "cell_type": "code",
      "execution_count": null,
      "metadata": {
        "id": "PXkhlWs2NbF3",
        "scrolled": false
      },
      "outputs": [],
      "source": [
        "# Opens tensorboard in notebook. Adjust the path to your CHECKPOINT_PATH!\n",
        "%tensorboard --logdir ../saved_models/tutorial5/tensorboards/DenseNet/"
      ]
    },
    {
      "cell_type": "markdown",
      "metadata": {
        "id": "z0F_L0WlNbF3"
      },
      "source": [
        "<center width=\"100%\"><img src=\"https://github.com/phlippe/uvadlc_notebooks/blob/master/docs/tutorial_notebooks/tutorial5/tensorboard_screenshot_DenseNet.png?raw=1\" width=\"1000px\"></center>\n",
        "\n",
        "The overall course of the validation accuracy and training loss resemble the training of GoogleNet, which is also related to training the network with Adam. Feel free to explore the training metrics yourself."
      ]
    },
    {
      "cell_type": "markdown",
      "metadata": {
        "id": "_rDv6wcjNbF4"
      },
      "source": [
        "## Conclusion and Comparison\n",
        "\n",
        "After discussing each model separately, and training all of them, we can finally compare them. First, let's organize the results of all models in a table:"
      ]
    },
    {
      "cell_type": "code",
      "execution_count": null,
      "metadata": {
        "colab": {
          "base_uri": "https://localhost:8080/",
          "height": 17
        },
        "id": "JEAsLSLQNbF4",
        "outputId": "822de282-e419-4487-f718-89ca7118ea9a"
      },
      "outputs": [
        {
          "data": {
            "text/html": [
              "<!-- Some HTML code to increase font size in the following table -->\n",
              "<style>\n",
              "th {font-size: 120%;}\n",
              "td {font-size: 120%;}\n",
              "</style>\n"
            ],
            "text/plain": [
              "<IPython.core.display.HTML object>"
            ]
          },
          "metadata": {},
          "output_type": "display_data"
        }
      ],
      "source": [
        "%%html\n",
        "<!-- Some HTML code to increase font size in the following table -->\n",
        "<style>\n",
        "th {font-size: 120%;}\n",
        "td {font-size: 120%;}\n",
        "</style>"
      ]
    },
    {
      "cell_type": "code",
      "execution_count": null,
      "metadata": {
        "colab": {
          "base_uri": "https://localhost:8080/",
          "height": 62
        },
        "id": "Aa4jrFddNbF4",
        "outputId": "f5e3af18-7db0-4736-dbc9-47b44b63bad7"
      },
      "outputs": [
        {
          "data": {
            "text/html": [
              "<table>\n",
              "<thead>\n",
              "<tr><th>Model  </th><th>Val Accuracy  </th><th>Test Accuracy  </th><th>Num Parameters  </th></tr>\n",
              "</thead>\n",
              "<tbody>\n",
              "<tr><td>ResNet </td><td>9.76%         </td><td>10.00%         </td><td>112,122         </td></tr>\n",
              "</tbody>\n",
              "</table>"
            ],
            "text/plain": [
              "<IPython.core.display.HTML object>"
            ]
          },
          "metadata": {},
          "output_type": "display_data"
        }
      ],
      "source": [
        "import tabulate\n",
        "from IPython.display import display, HTML\n",
        "all_models = [\n",
        "    # (\"GoogleNet\", googlenet_results, googlenet_model),\n",
        "    (\"ResNet\", resnet_results, resnet_model),\n",
        "    # (\"ResNetPreAct\", resnetpreact_results, resnetpreact_model),\n",
        "    # (\"DenseNet\", densenet_results, densenet_model)\n",
        "]\n",
        "table = [[model_name,\n",
        "          f\"{100.0*model_results['val']:4.2f}%\",\n",
        "          f\"{100.0*model_results['test']:4.2f}%\",\n",
        "          \"{:,}\".format(sum([np.prod(p.shape) for p in model.parameters()]))]\n",
        "         for model_name, model_results, model in all_models]\n",
        "display(HTML(tabulate.tabulate(table, tablefmt='html', headers=[\"Model\", \"Val Accuracy\", \"Test Accuracy\", \"Num Parameters\"])))"
      ]
    },
    {
      "cell_type": "markdown",
      "metadata": {
        "id": "BkGlDFdDNbF4"
      },
      "source": [
        "First of all, we see that all models are performing reasonably well. Simple models as you have implemented them in the practical achieve considerably lower performance, which is beside the lower number of parameters also attributed to the architecture design choice. GoogleNet is the model to obtain the lowest performance on the validation and test set, although it is very close to DenseNet. A proper hyperparameter search over all the channel sizes in GoogleNet would likely improve the accuracy of the model to a similar level, but this is also expensive given a large number of hyperparameters. ResNet outperforms both DenseNet and GoogleNet by more than 1% on the validation set, while there is a minor difference between both versions, original and pre-activation. We can conclude that for shallow networks, the place of the activation function does not seem to be crucial, although papers have reported the contrary for very deep networks (e.g. [He et al.](https://arxiv.org/abs/1603.05027)). \n",
        "\n",
        "In general, we can conclude that ResNet is a simple, but powerful architecture. If we would apply the models on more complex tasks with larger images and more layers inside the networks, we would likely see a bigger gap between GoogleNet and skip-connection architectures like ResNet and DenseNet. A comparison with deeper models on CIFAR10 can be for example found [here](https://github.com/kuangliu/pytorch-cifar). Interestingly, DenseNet outperforms the original ResNet on their setup but comes closely behind the Pre-Activation ResNet. The best model, a Dual Path Network ([Chen et. al](https://arxiv.org/abs/1707.01629)), is actually a combination of ResNet and DenseNet showing that both offer different advantages."
      ]
    },
    {
      "cell_type": "markdown",
      "metadata": {
        "id": "e9vGDMEiNbF4"
      },
      "source": [
        "### Which model should I choose for my task?\n",
        "\n",
        "We have reviewed four different models. So, which one should we choose if have given a new task? Usually, starting with a ResNet is a good idea given the superior performance of the CIFAR dataset and its simple implementation. Besides, for the parameter number we have chosen here, ResNet is the fastest as DenseNet and GoogleNet have many more layers that are applied in sequence in our primitive implementation. However, if you have a really difficult task, such as semantic segmentation on HD images, more complex variants of ResNet and DenseNet are recommended.  "
      ]
    },
    {
      "cell_type": "markdown",
      "metadata": {
        "id": "MGunfgRJNbF5"
      },
      "source": [
        "---\n",
        "\n",
        "[![Star our repository](https://img.shields.io/static/v1.svg?logo=star&label=⭐&message=Star%20Our%20Repository&color=yellow)](https://github.com/phlippe/uvadlc_notebooks/)  If you found this tutorial helpful, consider ⭐-ing our repository.    \n",
        "[![Ask questions](https://img.shields.io/static/v1.svg?logo=star&label=❔&message=Ask%20Questions&color=9cf)](https://github.com/phlippe/uvadlc_notebooks/issues)  For any questions, typos, or bugs that you found, please raise an issue on GitHub. \n",
        "\n",
        "---"
      ]
    }
  ],
  "metadata": {
    "accelerator": "GPU",
    "colab": {
      "provenance": [],
      "include_colab_link": true
    },
    "gpuClass": "standard",
    "kernelspec": {
      "display_name": "Python 3",
      "language": "python",
      "name": "python3"
    },
    "language_info": {
      "codemirror_mode": {
        "name": "ipython",
        "version": 3
      },
      "file_extension": ".py",
      "mimetype": "text/x-python",
      "name": "python",
      "nbconvert_exporter": "python",
      "pygments_lexer": "ipython3",
      "version": "3.7.9"
    },
    "widgets": {
      "application/vnd.jupyter.widget-state+json": {
        "0072322a9485421394ba3566fdeb841d": {
          "model_module": "@jupyter-widgets/controls",
          "model_module_version": "1.5.0",
          "model_name": "HTMLModel",
          "state": {
            "_dom_classes": [],
            "_model_module": "@jupyter-widgets/controls",
            "_model_module_version": "1.5.0",
            "_model_name": "HTMLModel",
            "_view_count": null,
            "_view_module": "@jupyter-widgets/controls",
            "_view_module_version": "1.5.0",
            "_view_name": "HTMLView",
            "description": "",
            "description_tooltip": null,
            "layout": "IPY_MODEL_1f358ae4dcbf45e4b1013245f5d953f4",
            "placeholder": "​",
            "style": "IPY_MODEL_b05ee9209c2145a88ed73e87436a3750",
            "value": "Testing DataLoader 0: 100%"
          }
        },
        "1f358ae4dcbf45e4b1013245f5d953f4": {
          "model_module": "@jupyter-widgets/base",
          "model_module_version": "1.2.0",
          "model_name": "LayoutModel",
          "state": {
            "_model_module": "@jupyter-widgets/base",
            "_model_module_version": "1.2.0",
            "_model_name": "LayoutModel",
            "_view_count": null,
            "_view_module": "@jupyter-widgets/base",
            "_view_module_version": "1.2.0",
            "_view_name": "LayoutView",
            "align_content": null,
            "align_items": null,
            "align_self": null,
            "border": null,
            "bottom": null,
            "display": null,
            "flex": null,
            "flex_flow": null,
            "grid_area": null,
            "grid_auto_columns": null,
            "grid_auto_flow": null,
            "grid_auto_rows": null,
            "grid_column": null,
            "grid_gap": null,
            "grid_row": null,
            "grid_template_areas": null,
            "grid_template_columns": null,
            "grid_template_rows": null,
            "height": null,
            "justify_content": null,
            "justify_items": null,
            "left": null,
            "margin": null,
            "max_height": null,
            "max_width": null,
            "min_height": null,
            "min_width": null,
            "object_fit": null,
            "object_position": null,
            "order": null,
            "overflow": null,
            "overflow_x": null,
            "overflow_y": null,
            "padding": null,
            "right": null,
            "top": null,
            "visibility": null,
            "width": null
          }
        },
        "278534174bf54680adf955206da0a888": {
          "model_module": "@jupyter-widgets/controls",
          "model_module_version": "1.5.0",
          "model_name": "DescriptionStyleModel",
          "state": {
            "_model_module": "@jupyter-widgets/controls",
            "_model_module_version": "1.5.0",
            "_model_name": "DescriptionStyleModel",
            "_view_count": null,
            "_view_module": "@jupyter-widgets/base",
            "_view_module_version": "1.2.0",
            "_view_name": "StyleView",
            "description_width": ""
          }
        },
        "30a96991930d43049d87315bd44a006a": {
          "model_module": "@jupyter-widgets/controls",
          "model_module_version": "1.5.0",
          "model_name": "DescriptionStyleModel",
          "state": {
            "_model_module": "@jupyter-widgets/controls",
            "_model_module_version": "1.5.0",
            "_model_name": "DescriptionStyleModel",
            "_view_count": null,
            "_view_module": "@jupyter-widgets/base",
            "_view_module_version": "1.2.0",
            "_view_name": "StyleView",
            "description_width": ""
          }
        },
        "5a5be4e471a44b24b7adbcc930f696bf": {
          "model_module": "@jupyter-widgets/base",
          "model_module_version": "1.2.0",
          "model_name": "LayoutModel",
          "state": {
            "_model_module": "@jupyter-widgets/base",
            "_model_module_version": "1.2.0",
            "_model_name": "LayoutModel",
            "_view_count": null,
            "_view_module": "@jupyter-widgets/base",
            "_view_module_version": "1.2.0",
            "_view_name": "LayoutView",
            "align_content": null,
            "align_items": null,
            "align_self": null,
            "border": null,
            "bottom": null,
            "display": null,
            "flex": null,
            "flex_flow": null,
            "grid_area": null,
            "grid_auto_columns": null,
            "grid_auto_flow": null,
            "grid_auto_rows": null,
            "grid_column": null,
            "grid_gap": null,
            "grid_row": null,
            "grid_template_areas": null,
            "grid_template_columns": null,
            "grid_template_rows": null,
            "height": null,
            "justify_content": null,
            "justify_items": null,
            "left": null,
            "margin": null,
            "max_height": null,
            "max_width": null,
            "min_height": null,
            "min_width": null,
            "object_fit": null,
            "object_position": null,
            "order": null,
            "overflow": null,
            "overflow_x": null,
            "overflow_y": null,
            "padding": null,
            "right": null,
            "top": null,
            "visibility": null,
            "width": null
          }
        },
        "6606a4cd58c1444a8a2d055bd8371d51": {
          "model_module": "@jupyter-widgets/base",
          "model_module_version": "1.2.0",
          "model_name": "LayoutModel",
          "state": {
            "_model_module": "@jupyter-widgets/base",
            "_model_module_version": "1.2.0",
            "_model_name": "LayoutModel",
            "_view_count": null,
            "_view_module": "@jupyter-widgets/base",
            "_view_module_version": "1.2.0",
            "_view_name": "LayoutView",
            "align_content": null,
            "align_items": null,
            "align_self": null,
            "border": null,
            "bottom": null,
            "display": "inline-flex",
            "flex": null,
            "flex_flow": "row wrap",
            "grid_area": null,
            "grid_auto_columns": null,
            "grid_auto_flow": null,
            "grid_auto_rows": null,
            "grid_column": null,
            "grid_gap": null,
            "grid_row": null,
            "grid_template_areas": null,
            "grid_template_columns": null,
            "grid_template_rows": null,
            "height": null,
            "justify_content": null,
            "justify_items": null,
            "left": null,
            "margin": null,
            "max_height": null,
            "max_width": null,
            "min_height": null,
            "min_width": null,
            "object_fit": null,
            "object_position": null,
            "order": null,
            "overflow": null,
            "overflow_x": null,
            "overflow_y": null,
            "padding": null,
            "right": null,
            "top": null,
            "visibility": null,
            "width": "100%"
          }
        },
        "6af26a79678743dbade4e734678ed99a": {
          "model_module": "@jupyter-widgets/controls",
          "model_module_version": "1.5.0",
          "model_name": "HBoxModel",
          "state": {
            "_dom_classes": [],
            "_model_module": "@jupyter-widgets/controls",
            "_model_module_version": "1.5.0",
            "_model_name": "HBoxModel",
            "_view_count": null,
            "_view_module": "@jupyter-widgets/controls",
            "_view_module_version": "1.5.0",
            "_view_name": "HBoxView",
            "box_style": "",
            "children": [
              "IPY_MODEL_d9aa4471e39b4110bf2ada1c35ad9b83",
              "IPY_MODEL_a49770b3cc104818a5d59014cb34dda5",
              "IPY_MODEL_95d01f7db11e4fe7bbee93ac62b3edee"
            ],
            "layout": "IPY_MODEL_6606a4cd58c1444a8a2d055bd8371d51"
          }
        },
        "7d9ff2e8a9f94a92aeb73e6b78d37ea1": {
          "model_module": "@jupyter-widgets/controls",
          "model_module_version": "1.5.0",
          "model_name": "FloatProgressModel",
          "state": {
            "_dom_classes": [],
            "_model_module": "@jupyter-widgets/controls",
            "_model_module_version": "1.5.0",
            "_model_name": "FloatProgressModel",
            "_view_count": null,
            "_view_module": "@jupyter-widgets/controls",
            "_view_module_version": "1.5.0",
            "_view_name": "ProgressView",
            "bar_style": "success",
            "description": "",
            "description_tooltip": null,
            "layout": "IPY_MODEL_c39df9f7946447098962f220d8189289",
            "max": 40,
            "min": 0,
            "orientation": "horizontal",
            "style": "IPY_MODEL_d90c742ac0424c76ae40482a7f6efa62",
            "value": 40
          }
        },
        "8efea1ac83f34b5a83c69c0f050139b9": {
          "model_module": "@jupyter-widgets/controls",
          "model_module_version": "1.5.0",
          "model_name": "HBoxModel",
          "state": {
            "_dom_classes": [],
            "_model_module": "@jupyter-widgets/controls",
            "_model_module_version": "1.5.0",
            "_model_name": "HBoxModel",
            "_view_count": null,
            "_view_module": "@jupyter-widgets/controls",
            "_view_module_version": "1.5.0",
            "_view_name": "HBoxView",
            "box_style": "",
            "children": [
              "IPY_MODEL_0072322a9485421394ba3566fdeb841d",
              "IPY_MODEL_7d9ff2e8a9f94a92aeb73e6b78d37ea1",
              "IPY_MODEL_d1575ab1d84a46e5922ff15000d5951f"
            ],
            "layout": "IPY_MODEL_b1ee6814791e4628960699d7fc198986"
          }
        },
        "94854a70485748fba7af5bd76e5efb8c": {
          "model_module": "@jupyter-widgets/base",
          "model_module_version": "1.2.0",
          "model_name": "LayoutModel",
          "state": {
            "_model_module": "@jupyter-widgets/base",
            "_model_module_version": "1.2.0",
            "_model_name": "LayoutModel",
            "_view_count": null,
            "_view_module": "@jupyter-widgets/base",
            "_view_module_version": "1.2.0",
            "_view_name": "LayoutView",
            "align_content": null,
            "align_items": null,
            "align_self": null,
            "border": null,
            "bottom": null,
            "display": null,
            "flex": null,
            "flex_flow": null,
            "grid_area": null,
            "grid_auto_columns": null,
            "grid_auto_flow": null,
            "grid_auto_rows": null,
            "grid_column": null,
            "grid_gap": null,
            "grid_row": null,
            "grid_template_areas": null,
            "grid_template_columns": null,
            "grid_template_rows": null,
            "height": null,
            "justify_content": null,
            "justify_items": null,
            "left": null,
            "margin": null,
            "max_height": null,
            "max_width": null,
            "min_height": null,
            "min_width": null,
            "object_fit": null,
            "object_position": null,
            "order": null,
            "overflow": null,
            "overflow_x": null,
            "overflow_y": null,
            "padding": null,
            "right": null,
            "top": null,
            "visibility": null,
            "width": null
          }
        },
        "95d01f7db11e4fe7bbee93ac62b3edee": {
          "model_module": "@jupyter-widgets/controls",
          "model_module_version": "1.5.0",
          "model_name": "HTMLModel",
          "state": {
            "_dom_classes": [],
            "_model_module": "@jupyter-widgets/controls",
            "_model_module_version": "1.5.0",
            "_model_name": "HTMLModel",
            "_view_count": null,
            "_view_module": "@jupyter-widgets/controls",
            "_view_module_version": "1.5.0",
            "_view_name": "HTMLView",
            "description": "",
            "description_tooltip": null,
            "layout": "IPY_MODEL_5a5be4e471a44b24b7adbcc930f696bf",
            "placeholder": "​",
            "style": "IPY_MODEL_278534174bf54680adf955206da0a888",
            "value": " 79/79 [00:32&lt;00:00,  2.46it/s]"
          }
        },
        "a49770b3cc104818a5d59014cb34dda5": {
          "model_module": "@jupyter-widgets/controls",
          "model_module_version": "1.5.0",
          "model_name": "FloatProgressModel",
          "state": {
            "_dom_classes": [],
            "_model_module": "@jupyter-widgets/controls",
            "_model_module_version": "1.5.0",
            "_model_name": "FloatProgressModel",
            "_view_count": null,
            "_view_module": "@jupyter-widgets/controls",
            "_view_module_version": "1.5.0",
            "_view_name": "ProgressView",
            "bar_style": "success",
            "description": "",
            "description_tooltip": null,
            "layout": "IPY_MODEL_ca6ab497cc684b6389122bc17a7df902",
            "max": 79,
            "min": 0,
            "orientation": "horizontal",
            "style": "IPY_MODEL_d8a4c720f1114ae3aff389f2e6d8c9ca",
            "value": 79
          }
        },
        "b05ee9209c2145a88ed73e87436a3750": {
          "model_module": "@jupyter-widgets/controls",
          "model_module_version": "1.5.0",
          "model_name": "DescriptionStyleModel",
          "state": {
            "_model_module": "@jupyter-widgets/controls",
            "_model_module_version": "1.5.0",
            "_model_name": "DescriptionStyleModel",
            "_view_count": null,
            "_view_module": "@jupyter-widgets/base",
            "_view_module_version": "1.2.0",
            "_view_name": "StyleView",
            "description_width": ""
          }
        },
        "b1ee6814791e4628960699d7fc198986": {
          "model_module": "@jupyter-widgets/base",
          "model_module_version": "1.2.0",
          "model_name": "LayoutModel",
          "state": {
            "_model_module": "@jupyter-widgets/base",
            "_model_module_version": "1.2.0",
            "_model_name": "LayoutModel",
            "_view_count": null,
            "_view_module": "@jupyter-widgets/base",
            "_view_module_version": "1.2.0",
            "_view_name": "LayoutView",
            "align_content": null,
            "align_items": null,
            "align_self": null,
            "border": null,
            "bottom": null,
            "display": "inline-flex",
            "flex": null,
            "flex_flow": "row wrap",
            "grid_area": null,
            "grid_auto_columns": null,
            "grid_auto_flow": null,
            "grid_auto_rows": null,
            "grid_column": null,
            "grid_gap": null,
            "grid_row": null,
            "grid_template_areas": null,
            "grid_template_columns": null,
            "grid_template_rows": null,
            "height": null,
            "justify_content": null,
            "justify_items": null,
            "left": null,
            "margin": null,
            "max_height": null,
            "max_width": null,
            "min_height": null,
            "min_width": null,
            "object_fit": null,
            "object_position": null,
            "order": null,
            "overflow": null,
            "overflow_x": null,
            "overflow_y": null,
            "padding": null,
            "right": null,
            "top": null,
            "visibility": null,
            "width": "100%"
          }
        },
        "c39df9f7946447098962f220d8189289": {
          "model_module": "@jupyter-widgets/base",
          "model_module_version": "1.2.0",
          "model_name": "LayoutModel",
          "state": {
            "_model_module": "@jupyter-widgets/base",
            "_model_module_version": "1.2.0",
            "_model_name": "LayoutModel",
            "_view_count": null,
            "_view_module": "@jupyter-widgets/base",
            "_view_module_version": "1.2.0",
            "_view_name": "LayoutView",
            "align_content": null,
            "align_items": null,
            "align_self": null,
            "border": null,
            "bottom": null,
            "display": null,
            "flex": "2",
            "flex_flow": null,
            "grid_area": null,
            "grid_auto_columns": null,
            "grid_auto_flow": null,
            "grid_auto_rows": null,
            "grid_column": null,
            "grid_gap": null,
            "grid_row": null,
            "grid_template_areas": null,
            "grid_template_columns": null,
            "grid_template_rows": null,
            "height": null,
            "justify_content": null,
            "justify_items": null,
            "left": null,
            "margin": null,
            "max_height": null,
            "max_width": null,
            "min_height": null,
            "min_width": null,
            "object_fit": null,
            "object_position": null,
            "order": null,
            "overflow": null,
            "overflow_x": null,
            "overflow_y": null,
            "padding": null,
            "right": null,
            "top": null,
            "visibility": null,
            "width": null
          }
        },
        "ca6ab497cc684b6389122bc17a7df902": {
          "model_module": "@jupyter-widgets/base",
          "model_module_version": "1.2.0",
          "model_name": "LayoutModel",
          "state": {
            "_model_module": "@jupyter-widgets/base",
            "_model_module_version": "1.2.0",
            "_model_name": "LayoutModel",
            "_view_count": null,
            "_view_module": "@jupyter-widgets/base",
            "_view_module_version": "1.2.0",
            "_view_name": "LayoutView",
            "align_content": null,
            "align_items": null,
            "align_self": null,
            "border": null,
            "bottom": null,
            "display": null,
            "flex": "2",
            "flex_flow": null,
            "grid_area": null,
            "grid_auto_columns": null,
            "grid_auto_flow": null,
            "grid_auto_rows": null,
            "grid_column": null,
            "grid_gap": null,
            "grid_row": null,
            "grid_template_areas": null,
            "grid_template_columns": null,
            "grid_template_rows": null,
            "height": null,
            "justify_content": null,
            "justify_items": null,
            "left": null,
            "margin": null,
            "max_height": null,
            "max_width": null,
            "min_height": null,
            "min_width": null,
            "object_fit": null,
            "object_position": null,
            "order": null,
            "overflow": null,
            "overflow_x": null,
            "overflow_y": null,
            "padding": null,
            "right": null,
            "top": null,
            "visibility": null,
            "width": null
          }
        },
        "d1575ab1d84a46e5922ff15000d5951f": {
          "model_module": "@jupyter-widgets/controls",
          "model_module_version": "1.5.0",
          "model_name": "HTMLModel",
          "state": {
            "_dom_classes": [],
            "_model_module": "@jupyter-widgets/controls",
            "_model_module_version": "1.5.0",
            "_model_name": "HTMLModel",
            "_view_count": null,
            "_view_module": "@jupyter-widgets/controls",
            "_view_module_version": "1.5.0",
            "_view_name": "HTMLView",
            "description": "",
            "description_tooltip": null,
            "layout": "IPY_MODEL_94854a70485748fba7af5bd76e5efb8c",
            "placeholder": "​",
            "style": "IPY_MODEL_30a96991930d43049d87315bd44a006a",
            "value": " 40/40 [00:17&lt;00:00,  2.25it/s]"
          }
        },
        "d8a4c720f1114ae3aff389f2e6d8c9ca": {
          "model_module": "@jupyter-widgets/controls",
          "model_module_version": "1.5.0",
          "model_name": "ProgressStyleModel",
          "state": {
            "_model_module": "@jupyter-widgets/controls",
            "_model_module_version": "1.5.0",
            "_model_name": "ProgressStyleModel",
            "_view_count": null,
            "_view_module": "@jupyter-widgets/base",
            "_view_module_version": "1.2.0",
            "_view_name": "StyleView",
            "bar_color": null,
            "description_width": ""
          }
        },
        "d90c742ac0424c76ae40482a7f6efa62": {
          "model_module": "@jupyter-widgets/controls",
          "model_module_version": "1.5.0",
          "model_name": "ProgressStyleModel",
          "state": {
            "_model_module": "@jupyter-widgets/controls",
            "_model_module_version": "1.5.0",
            "_model_name": "ProgressStyleModel",
            "_view_count": null,
            "_view_module": "@jupyter-widgets/base",
            "_view_module_version": "1.2.0",
            "_view_name": "StyleView",
            "bar_color": null,
            "description_width": ""
          }
        },
        "d9aa4471e39b4110bf2ada1c35ad9b83": {
          "model_module": "@jupyter-widgets/controls",
          "model_module_version": "1.5.0",
          "model_name": "HTMLModel",
          "state": {
            "_dom_classes": [],
            "_model_module": "@jupyter-widgets/controls",
            "_model_module_version": "1.5.0",
            "_model_name": "HTMLModel",
            "_view_count": null,
            "_view_module": "@jupyter-widgets/controls",
            "_view_module_version": "1.5.0",
            "_view_name": "HTMLView",
            "description": "",
            "description_tooltip": null,
            "layout": "IPY_MODEL_f9d70ca0b81045b6a1ddac4b3051b8fe",
            "placeholder": "​",
            "style": "IPY_MODEL_ec5ae1ac5ff9497fabdd711758022f5e",
            "value": "Testing DataLoader 0: 100%"
          }
        },
        "ec5ae1ac5ff9497fabdd711758022f5e": {
          "model_module": "@jupyter-widgets/controls",
          "model_module_version": "1.5.0",
          "model_name": "DescriptionStyleModel",
          "state": {
            "_model_module": "@jupyter-widgets/controls",
            "_model_module_version": "1.5.0",
            "_model_name": "DescriptionStyleModel",
            "_view_count": null,
            "_view_module": "@jupyter-widgets/base",
            "_view_module_version": "1.2.0",
            "_view_name": "StyleView",
            "description_width": ""
          }
        },
        "f9d70ca0b81045b6a1ddac4b3051b8fe": {
          "model_module": "@jupyter-widgets/base",
          "model_module_version": "1.2.0",
          "model_name": "LayoutModel",
          "state": {
            "_model_module": "@jupyter-widgets/base",
            "_model_module_version": "1.2.0",
            "_model_name": "LayoutModel",
            "_view_count": null,
            "_view_module": "@jupyter-widgets/base",
            "_view_module_version": "1.2.0",
            "_view_name": "LayoutView",
            "align_content": null,
            "align_items": null,
            "align_self": null,
            "border": null,
            "bottom": null,
            "display": null,
            "flex": null,
            "flex_flow": null,
            "grid_area": null,
            "grid_auto_columns": null,
            "grid_auto_flow": null,
            "grid_auto_rows": null,
            "grid_column": null,
            "grid_gap": null,
            "grid_row": null,
            "grid_template_areas": null,
            "grid_template_columns": null,
            "grid_template_rows": null,
            "height": null,
            "justify_content": null,
            "justify_items": null,
            "left": null,
            "margin": null,
            "max_height": null,
            "max_width": null,
            "min_height": null,
            "min_width": null,
            "object_fit": null,
            "object_position": null,
            "order": null,
            "overflow": null,
            "overflow_x": null,
            "overflow_y": null,
            "padding": null,
            "right": null,
            "top": null,
            "visibility": null,
            "width": null
          }
        }
      }
    }
  },
  "nbformat": 4,
  "nbformat_minor": 0
}